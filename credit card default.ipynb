{
 "cells": [
  {
   "cell_type": "markdown",
   "metadata": {
    "id": "5iuRcAZjrNVX"
   },
   "source": [
    "# 1 - Perkenalan"
   ]
  },
  {
   "attachments": {},
   "cell_type": "markdown",
   "metadata": {
    "id": "Ty8ZPDKSrR5D"
   },
   "source": [
    "Nama : Muhamad Fandhi \n",
    "\n",
    "Batch : HCK - 003\n",
    "\n",
    "Dataset : Bank Customer Churn Dataset\n",
    "\n",
    "Objective : Creating a model for predicting whether Bank ABC's costumers will churn or not based on the customers' behaviors.\n",
    "\n",
    "Dataset URL :\n",
    "``\n",
    "https://www.kaggle.com/datasets/gauravtopre/bank-customer-churn-dataset\n",
    "``\n",
    "\n",
    "Deployment URL :\n",
    "``\n",
    "https://huggingface.co/spaces/mfandhi/milestone2\n",
    "``"
   ]
  },
  {
   "cell_type": "markdown",
   "metadata": {
    "id": "QMO5-0oCrd_8"
   },
   "source": [
    "# 2 - Import Libraries"
   ]
  },
  {
   "cell_type": "code",
   "execution_count": 1,
   "metadata": {
    "id": "jpgVz0BXrgmi"
   },
   "outputs": [],
   "source": [
    "# Import Libraries\n",
    "\n",
    "import pandas as pd\n",
    "import numpy as np\n",
    "import seaborn as sns\n",
    "import matplotlib.pyplot as plt\n",
    "import phik\n",
    "from sklearn.model_selection import train_test_split\n",
    "from sklearn.compose import ColumnTransformer\n",
    "from feature_engine.transformation import BoxCoxTransformer\n",
    "from sklearn.pipeline import Pipeline\n",
    "from sklearn.preprocessing import StandardScaler, OrdinalEncoder\n",
    "from statsmodels.stats.outliers_influence import variance_inflation_factor\n",
    "from sklearn.linear_model import LogisticRegression\n",
    "from sklearn.svm import SVC\n",
    "from sklearn.naive_bayes import GaussianNB\n",
    "from sklearn.neighbors import KNeighborsClassifier\n",
    "from sklearn.tree import DecisionTreeClassifier\n",
    "from sklearn.ensemble import RandomForestClassifier, GradientBoostingClassifier, AdaBoostClassifier\n",
    "from sklearn.model_selection import cross_val_score, RandomizedSearchCV, StratifiedKFold\n",
    "from sklearn.metrics import accuracy_score,precision_score,recall_score,f1_score,classification_report,ConfusionMatrixDisplay,confusion_matrix\n",
    "import pickle\n",
    "import warnings\n",
    "warnings.simplefilter(\"ignore\")"
   ]
  },
  {
   "cell_type": "markdown",
   "metadata": {
    "id": "5KMpETCZr8bw"
   },
   "source": [
    "# 3 - Data Loading"
   ]
  },
  {
   "attachments": {},
   "cell_type": "markdown",
   "metadata": {},
   "source": [
    "Importing dataset csv file."
   ]
  },
  {
   "cell_type": "code",
   "execution_count": 2,
   "metadata": {
    "colab": {
     "base_uri": "https://localhost:8080/",
     "height": 540
    },
    "id": "82KtCauTsD3Y",
    "outputId": "5391cbfb-3f95-42f5-dda8-59971e98c7d9"
   },
   "outputs": [
    {
     "data": {
      "text/html": [
       "<div>\n",
       "<style scoped>\n",
       "    .dataframe tbody tr th:only-of-type {\n",
       "        vertical-align: middle;\n",
       "    }\n",
       "\n",
       "    .dataframe tbody tr th {\n",
       "        vertical-align: top;\n",
       "    }\n",
       "\n",
       "    .dataframe thead th {\n",
       "        text-align: right;\n",
       "    }\n",
       "</style>\n",
       "<table border=\"1\" class=\"dataframe\">\n",
       "  <thead>\n",
       "    <tr style=\"text-align: right;\">\n",
       "      <th></th>\n",
       "      <th>customer_id</th>\n",
       "      <th>credit_score</th>\n",
       "      <th>country</th>\n",
       "      <th>gender</th>\n",
       "      <th>age</th>\n",
       "      <th>tenure</th>\n",
       "      <th>balance</th>\n",
       "      <th>products_number</th>\n",
       "      <th>credit_card</th>\n",
       "      <th>active_member</th>\n",
       "      <th>estimated_salary</th>\n",
       "      <th>churn</th>\n",
       "    </tr>\n",
       "  </thead>\n",
       "  <tbody>\n",
       "    <tr>\n",
       "      <th>0</th>\n",
       "      <td>15634602</td>\n",
       "      <td>619</td>\n",
       "      <td>France</td>\n",
       "      <td>Female</td>\n",
       "      <td>42</td>\n",
       "      <td>2</td>\n",
       "      <td>0.00</td>\n",
       "      <td>1</td>\n",
       "      <td>1</td>\n",
       "      <td>1</td>\n",
       "      <td>101348.88</td>\n",
       "      <td>1</td>\n",
       "    </tr>\n",
       "    <tr>\n",
       "      <th>1</th>\n",
       "      <td>15647311</td>\n",
       "      <td>608</td>\n",
       "      <td>Spain</td>\n",
       "      <td>Female</td>\n",
       "      <td>41</td>\n",
       "      <td>1</td>\n",
       "      <td>83807.86</td>\n",
       "      <td>1</td>\n",
       "      <td>0</td>\n",
       "      <td>1</td>\n",
       "      <td>112542.58</td>\n",
       "      <td>0</td>\n",
       "    </tr>\n",
       "    <tr>\n",
       "      <th>2</th>\n",
       "      <td>15619304</td>\n",
       "      <td>502</td>\n",
       "      <td>France</td>\n",
       "      <td>Female</td>\n",
       "      <td>42</td>\n",
       "      <td>8</td>\n",
       "      <td>159660.80</td>\n",
       "      <td>3</td>\n",
       "      <td>1</td>\n",
       "      <td>0</td>\n",
       "      <td>113931.57</td>\n",
       "      <td>1</td>\n",
       "    </tr>\n",
       "    <tr>\n",
       "      <th>3</th>\n",
       "      <td>15701354</td>\n",
       "      <td>699</td>\n",
       "      <td>France</td>\n",
       "      <td>Female</td>\n",
       "      <td>39</td>\n",
       "      <td>1</td>\n",
       "      <td>0.00</td>\n",
       "      <td>2</td>\n",
       "      <td>0</td>\n",
       "      <td>0</td>\n",
       "      <td>93826.63</td>\n",
       "      <td>0</td>\n",
       "    </tr>\n",
       "    <tr>\n",
       "      <th>4</th>\n",
       "      <td>15737888</td>\n",
       "      <td>850</td>\n",
       "      <td>Spain</td>\n",
       "      <td>Female</td>\n",
       "      <td>43</td>\n",
       "      <td>2</td>\n",
       "      <td>125510.82</td>\n",
       "      <td>1</td>\n",
       "      <td>1</td>\n",
       "      <td>1</td>\n",
       "      <td>79084.10</td>\n",
       "      <td>0</td>\n",
       "    </tr>\n",
       "    <tr>\n",
       "      <th>...</th>\n",
       "      <td>...</td>\n",
       "      <td>...</td>\n",
       "      <td>...</td>\n",
       "      <td>...</td>\n",
       "      <td>...</td>\n",
       "      <td>...</td>\n",
       "      <td>...</td>\n",
       "      <td>...</td>\n",
       "      <td>...</td>\n",
       "      <td>...</td>\n",
       "      <td>...</td>\n",
       "      <td>...</td>\n",
       "    </tr>\n",
       "    <tr>\n",
       "      <th>9995</th>\n",
       "      <td>15606229</td>\n",
       "      <td>771</td>\n",
       "      <td>France</td>\n",
       "      <td>Male</td>\n",
       "      <td>39</td>\n",
       "      <td>5</td>\n",
       "      <td>0.00</td>\n",
       "      <td>2</td>\n",
       "      <td>1</td>\n",
       "      <td>0</td>\n",
       "      <td>96270.64</td>\n",
       "      <td>0</td>\n",
       "    </tr>\n",
       "    <tr>\n",
       "      <th>9996</th>\n",
       "      <td>15569892</td>\n",
       "      <td>516</td>\n",
       "      <td>France</td>\n",
       "      <td>Male</td>\n",
       "      <td>35</td>\n",
       "      <td>10</td>\n",
       "      <td>57369.61</td>\n",
       "      <td>1</td>\n",
       "      <td>1</td>\n",
       "      <td>1</td>\n",
       "      <td>101699.77</td>\n",
       "      <td>0</td>\n",
       "    </tr>\n",
       "    <tr>\n",
       "      <th>9997</th>\n",
       "      <td>15584532</td>\n",
       "      <td>709</td>\n",
       "      <td>France</td>\n",
       "      <td>Female</td>\n",
       "      <td>36</td>\n",
       "      <td>7</td>\n",
       "      <td>0.00</td>\n",
       "      <td>1</td>\n",
       "      <td>0</td>\n",
       "      <td>1</td>\n",
       "      <td>42085.58</td>\n",
       "      <td>1</td>\n",
       "    </tr>\n",
       "    <tr>\n",
       "      <th>9998</th>\n",
       "      <td>15682355</td>\n",
       "      <td>772</td>\n",
       "      <td>Germany</td>\n",
       "      <td>Male</td>\n",
       "      <td>42</td>\n",
       "      <td>3</td>\n",
       "      <td>75075.31</td>\n",
       "      <td>2</td>\n",
       "      <td>1</td>\n",
       "      <td>0</td>\n",
       "      <td>92888.52</td>\n",
       "      <td>1</td>\n",
       "    </tr>\n",
       "    <tr>\n",
       "      <th>9999</th>\n",
       "      <td>15628319</td>\n",
       "      <td>792</td>\n",
       "      <td>France</td>\n",
       "      <td>Female</td>\n",
       "      <td>28</td>\n",
       "      <td>4</td>\n",
       "      <td>130142.79</td>\n",
       "      <td>1</td>\n",
       "      <td>1</td>\n",
       "      <td>0</td>\n",
       "      <td>38190.78</td>\n",
       "      <td>0</td>\n",
       "    </tr>\n",
       "  </tbody>\n",
       "</table>\n",
       "<p>10000 rows × 12 columns</p>\n",
       "</div>"
      ],
      "text/plain": [
       "      customer_id  credit_score  country  gender  age  tenure    balance  \\\n",
       "0        15634602           619   France  Female   42       2       0.00   \n",
       "1        15647311           608    Spain  Female   41       1   83807.86   \n",
       "2        15619304           502   France  Female   42       8  159660.80   \n",
       "3        15701354           699   France  Female   39       1       0.00   \n",
       "4        15737888           850    Spain  Female   43       2  125510.82   \n",
       "...           ...           ...      ...     ...  ...     ...        ...   \n",
       "9995     15606229           771   France    Male   39       5       0.00   \n",
       "9996     15569892           516   France    Male   35      10   57369.61   \n",
       "9997     15584532           709   France  Female   36       7       0.00   \n",
       "9998     15682355           772  Germany    Male   42       3   75075.31   \n",
       "9999     15628319           792   France  Female   28       4  130142.79   \n",
       "\n",
       "      products_number  credit_card  active_member  estimated_salary  churn  \n",
       "0                   1            1              1         101348.88      1  \n",
       "1                   1            0              1         112542.58      0  \n",
       "2                   3            1              0         113931.57      1  \n",
       "3                   2            0              0          93826.63      0  \n",
       "4                   1            1              1          79084.10      0  \n",
       "...               ...          ...            ...               ...    ...  \n",
       "9995                2            1              0          96270.64      0  \n",
       "9996                1            1              1         101699.77      0  \n",
       "9997                1            0              1          42085.58      1  \n",
       "9998                2            1              0          92888.52      1  \n",
       "9999                1            1              0          38190.78      0  \n",
       "\n",
       "[10000 rows x 12 columns]"
      ]
     },
     "execution_count": 2,
     "metadata": {},
     "output_type": "execute_result"
    }
   ],
   "source": [
    "# Load Dataset\n",
    "\n",
    "df_ori = pd.read_csv('h8dsft_Milestone2P1_muhamad-fandhi.csv')\n",
    "df = df_ori.copy() # copying dataset\n",
    "df"
   ]
  },
  {
   "cell_type": "code",
   "execution_count": 3,
   "metadata": {},
   "outputs": [
    {
     "data": {
      "text/html": [
       "<div>\n",
       "<style scoped>\n",
       "    .dataframe tbody tr th:only-of-type {\n",
       "        vertical-align: middle;\n",
       "    }\n",
       "\n",
       "    .dataframe tbody tr th {\n",
       "        vertical-align: top;\n",
       "    }\n",
       "\n",
       "    .dataframe thead th {\n",
       "        text-align: right;\n",
       "    }\n",
       "</style>\n",
       "<table border=\"1\" class=\"dataframe\">\n",
       "  <thead>\n",
       "    <tr style=\"text-align: right;\">\n",
       "      <th></th>\n",
       "      <th>customer_id</th>\n",
       "      <th>credit_score</th>\n",
       "      <th>country</th>\n",
       "      <th>gender</th>\n",
       "      <th>age</th>\n",
       "      <th>tenure</th>\n",
       "      <th>balance</th>\n",
       "      <th>products_number</th>\n",
       "      <th>credit_card</th>\n",
       "      <th>active_member</th>\n",
       "      <th>estimated_salary</th>\n",
       "      <th>churn</th>\n",
       "    </tr>\n",
       "  </thead>\n",
       "  <tbody>\n",
       "    <tr>\n",
       "      <th>0</th>\n",
       "      <td>15634602</td>\n",
       "      <td>619</td>\n",
       "      <td>France</td>\n",
       "      <td>Female</td>\n",
       "      <td>42</td>\n",
       "      <td>2</td>\n",
       "      <td>0.00</td>\n",
       "      <td>1</td>\n",
       "      <td>1</td>\n",
       "      <td>1</td>\n",
       "      <td>101348.88</td>\n",
       "      <td>1</td>\n",
       "    </tr>\n",
       "    <tr>\n",
       "      <th>1</th>\n",
       "      <td>15647311</td>\n",
       "      <td>608</td>\n",
       "      <td>Spain</td>\n",
       "      <td>Female</td>\n",
       "      <td>41</td>\n",
       "      <td>1</td>\n",
       "      <td>83807.86</td>\n",
       "      <td>1</td>\n",
       "      <td>0</td>\n",
       "      <td>1</td>\n",
       "      <td>112542.58</td>\n",
       "      <td>0</td>\n",
       "    </tr>\n",
       "    <tr>\n",
       "      <th>2</th>\n",
       "      <td>15619304</td>\n",
       "      <td>502</td>\n",
       "      <td>France</td>\n",
       "      <td>Female</td>\n",
       "      <td>42</td>\n",
       "      <td>8</td>\n",
       "      <td>159660.80</td>\n",
       "      <td>3</td>\n",
       "      <td>1</td>\n",
       "      <td>0</td>\n",
       "      <td>113931.57</td>\n",
       "      <td>1</td>\n",
       "    </tr>\n",
       "    <tr>\n",
       "      <th>3</th>\n",
       "      <td>15701354</td>\n",
       "      <td>699</td>\n",
       "      <td>France</td>\n",
       "      <td>Female</td>\n",
       "      <td>39</td>\n",
       "      <td>1</td>\n",
       "      <td>0.00</td>\n",
       "      <td>2</td>\n",
       "      <td>0</td>\n",
       "      <td>0</td>\n",
       "      <td>93826.63</td>\n",
       "      <td>0</td>\n",
       "    </tr>\n",
       "    <tr>\n",
       "      <th>4</th>\n",
       "      <td>15737888</td>\n",
       "      <td>850</td>\n",
       "      <td>Spain</td>\n",
       "      <td>Female</td>\n",
       "      <td>43</td>\n",
       "      <td>2</td>\n",
       "      <td>125510.82</td>\n",
       "      <td>1</td>\n",
       "      <td>1</td>\n",
       "      <td>1</td>\n",
       "      <td>79084.10</td>\n",
       "      <td>0</td>\n",
       "    </tr>\n",
       "    <tr>\n",
       "      <th>5</th>\n",
       "      <td>15574012</td>\n",
       "      <td>645</td>\n",
       "      <td>Spain</td>\n",
       "      <td>Male</td>\n",
       "      <td>44</td>\n",
       "      <td>8</td>\n",
       "      <td>113755.78</td>\n",
       "      <td>2</td>\n",
       "      <td>1</td>\n",
       "      <td>0</td>\n",
       "      <td>149756.71</td>\n",
       "      <td>1</td>\n",
       "    </tr>\n",
       "    <tr>\n",
       "      <th>6</th>\n",
       "      <td>15592531</td>\n",
       "      <td>822</td>\n",
       "      <td>France</td>\n",
       "      <td>Male</td>\n",
       "      <td>50</td>\n",
       "      <td>7</td>\n",
       "      <td>0.00</td>\n",
       "      <td>2</td>\n",
       "      <td>1</td>\n",
       "      <td>1</td>\n",
       "      <td>10062.80</td>\n",
       "      <td>0</td>\n",
       "    </tr>\n",
       "    <tr>\n",
       "      <th>7</th>\n",
       "      <td>15656148</td>\n",
       "      <td>376</td>\n",
       "      <td>Germany</td>\n",
       "      <td>Female</td>\n",
       "      <td>29</td>\n",
       "      <td>4</td>\n",
       "      <td>115046.74</td>\n",
       "      <td>4</td>\n",
       "      <td>1</td>\n",
       "      <td>0</td>\n",
       "      <td>119346.88</td>\n",
       "      <td>1</td>\n",
       "    </tr>\n",
       "    <tr>\n",
       "      <th>8</th>\n",
       "      <td>15792365</td>\n",
       "      <td>501</td>\n",
       "      <td>France</td>\n",
       "      <td>Male</td>\n",
       "      <td>44</td>\n",
       "      <td>4</td>\n",
       "      <td>142051.07</td>\n",
       "      <td>2</td>\n",
       "      <td>0</td>\n",
       "      <td>1</td>\n",
       "      <td>74940.50</td>\n",
       "      <td>0</td>\n",
       "    </tr>\n",
       "    <tr>\n",
       "      <th>9</th>\n",
       "      <td>15592389</td>\n",
       "      <td>684</td>\n",
       "      <td>France</td>\n",
       "      <td>Male</td>\n",
       "      <td>27</td>\n",
       "      <td>2</td>\n",
       "      <td>134603.88</td>\n",
       "      <td>1</td>\n",
       "      <td>1</td>\n",
       "      <td>1</td>\n",
       "      <td>71725.73</td>\n",
       "      <td>0</td>\n",
       "    </tr>\n",
       "  </tbody>\n",
       "</table>\n",
       "</div>"
      ],
      "text/plain": [
       "   customer_id  credit_score  country  gender  age  tenure    balance  \\\n",
       "0     15634602           619   France  Female   42       2       0.00   \n",
       "1     15647311           608    Spain  Female   41       1   83807.86   \n",
       "2     15619304           502   France  Female   42       8  159660.80   \n",
       "3     15701354           699   France  Female   39       1       0.00   \n",
       "4     15737888           850    Spain  Female   43       2  125510.82   \n",
       "5     15574012           645    Spain    Male   44       8  113755.78   \n",
       "6     15592531           822   France    Male   50       7       0.00   \n",
       "7     15656148           376  Germany  Female   29       4  115046.74   \n",
       "8     15792365           501   France    Male   44       4  142051.07   \n",
       "9     15592389           684   France    Male   27       2  134603.88   \n",
       "\n",
       "   products_number  credit_card  active_member  estimated_salary  churn  \n",
       "0                1            1              1         101348.88      1  \n",
       "1                1            0              1         112542.58      0  \n",
       "2                3            1              0         113931.57      1  \n",
       "3                2            0              0          93826.63      0  \n",
       "4                1            1              1          79084.10      0  \n",
       "5                2            1              0         149756.71      1  \n",
       "6                2            1              1          10062.80      0  \n",
       "7                4            1              0         119346.88      1  \n",
       "8                2            0              1          74940.50      0  \n",
       "9                1            1              1          71725.73      0  "
      ]
     },
     "execution_count": 3,
     "metadata": {},
     "output_type": "execute_result"
    }
   ],
   "source": [
    "# Showing first 10 of dataset\n",
    "\n",
    "df.head(10)"
   ]
  },
  {
   "cell_type": "code",
   "execution_count": 4,
   "metadata": {},
   "outputs": [
    {
     "data": {
      "text/html": [
       "<div>\n",
       "<style scoped>\n",
       "    .dataframe tbody tr th:only-of-type {\n",
       "        vertical-align: middle;\n",
       "    }\n",
       "\n",
       "    .dataframe tbody tr th {\n",
       "        vertical-align: top;\n",
       "    }\n",
       "\n",
       "    .dataframe thead th {\n",
       "        text-align: right;\n",
       "    }\n",
       "</style>\n",
       "<table border=\"1\" class=\"dataframe\">\n",
       "  <thead>\n",
       "    <tr style=\"text-align: right;\">\n",
       "      <th></th>\n",
       "      <th>customer_id</th>\n",
       "      <th>credit_score</th>\n",
       "      <th>country</th>\n",
       "      <th>gender</th>\n",
       "      <th>age</th>\n",
       "      <th>tenure</th>\n",
       "      <th>balance</th>\n",
       "      <th>products_number</th>\n",
       "      <th>credit_card</th>\n",
       "      <th>active_member</th>\n",
       "      <th>estimated_salary</th>\n",
       "      <th>churn</th>\n",
       "    </tr>\n",
       "  </thead>\n",
       "  <tbody>\n",
       "    <tr>\n",
       "      <th>9990</th>\n",
       "      <td>15798964</td>\n",
       "      <td>714</td>\n",
       "      <td>Germany</td>\n",
       "      <td>Male</td>\n",
       "      <td>33</td>\n",
       "      <td>3</td>\n",
       "      <td>35016.60</td>\n",
       "      <td>1</td>\n",
       "      <td>1</td>\n",
       "      <td>0</td>\n",
       "      <td>53667.08</td>\n",
       "      <td>0</td>\n",
       "    </tr>\n",
       "    <tr>\n",
       "      <th>9991</th>\n",
       "      <td>15769959</td>\n",
       "      <td>597</td>\n",
       "      <td>France</td>\n",
       "      <td>Female</td>\n",
       "      <td>53</td>\n",
       "      <td>4</td>\n",
       "      <td>88381.21</td>\n",
       "      <td>1</td>\n",
       "      <td>1</td>\n",
       "      <td>0</td>\n",
       "      <td>69384.71</td>\n",
       "      <td>1</td>\n",
       "    </tr>\n",
       "    <tr>\n",
       "      <th>9992</th>\n",
       "      <td>15657105</td>\n",
       "      <td>726</td>\n",
       "      <td>Spain</td>\n",
       "      <td>Male</td>\n",
       "      <td>36</td>\n",
       "      <td>2</td>\n",
       "      <td>0.00</td>\n",
       "      <td>1</td>\n",
       "      <td>1</td>\n",
       "      <td>0</td>\n",
       "      <td>195192.40</td>\n",
       "      <td>0</td>\n",
       "    </tr>\n",
       "    <tr>\n",
       "      <th>9993</th>\n",
       "      <td>15569266</td>\n",
       "      <td>644</td>\n",
       "      <td>France</td>\n",
       "      <td>Male</td>\n",
       "      <td>28</td>\n",
       "      <td>7</td>\n",
       "      <td>155060.41</td>\n",
       "      <td>1</td>\n",
       "      <td>1</td>\n",
       "      <td>0</td>\n",
       "      <td>29179.52</td>\n",
       "      <td>0</td>\n",
       "    </tr>\n",
       "    <tr>\n",
       "      <th>9994</th>\n",
       "      <td>15719294</td>\n",
       "      <td>800</td>\n",
       "      <td>France</td>\n",
       "      <td>Female</td>\n",
       "      <td>29</td>\n",
       "      <td>2</td>\n",
       "      <td>0.00</td>\n",
       "      <td>2</td>\n",
       "      <td>0</td>\n",
       "      <td>0</td>\n",
       "      <td>167773.55</td>\n",
       "      <td>0</td>\n",
       "    </tr>\n",
       "    <tr>\n",
       "      <th>9995</th>\n",
       "      <td>15606229</td>\n",
       "      <td>771</td>\n",
       "      <td>France</td>\n",
       "      <td>Male</td>\n",
       "      <td>39</td>\n",
       "      <td>5</td>\n",
       "      <td>0.00</td>\n",
       "      <td>2</td>\n",
       "      <td>1</td>\n",
       "      <td>0</td>\n",
       "      <td>96270.64</td>\n",
       "      <td>0</td>\n",
       "    </tr>\n",
       "    <tr>\n",
       "      <th>9996</th>\n",
       "      <td>15569892</td>\n",
       "      <td>516</td>\n",
       "      <td>France</td>\n",
       "      <td>Male</td>\n",
       "      <td>35</td>\n",
       "      <td>10</td>\n",
       "      <td>57369.61</td>\n",
       "      <td>1</td>\n",
       "      <td>1</td>\n",
       "      <td>1</td>\n",
       "      <td>101699.77</td>\n",
       "      <td>0</td>\n",
       "    </tr>\n",
       "    <tr>\n",
       "      <th>9997</th>\n",
       "      <td>15584532</td>\n",
       "      <td>709</td>\n",
       "      <td>France</td>\n",
       "      <td>Female</td>\n",
       "      <td>36</td>\n",
       "      <td>7</td>\n",
       "      <td>0.00</td>\n",
       "      <td>1</td>\n",
       "      <td>0</td>\n",
       "      <td>1</td>\n",
       "      <td>42085.58</td>\n",
       "      <td>1</td>\n",
       "    </tr>\n",
       "    <tr>\n",
       "      <th>9998</th>\n",
       "      <td>15682355</td>\n",
       "      <td>772</td>\n",
       "      <td>Germany</td>\n",
       "      <td>Male</td>\n",
       "      <td>42</td>\n",
       "      <td>3</td>\n",
       "      <td>75075.31</td>\n",
       "      <td>2</td>\n",
       "      <td>1</td>\n",
       "      <td>0</td>\n",
       "      <td>92888.52</td>\n",
       "      <td>1</td>\n",
       "    </tr>\n",
       "    <tr>\n",
       "      <th>9999</th>\n",
       "      <td>15628319</td>\n",
       "      <td>792</td>\n",
       "      <td>France</td>\n",
       "      <td>Female</td>\n",
       "      <td>28</td>\n",
       "      <td>4</td>\n",
       "      <td>130142.79</td>\n",
       "      <td>1</td>\n",
       "      <td>1</td>\n",
       "      <td>0</td>\n",
       "      <td>38190.78</td>\n",
       "      <td>0</td>\n",
       "    </tr>\n",
       "  </tbody>\n",
       "</table>\n",
       "</div>"
      ],
      "text/plain": [
       "      customer_id  credit_score  country  gender  age  tenure    balance  \\\n",
       "9990     15798964           714  Germany    Male   33       3   35016.60   \n",
       "9991     15769959           597   France  Female   53       4   88381.21   \n",
       "9992     15657105           726    Spain    Male   36       2       0.00   \n",
       "9993     15569266           644   France    Male   28       7  155060.41   \n",
       "9994     15719294           800   France  Female   29       2       0.00   \n",
       "9995     15606229           771   France    Male   39       5       0.00   \n",
       "9996     15569892           516   France    Male   35      10   57369.61   \n",
       "9997     15584532           709   France  Female   36       7       0.00   \n",
       "9998     15682355           772  Germany    Male   42       3   75075.31   \n",
       "9999     15628319           792   France  Female   28       4  130142.79   \n",
       "\n",
       "      products_number  credit_card  active_member  estimated_salary  churn  \n",
       "9990                1            1              0          53667.08      0  \n",
       "9991                1            1              0          69384.71      1  \n",
       "9992                1            1              0         195192.40      0  \n",
       "9993                1            1              0          29179.52      0  \n",
       "9994                2            0              0         167773.55      0  \n",
       "9995                2            1              0          96270.64      0  \n",
       "9996                1            1              1         101699.77      0  \n",
       "9997                1            0              1          42085.58      1  \n",
       "9998                2            1              0          92888.52      1  \n",
       "9999                1            1              0          38190.78      0  "
      ]
     },
     "execution_count": 4,
     "metadata": {},
     "output_type": "execute_result"
    }
   ],
   "source": [
    "# Showing last 10 of dataset\n",
    "\n",
    "df.tail(10)"
   ]
  },
  {
   "cell_type": "code",
   "execution_count": 5,
   "metadata": {
    "colab": {
     "base_uri": "https://localhost:8080/"
    },
    "id": "B3T2BTeytQFM",
    "outputId": "65d2e467-5d60-4672-be08-ff2421dabc47"
   },
   "outputs": [
    {
     "name": "stdout",
     "output_type": "stream",
     "text": [
      "<class 'pandas.core.frame.DataFrame'>\n",
      "RangeIndex: 10000 entries, 0 to 9999\n",
      "Data columns (total 12 columns):\n",
      " #   Column            Non-Null Count  Dtype  \n",
      "---  ------            --------------  -----  \n",
      " 0   customer_id       10000 non-null  int64  \n",
      " 1   credit_score      10000 non-null  int64  \n",
      " 2   country           10000 non-null  object \n",
      " 3   gender            10000 non-null  object \n",
      " 4   age               10000 non-null  int64  \n",
      " 5   tenure            10000 non-null  int64  \n",
      " 6   balance           10000 non-null  float64\n",
      " 7   products_number   10000 non-null  int64  \n",
      " 8   credit_card       10000 non-null  int64  \n",
      " 9   active_member     10000 non-null  int64  \n",
      " 10  estimated_salary  10000 non-null  float64\n",
      " 11  churn             10000 non-null  int64  \n",
      "dtypes: float64(2), int64(8), object(2)\n",
      "memory usage: 937.6+ KB\n"
     ]
    }
   ],
   "source": [
    "# Check Dataset\n",
    "\n",
    "df.info()"
   ]
  },
  {
   "cell_type": "code",
   "execution_count": 6,
   "metadata": {
    "colab": {
     "base_uri": "https://localhost:8080/",
     "height": 364
    },
    "id": "jFdSKPt7tXZv",
    "outputId": "72db7853-3946-4441-84d3-9b7247fb7bcd"
   },
   "outputs": [
    {
     "data": {
      "text/html": [
       "<div>\n",
       "<style scoped>\n",
       "    .dataframe tbody tr th:only-of-type {\n",
       "        vertical-align: middle;\n",
       "    }\n",
       "\n",
       "    .dataframe tbody tr th {\n",
       "        vertical-align: top;\n",
       "    }\n",
       "\n",
       "    .dataframe thead th {\n",
       "        text-align: right;\n",
       "    }\n",
       "</style>\n",
       "<table border=\"1\" class=\"dataframe\">\n",
       "  <thead>\n",
       "    <tr style=\"text-align: right;\">\n",
       "      <th></th>\n",
       "      <th>customer_id</th>\n",
       "      <th>credit_score</th>\n",
       "      <th>age</th>\n",
       "      <th>tenure</th>\n",
       "      <th>balance</th>\n",
       "      <th>products_number</th>\n",
       "      <th>credit_card</th>\n",
       "      <th>active_member</th>\n",
       "      <th>estimated_salary</th>\n",
       "      <th>churn</th>\n",
       "    </tr>\n",
       "  </thead>\n",
       "  <tbody>\n",
       "    <tr>\n",
       "      <th>count</th>\n",
       "      <td>1.000000e+04</td>\n",
       "      <td>10000.000000</td>\n",
       "      <td>10000.000000</td>\n",
       "      <td>10000.000000</td>\n",
       "      <td>10000.000000</td>\n",
       "      <td>10000.000000</td>\n",
       "      <td>10000.00000</td>\n",
       "      <td>10000.000000</td>\n",
       "      <td>10000.000000</td>\n",
       "      <td>10000.000000</td>\n",
       "    </tr>\n",
       "    <tr>\n",
       "      <th>mean</th>\n",
       "      <td>1.569094e+07</td>\n",
       "      <td>650.528800</td>\n",
       "      <td>38.921800</td>\n",
       "      <td>5.012800</td>\n",
       "      <td>76485.889288</td>\n",
       "      <td>1.530200</td>\n",
       "      <td>0.70550</td>\n",
       "      <td>0.515100</td>\n",
       "      <td>100090.239881</td>\n",
       "      <td>0.203700</td>\n",
       "    </tr>\n",
       "    <tr>\n",
       "      <th>std</th>\n",
       "      <td>7.193619e+04</td>\n",
       "      <td>96.653299</td>\n",
       "      <td>10.487806</td>\n",
       "      <td>2.892174</td>\n",
       "      <td>62397.405202</td>\n",
       "      <td>0.581654</td>\n",
       "      <td>0.45584</td>\n",
       "      <td>0.499797</td>\n",
       "      <td>57510.492818</td>\n",
       "      <td>0.402769</td>\n",
       "    </tr>\n",
       "    <tr>\n",
       "      <th>min</th>\n",
       "      <td>1.556570e+07</td>\n",
       "      <td>350.000000</td>\n",
       "      <td>18.000000</td>\n",
       "      <td>0.000000</td>\n",
       "      <td>0.000000</td>\n",
       "      <td>1.000000</td>\n",
       "      <td>0.00000</td>\n",
       "      <td>0.000000</td>\n",
       "      <td>11.580000</td>\n",
       "      <td>0.000000</td>\n",
       "    </tr>\n",
       "    <tr>\n",
       "      <th>25%</th>\n",
       "      <td>1.562853e+07</td>\n",
       "      <td>584.000000</td>\n",
       "      <td>32.000000</td>\n",
       "      <td>3.000000</td>\n",
       "      <td>0.000000</td>\n",
       "      <td>1.000000</td>\n",
       "      <td>0.00000</td>\n",
       "      <td>0.000000</td>\n",
       "      <td>51002.110000</td>\n",
       "      <td>0.000000</td>\n",
       "    </tr>\n",
       "    <tr>\n",
       "      <th>50%</th>\n",
       "      <td>1.569074e+07</td>\n",
       "      <td>652.000000</td>\n",
       "      <td>37.000000</td>\n",
       "      <td>5.000000</td>\n",
       "      <td>97198.540000</td>\n",
       "      <td>1.000000</td>\n",
       "      <td>1.00000</td>\n",
       "      <td>1.000000</td>\n",
       "      <td>100193.915000</td>\n",
       "      <td>0.000000</td>\n",
       "    </tr>\n",
       "    <tr>\n",
       "      <th>75%</th>\n",
       "      <td>1.575323e+07</td>\n",
       "      <td>718.000000</td>\n",
       "      <td>44.000000</td>\n",
       "      <td>7.000000</td>\n",
       "      <td>127644.240000</td>\n",
       "      <td>2.000000</td>\n",
       "      <td>1.00000</td>\n",
       "      <td>1.000000</td>\n",
       "      <td>149388.247500</td>\n",
       "      <td>0.000000</td>\n",
       "    </tr>\n",
       "    <tr>\n",
       "      <th>max</th>\n",
       "      <td>1.581569e+07</td>\n",
       "      <td>850.000000</td>\n",
       "      <td>92.000000</td>\n",
       "      <td>10.000000</td>\n",
       "      <td>250898.090000</td>\n",
       "      <td>4.000000</td>\n",
       "      <td>1.00000</td>\n",
       "      <td>1.000000</td>\n",
       "      <td>199992.480000</td>\n",
       "      <td>1.000000</td>\n",
       "    </tr>\n",
       "  </tbody>\n",
       "</table>\n",
       "</div>"
      ],
      "text/plain": [
       "        customer_id  credit_score           age        tenure        balance  \\\n",
       "count  1.000000e+04  10000.000000  10000.000000  10000.000000   10000.000000   \n",
       "mean   1.569094e+07    650.528800     38.921800      5.012800   76485.889288   \n",
       "std    7.193619e+04     96.653299     10.487806      2.892174   62397.405202   \n",
       "min    1.556570e+07    350.000000     18.000000      0.000000       0.000000   \n",
       "25%    1.562853e+07    584.000000     32.000000      3.000000       0.000000   \n",
       "50%    1.569074e+07    652.000000     37.000000      5.000000   97198.540000   \n",
       "75%    1.575323e+07    718.000000     44.000000      7.000000  127644.240000   \n",
       "max    1.581569e+07    850.000000     92.000000     10.000000  250898.090000   \n",
       "\n",
       "       products_number  credit_card  active_member  estimated_salary  \\\n",
       "count     10000.000000  10000.00000   10000.000000      10000.000000   \n",
       "mean          1.530200      0.70550       0.515100     100090.239881   \n",
       "std           0.581654      0.45584       0.499797      57510.492818   \n",
       "min           1.000000      0.00000       0.000000         11.580000   \n",
       "25%           1.000000      0.00000       0.000000      51002.110000   \n",
       "50%           1.000000      1.00000       1.000000     100193.915000   \n",
       "75%           2.000000      1.00000       1.000000     149388.247500   \n",
       "max           4.000000      1.00000       1.000000     199992.480000   \n",
       "\n",
       "              churn  \n",
       "count  10000.000000  \n",
       "mean       0.203700  \n",
       "std        0.402769  \n",
       "min        0.000000  \n",
       "25%        0.000000  \n",
       "50%        0.000000  \n",
       "75%        0.000000  \n",
       "max        1.000000  "
      ]
     },
     "execution_count": 6,
     "metadata": {},
     "output_type": "execute_result"
    }
   ],
   "source": [
    "# Check Dataset \n",
    "\n",
    "df.describe()"
   ]
  },
  {
   "cell_type": "code",
   "execution_count": 7,
   "metadata": {},
   "outputs": [
    {
     "data": {
      "text/html": [
       "<div>\n",
       "<style scoped>\n",
       "    .dataframe tbody tr th:only-of-type {\n",
       "        vertical-align: middle;\n",
       "    }\n",
       "\n",
       "    .dataframe tbody tr th {\n",
       "        vertical-align: top;\n",
       "    }\n",
       "\n",
       "    .dataframe thead th {\n",
       "        text-align: right;\n",
       "    }\n",
       "</style>\n",
       "<table border=\"1\" class=\"dataframe\">\n",
       "  <thead>\n",
       "    <tr style=\"text-align: right;\">\n",
       "      <th></th>\n",
       "      <th>country</th>\n",
       "      <th>gender</th>\n",
       "    </tr>\n",
       "  </thead>\n",
       "  <tbody>\n",
       "    <tr>\n",
       "      <th>count</th>\n",
       "      <td>10000</td>\n",
       "      <td>10000</td>\n",
       "    </tr>\n",
       "    <tr>\n",
       "      <th>unique</th>\n",
       "      <td>3</td>\n",
       "      <td>2</td>\n",
       "    </tr>\n",
       "    <tr>\n",
       "      <th>top</th>\n",
       "      <td>France</td>\n",
       "      <td>Male</td>\n",
       "    </tr>\n",
       "    <tr>\n",
       "      <th>freq</th>\n",
       "      <td>5014</td>\n",
       "      <td>5457</td>\n",
       "    </tr>\n",
       "  </tbody>\n",
       "</table>\n",
       "</div>"
      ],
      "text/plain": [
       "       country gender\n",
       "count    10000  10000\n",
       "unique       3      2\n",
       "top     France   Male\n",
       "freq      5014   5457"
      ]
     },
     "execution_count": 7,
     "metadata": {},
     "output_type": "execute_result"
    }
   ],
   "source": [
    "# Check Dataset\n",
    "\n",
    "df.describe(include='O')"
   ]
  },
  {
   "attachments": {},
   "cell_type": "markdown",
   "metadata": {},
   "source": [
    "We want to check if there are missing values in our dataset."
   ]
  },
  {
   "cell_type": "code",
   "execution_count": 8,
   "metadata": {},
   "outputs": [
    {
     "data": {
      "text/plain": [
       "customer_id         0\n",
       "credit_score        0\n",
       "country             0\n",
       "gender              0\n",
       "age                 0\n",
       "tenure              0\n",
       "balance             0\n",
       "products_number     0\n",
       "credit_card         0\n",
       "active_member       0\n",
       "estimated_salary    0\n",
       "churn               0\n",
       "dtype: int64"
      ]
     },
     "execution_count": 8,
     "metadata": {},
     "output_type": "execute_result"
    }
   ],
   "source": [
    "df.isnull().sum()"
   ]
  },
  {
   "attachments": {},
   "cell_type": "markdown",
   "metadata": {},
   "source": [
    "We can see that there is no missing values in our data. Next, we want to see if there are duplicate entries in our data"
   ]
  },
  {
   "cell_type": "code",
   "execution_count": 9,
   "metadata": {},
   "outputs": [
    {
     "data": {
      "text/plain": [
       "0"
      ]
     },
     "execution_count": 9,
     "metadata": {},
     "output_type": "execute_result"
    }
   ],
   "source": [
    "df.duplicated().sum()"
   ]
  },
  {
   "attachments": {},
   "cell_type": "markdown",
   "metadata": {},
   "source": [
    "Here, we can see there are no duplicated data on our dataset. So we can continue to the next section."
   ]
  },
  {
   "cell_type": "markdown",
   "metadata": {
    "id": "E1OHrikJt3qb"
   },
   "source": [
    "# 4 - Exploratory Data Analysis (EDA)"
   ]
  },
  {
   "attachments": {},
   "cell_type": "markdown",
   "metadata": {},
   "source": [
    "In this section, we will explore about our dataset to get better understanding of the data."
   ]
  },
  {
   "cell_type": "code",
   "execution_count": 10,
   "metadata": {},
   "outputs": [
    {
     "data": {
      "text/html": [
       "<div>\n",
       "<style scoped>\n",
       "    .dataframe tbody tr th:only-of-type {\n",
       "        vertical-align: middle;\n",
       "    }\n",
       "\n",
       "    .dataframe tbody tr th {\n",
       "        vertical-align: top;\n",
       "    }\n",
       "\n",
       "    .dataframe thead th {\n",
       "        text-align: right;\n",
       "    }\n",
       "</style>\n",
       "<table border=\"1\" class=\"dataframe\">\n",
       "  <thead>\n",
       "    <tr style=\"text-align: right;\">\n",
       "      <th></th>\n",
       "      <th>customer_id</th>\n",
       "      <th>credit_score</th>\n",
       "      <th>country</th>\n",
       "      <th>gender</th>\n",
       "      <th>age</th>\n",
       "      <th>tenure</th>\n",
       "      <th>balance</th>\n",
       "      <th>products_number</th>\n",
       "      <th>credit_card</th>\n",
       "      <th>active_member</th>\n",
       "      <th>estimated_salary</th>\n",
       "      <th>churn</th>\n",
       "    </tr>\n",
       "  </thead>\n",
       "  <tbody>\n",
       "    <tr>\n",
       "      <th>0</th>\n",
       "      <td>15634602</td>\n",
       "      <td>619</td>\n",
       "      <td>France</td>\n",
       "      <td>Female</td>\n",
       "      <td>42</td>\n",
       "      <td>2</td>\n",
       "      <td>0.00</td>\n",
       "      <td>1</td>\n",
       "      <td>1</td>\n",
       "      <td>1</td>\n",
       "      <td>101348.88</td>\n",
       "      <td>1</td>\n",
       "    </tr>\n",
       "    <tr>\n",
       "      <th>1</th>\n",
       "      <td>15647311</td>\n",
       "      <td>608</td>\n",
       "      <td>Spain</td>\n",
       "      <td>Female</td>\n",
       "      <td>41</td>\n",
       "      <td>1</td>\n",
       "      <td>83807.86</td>\n",
       "      <td>1</td>\n",
       "      <td>0</td>\n",
       "      <td>1</td>\n",
       "      <td>112542.58</td>\n",
       "      <td>0</td>\n",
       "    </tr>\n",
       "    <tr>\n",
       "      <th>2</th>\n",
       "      <td>15619304</td>\n",
       "      <td>502</td>\n",
       "      <td>France</td>\n",
       "      <td>Female</td>\n",
       "      <td>42</td>\n",
       "      <td>8</td>\n",
       "      <td>159660.80</td>\n",
       "      <td>3</td>\n",
       "      <td>1</td>\n",
       "      <td>0</td>\n",
       "      <td>113931.57</td>\n",
       "      <td>1</td>\n",
       "    </tr>\n",
       "    <tr>\n",
       "      <th>3</th>\n",
       "      <td>15701354</td>\n",
       "      <td>699</td>\n",
       "      <td>France</td>\n",
       "      <td>Female</td>\n",
       "      <td>39</td>\n",
       "      <td>1</td>\n",
       "      <td>0.00</td>\n",
       "      <td>2</td>\n",
       "      <td>0</td>\n",
       "      <td>0</td>\n",
       "      <td>93826.63</td>\n",
       "      <td>0</td>\n",
       "    </tr>\n",
       "    <tr>\n",
       "      <th>4</th>\n",
       "      <td>15737888</td>\n",
       "      <td>850</td>\n",
       "      <td>Spain</td>\n",
       "      <td>Female</td>\n",
       "      <td>43</td>\n",
       "      <td>2</td>\n",
       "      <td>125510.82</td>\n",
       "      <td>1</td>\n",
       "      <td>1</td>\n",
       "      <td>1</td>\n",
       "      <td>79084.10</td>\n",
       "      <td>0</td>\n",
       "    </tr>\n",
       "    <tr>\n",
       "      <th>...</th>\n",
       "      <td>...</td>\n",
       "      <td>...</td>\n",
       "      <td>...</td>\n",
       "      <td>...</td>\n",
       "      <td>...</td>\n",
       "      <td>...</td>\n",
       "      <td>...</td>\n",
       "      <td>...</td>\n",
       "      <td>...</td>\n",
       "      <td>...</td>\n",
       "      <td>...</td>\n",
       "      <td>...</td>\n",
       "    </tr>\n",
       "    <tr>\n",
       "      <th>9995</th>\n",
       "      <td>15606229</td>\n",
       "      <td>771</td>\n",
       "      <td>France</td>\n",
       "      <td>Male</td>\n",
       "      <td>39</td>\n",
       "      <td>5</td>\n",
       "      <td>0.00</td>\n",
       "      <td>2</td>\n",
       "      <td>1</td>\n",
       "      <td>0</td>\n",
       "      <td>96270.64</td>\n",
       "      <td>0</td>\n",
       "    </tr>\n",
       "    <tr>\n",
       "      <th>9996</th>\n",
       "      <td>15569892</td>\n",
       "      <td>516</td>\n",
       "      <td>France</td>\n",
       "      <td>Male</td>\n",
       "      <td>35</td>\n",
       "      <td>10</td>\n",
       "      <td>57369.61</td>\n",
       "      <td>1</td>\n",
       "      <td>1</td>\n",
       "      <td>1</td>\n",
       "      <td>101699.77</td>\n",
       "      <td>0</td>\n",
       "    </tr>\n",
       "    <tr>\n",
       "      <th>9997</th>\n",
       "      <td>15584532</td>\n",
       "      <td>709</td>\n",
       "      <td>France</td>\n",
       "      <td>Female</td>\n",
       "      <td>36</td>\n",
       "      <td>7</td>\n",
       "      <td>0.00</td>\n",
       "      <td>1</td>\n",
       "      <td>0</td>\n",
       "      <td>1</td>\n",
       "      <td>42085.58</td>\n",
       "      <td>1</td>\n",
       "    </tr>\n",
       "    <tr>\n",
       "      <th>9998</th>\n",
       "      <td>15682355</td>\n",
       "      <td>772</td>\n",
       "      <td>Germany</td>\n",
       "      <td>Male</td>\n",
       "      <td>42</td>\n",
       "      <td>3</td>\n",
       "      <td>75075.31</td>\n",
       "      <td>2</td>\n",
       "      <td>1</td>\n",
       "      <td>0</td>\n",
       "      <td>92888.52</td>\n",
       "      <td>1</td>\n",
       "    </tr>\n",
       "    <tr>\n",
       "      <th>9999</th>\n",
       "      <td>15628319</td>\n",
       "      <td>792</td>\n",
       "      <td>France</td>\n",
       "      <td>Female</td>\n",
       "      <td>28</td>\n",
       "      <td>4</td>\n",
       "      <td>130142.79</td>\n",
       "      <td>1</td>\n",
       "      <td>1</td>\n",
       "      <td>0</td>\n",
       "      <td>38190.78</td>\n",
       "      <td>0</td>\n",
       "    </tr>\n",
       "  </tbody>\n",
       "</table>\n",
       "<p>10000 rows × 12 columns</p>\n",
       "</div>"
      ],
      "text/plain": [
       "      customer_id  credit_score  country  gender  age  tenure    balance  \\\n",
       "0        15634602           619   France  Female   42       2       0.00   \n",
       "1        15647311           608    Spain  Female   41       1   83807.86   \n",
       "2        15619304           502   France  Female   42       8  159660.80   \n",
       "3        15701354           699   France  Female   39       1       0.00   \n",
       "4        15737888           850    Spain  Female   43       2  125510.82   \n",
       "...           ...           ...      ...     ...  ...     ...        ...   \n",
       "9995     15606229           771   France    Male   39       5       0.00   \n",
       "9996     15569892           516   France    Male   35      10   57369.61   \n",
       "9997     15584532           709   France  Female   36       7       0.00   \n",
       "9998     15682355           772  Germany    Male   42       3   75075.31   \n",
       "9999     15628319           792   France  Female   28       4  130142.79   \n",
       "\n",
       "      products_number  credit_card  active_member  estimated_salary  churn  \n",
       "0                   1            1              1         101348.88      1  \n",
       "1                   1            0              1         112542.58      0  \n",
       "2                   3            1              0         113931.57      1  \n",
       "3                   2            0              0          93826.63      0  \n",
       "4                   1            1              1          79084.10      0  \n",
       "...               ...          ...            ...               ...    ...  \n",
       "9995                2            1              0          96270.64      0  \n",
       "9996                1            1              1         101699.77      0  \n",
       "9997                1            0              1          42085.58      1  \n",
       "9998                2            1              0          92888.52      1  \n",
       "9999                1            1              0          38190.78      0  \n",
       "\n",
       "[10000 rows x 12 columns]"
      ]
     },
     "execution_count": 10,
     "metadata": {},
     "output_type": "execute_result"
    }
   ],
   "source": [
    "# Showing data\n",
    "\n",
    "df"
   ]
  },
  {
   "attachments": {},
   "cell_type": "markdown",
   "metadata": {},
   "source": [
    "First, we will split the columns into numerical and categorical columns."
   ]
  },
  {
   "cell_type": "code",
   "execution_count": 11,
   "metadata": {},
   "outputs": [],
   "source": [
    "edanum_cols = ['credit_score','age', 'balance','estimated_salary']\n",
    "edacat_cols = ['country','gender','tenure','products_number','credit_card','active_member','churn']"
   ]
  },
  {
   "attachments": {},
   "cell_type": "markdown",
   "metadata": {},
   "source": [
    "## Numerical Columns"
   ]
  },
  {
   "attachments": {},
   "cell_type": "markdown",
   "metadata": {},
   "source": [
    "Next, we want to see the distribution of our numerical columns."
   ]
  },
  {
   "cell_type": "code",
   "execution_count": 12,
   "metadata": {},
   "outputs": [
    {
     "name": "stdout",
     "output_type": "stream",
     "text": [
      "Skewness of credit_score : -0.07160660820092675\n",
      "Skewness of age : 1.0113202630234552\n",
      "Skewness of balance : -0.14110871094154384\n",
      "Skewness of estimated_salary : 0.0020853576615585162\n"
     ]
    },
    {
     "data": {
      "image/png": "[encoded data removed]",
      "text/plain": [
       "<Figure size 2000x2500 with 4 Axes>"
      ]
     },
     "metadata": {},
     "output_type": "display_data"
    }
   ],
   "source": [
    "x = 1\n",
    "plt.figure(figsize=(20,25))\n",
    "sns.set(color_codes=True)\n",
    "for col in edanum_cols:\n",
    "    print(f'Skewness of {col} : {df[col].skew()}')\n",
    "    plt.subplot(4,2,x)\n",
    "    sns.distplot(df[col])\n",
    "    plt.title(f'data distribution of {col}')\n",
    "    x+=1"
   ]
  },
  {
   "cell_type": "code",
   "execution_count": 13,
   "metadata": {},
   "outputs": [
    {
     "data": {
      "text/html": [
       "<div>\n",
       "<style scoped>\n",
       "    .dataframe tbody tr th:only-of-type {\n",
       "        vertical-align: middle;\n",
       "    }\n",
       "\n",
       "    .dataframe tbody tr th {\n",
       "        vertical-align: top;\n",
       "    }\n",
       "\n",
       "    .dataframe thead th {\n",
       "        text-align: right;\n",
       "    }\n",
       "</style>\n",
       "<table border=\"1\" class=\"dataframe\">\n",
       "  <thead>\n",
       "    <tr style=\"text-align: right;\">\n",
       "      <th></th>\n",
       "      <th>credit_score</th>\n",
       "      <th>age</th>\n",
       "      <th>balance</th>\n",
       "      <th>estimated_salary</th>\n",
       "    </tr>\n",
       "  </thead>\n",
       "  <tbody>\n",
       "    <tr>\n",
       "      <th>count</th>\n",
       "      <td>10000.000000</td>\n",
       "      <td>10000.000000</td>\n",
       "      <td>10000.000000</td>\n",
       "      <td>10000.000000</td>\n",
       "    </tr>\n",
       "    <tr>\n",
       "      <th>mean</th>\n",
       "      <td>650.528800</td>\n",
       "      <td>38.921800</td>\n",
       "      <td>76485.889288</td>\n",
       "      <td>100090.239881</td>\n",
       "    </tr>\n",
       "    <tr>\n",
       "      <th>std</th>\n",
       "      <td>96.653299</td>\n",
       "      <td>10.487806</td>\n",
       "      <td>62397.405202</td>\n",
       "      <td>57510.492818</td>\n",
       "    </tr>\n",
       "    <tr>\n",
       "      <th>min</th>\n",
       "      <td>350.000000</td>\n",
       "      <td>18.000000</td>\n",
       "      <td>0.000000</td>\n",
       "      <td>11.580000</td>\n",
       "    </tr>\n",
       "    <tr>\n",
       "      <th>25%</th>\n",
       "      <td>584.000000</td>\n",
       "      <td>32.000000</td>\n",
       "      <td>0.000000</td>\n",
       "      <td>51002.110000</td>\n",
       "    </tr>\n",
       "    <tr>\n",
       "      <th>50%</th>\n",
       "      <td>652.000000</td>\n",
       "      <td>37.000000</td>\n",
       "      <td>97198.540000</td>\n",
       "      <td>100193.915000</td>\n",
       "    </tr>\n",
       "    <tr>\n",
       "      <th>75%</th>\n",
       "      <td>718.000000</td>\n",
       "      <td>44.000000</td>\n",
       "      <td>127644.240000</td>\n",
       "      <td>149388.247500</td>\n",
       "    </tr>\n",
       "    <tr>\n",
       "      <th>max</th>\n",
       "      <td>850.000000</td>\n",
       "      <td>92.000000</td>\n",
       "      <td>250898.090000</td>\n",
       "      <td>199992.480000</td>\n",
       "    </tr>\n",
       "  </tbody>\n",
       "</table>\n",
       "</div>"
      ],
      "text/plain": [
       "       credit_score           age        balance  estimated_salary\n",
       "count  10000.000000  10000.000000   10000.000000      10000.000000\n",
       "mean     650.528800     38.921800   76485.889288     100090.239881\n",
       "std       96.653299     10.487806   62397.405202      57510.492818\n",
       "min      350.000000     18.000000       0.000000         11.580000\n",
       "25%      584.000000     32.000000       0.000000      51002.110000\n",
       "50%      652.000000     37.000000   97198.540000     100193.915000\n",
       "75%      718.000000     44.000000  127644.240000     149388.247500\n",
       "max      850.000000     92.000000  250898.090000     199992.480000"
      ]
     },
     "execution_count": 13,
     "metadata": {},
     "output_type": "execute_result"
    }
   ],
   "source": [
    "# Statistical overview of numerical columns\n",
    "\n",
    "df[edanum_cols].describe()"
   ]
  },
  {
   "attachments": {},
   "cell_type": "markdown",
   "metadata": {},
   "source": [
    "Here, we have all of our numerical features data distributions and skewness value. We can see that the credit score data is normally distributed with max value is capped at 850. The age of our customers are mostly between 25 to 45 years old with the youngest customer is 18 years old and the oldest is 92 years old. We have a lot of customers that have 0 balance in their account, but the highest balance is around 250 K and the average balance of our customers is 76.5 K. This makes the distribution of the balance data is right skewed. We will transform the data later on preprocessing section. The last numerical column is estimated salary. In this column, we have almost a uniform data which is very well distributed."
   ]
  },
  {
   "attachments": {},
   "cell_type": "markdown",
   "metadata": {},
   "source": [
    "## Categorical Columns"
   ]
  },
  {
   "cell_type": "code",
   "execution_count": 14,
   "metadata": {},
   "outputs": [
    {
     "data": {
      "image/png": "[encoded data removed]",
      "text/plain": [
       "<Figure size 2000x2500 with 7 Axes>"
      ]
     },
     "metadata": {},
     "output_type": "display_data"
    }
   ],
   "source": [
    "x = 1\n",
    "plt.figure(figsize=(20,25))\n",
    "sns.set(color_codes=True)\n",
    "for col in edacat_cols:\n",
    "    plt.subplot(4,2,x)\n",
    "    sns.countplot(df[col])\n",
    "    plt.title(f'count plot of {col}')\n",
    "    x+=1"
   ]
  },
  {
   "attachments": {},
   "cell_type": "markdown",
   "metadata": {},
   "source": [
    "Here, we have all of our categorical features data value counts. We can see that the country of our data is dominated by France. The Spain and Germany have about the same data counts. Our men customers are a bit more than women customers. For the tenure column, we can see that the count is pretty well distributed with data between 0 and 10. For the product numbers, the data is dominated by products 1 and 2 but for products 3 and 4 the count is very low. For the credit card count, most of our customers uses credit card, almost twice the customers that dont use credit card. Our customers are pretty balanced between the active and non active customers. For the target column (churn), we can see that the data is very imbalanced with customers that churn is only about 20 percent of all our customers."
   ]
  },
  {
   "attachments": {},
   "cell_type": "markdown",
   "metadata": {},
   "source": [
    "## Target Analysis"
   ]
  },
  {
   "attachments": {},
   "cell_type": "markdown",
   "metadata": {},
   "source": [
    "### Against Numerical Columns"
   ]
  },
  {
   "cell_type": "code",
   "execution_count": 15,
   "metadata": {},
   "outputs": [
    {
     "data": {
      "image/png": "[encoded data removed]",
      "text/plain": [
       "<Figure size 640x480 with 1 Axes>"
      ]
     },
     "metadata": {},
     "output_type": "display_data"
    }
   ],
   "source": [
    "sns.boxplot(x='churn',y='credit_score',data=df);\n",
    "plt.title('churn vs credit_score');"
   ]
  },
  {
   "attachments": {},
   "cell_type": "markdown",
   "metadata": {},
   "source": [
    "Here, we can see that there are no significance difference between credit score for churn customers and non customers."
   ]
  },
  {
   "cell_type": "code",
   "execution_count": 16,
   "metadata": {},
   "outputs": [
    {
     "data": {
      "image/png": "[encoded data removed]",
      "text/plain": [
       "<Figure size 640x480 with 1 Axes>"
      ]
     },
     "metadata": {},
     "output_type": "display_data"
    }
   ],
   "source": [
    "sns.boxplot(x='churn',y='age',data=df);\n",
    "plt.title('churn vs age');"
   ]
  },
  {
   "attachments": {},
   "cell_type": "markdown",
   "metadata": {},
   "source": [
    "Here, we can see that older customers are more likely to churn."
   ]
  },
  {
   "cell_type": "code",
   "execution_count": 17,
   "metadata": {},
   "outputs": [
    {
     "data": {
      "image/png": "[encoded data removed]",
      "text/plain": [
       "<Figure size 640x480 with 1 Axes>"
      ]
     },
     "metadata": {},
     "output_type": "display_data"
    }
   ],
   "source": [
    "sns.boxplot(x='churn',y='balance',data=df);\n",
    "plt.title('churn vs balance');"
   ]
  },
  {
   "attachments": {},
   "cell_type": "markdown",
   "metadata": {},
   "source": [
    "Here, we can see the slight difference that customers with lower balance are more likely to not churn."
   ]
  },
  {
   "cell_type": "code",
   "execution_count": 18,
   "metadata": {},
   "outputs": [
    {
     "data": {
      "image/png": "[encoded data removed]",
      "text/plain": [
       "<Figure size 640x480 with 1 Axes>"
      ]
     },
     "metadata": {},
     "output_type": "display_data"
    }
   ],
   "source": [
    "sns.boxplot(x='churn',y='estimated_salary',data=df);\n",
    "plt.title('churn vs estimated_salary');"
   ]
  },
  {
   "attachments": {},
   "cell_type": "markdown",
   "metadata": {},
   "source": [
    "Here, we can see that there are no significance connection for the salary and churn of customers."
   ]
  },
  {
   "attachments": {},
   "cell_type": "markdown",
   "metadata": {},
   "source": [
    "## Against Categorical Columns"
   ]
  },
  {
   "cell_type": "code",
   "execution_count": 19,
   "metadata": {},
   "outputs": [
    {
     "data": {
      "image/png": "[encoded data removed]",
      "text/plain": [
       "<Figure size 2000x2500 with 6 Axes>"
      ]
     },
     "metadata": {},
     "output_type": "display_data"
    }
   ],
   "source": [
    "i = 1\n",
    "plt.figure(figsize=(20,25))\n",
    "sns.set(color_codes=True)\n",
    "for col in edacat_cols[:6]:\n",
    "    plt.subplot(4,2,i)\n",
    "    sns.countplot(x='churn',hue=col,palette='Set2',data=df)\n",
    "    plt.title(f'count plot of {col}')\n",
    "    i+=1"
   ]
  },
  {
   "attachments": {},
   "cell_type": "markdown",
   "metadata": {},
   "source": [
    "Here, we can see for France customers that have high counts, have a low number of churn. For the gender columns, the men and women are quite balanced for the churn rate. For products number 2, despite having a lot of data, it does not have a high churn customers. For the active member, despite having more counts, the churn customers is lower than the non active customers. For the other columns the data are quite well distributed."
   ]
  },
  {
   "cell_type": "markdown",
   "metadata": {
    "id": "HRIo5JZ-v1M6"
   },
   "source": [
    "# 5 - Data Preprocessing"
   ]
  },
  {
   "attachments": {},
   "cell_type": "markdown",
   "metadata": {},
   "source": [
    "In this section we will process the data before we go into the modelling section."
   ]
  },
  {
   "attachments": {},
   "cell_type": "markdown",
   "metadata": {},
   "source": [
    "## Feature Selection"
   ]
  },
  {
   "attachments": {},
   "cell_type": "markdown",
   "metadata": {},
   "source": [
    "For selecting the features we will calculate the correlation for each features against the target which is churn. We will do the calculation using phik correlation since it can calculate for both categorical and numerical features in one go."
   ]
  },
  {
   "cell_type": "code",
   "execution_count": 20,
   "metadata": {},
   "outputs": [
    {
     "name": "stdout",
     "output_type": "stream",
     "text": [
      "interval columns not set, guessing: ['customer_id', 'credit_score', 'age', 'tenure', 'balance', 'products_number', 'credit_card', 'active_member', 'estimated_salary', 'churn']\n"
     ]
    }
   ],
   "source": [
    "phik_cor = df.phik_matrix().churn"
   ]
  },
  {
   "cell_type": "code",
   "execution_count": 21,
   "metadata": {},
   "outputs": [
    {
     "data": {
      "text/plain": [
       "churn               1.000000\n",
       "products_number     0.565084\n",
       "age                 0.487524\n",
       "active_member       0.241939\n",
       "balance             0.183365\n",
       "gender              0.165422\n",
       "country             0.104511\n",
       "credit_score        0.096525\n",
       "customer_id         0.029595\n",
       "tenure              0.022895\n",
       "credit_card         0.000000\n",
       "estimated_salary    0.000000\n",
       "Name: churn, dtype: float64"
      ]
     },
     "execution_count": 21,
     "metadata": {},
     "output_type": "execute_result"
    }
   ],
   "source": [
    "phik_cor.sort_values(ascending=False)"
   ]
  },
  {
   "attachments": {},
   "cell_type": "markdown",
   "metadata": {},
   "source": [
    "Here, we will set the threshold for the features to be chosen at 0.1 phik score. From the calculation we get 6 features that will be used for modelling. These features are products number, age, active member, balance, gender, and country. So for the train test set we will use these 6 feature columns and 1 target column (churn)."
   ]
  },
  {
   "cell_type": "code",
   "execution_count": 22,
   "metadata": {},
   "outputs": [],
   "source": [
    "col = ['products_number','age','active_member','balance','gender','country','churn']"
   ]
  },
  {
   "cell_type": "code",
   "execution_count": 23,
   "metadata": {
    "colab": {
     "base_uri": "https://localhost:8080/",
     "height": 540
    },
    "id": "HC56TAHzyZqf",
    "outputId": "c9ca2207-0197-47f8-f703-8c796040c6dd"
   },
   "outputs": [
    {
     "data": {
      "text/html": [
       "<div>\n",
       "<style scoped>\n",
       "    .dataframe tbody tr th:only-of-type {\n",
       "        vertical-align: middle;\n",
       "    }\n",
       "\n",
       "    .dataframe tbody tr th {\n",
       "        vertical-align: top;\n",
       "    }\n",
       "\n",
       "    .dataframe thead th {\n",
       "        text-align: right;\n",
       "    }\n",
       "</style>\n",
       "<table border=\"1\" class=\"dataframe\">\n",
       "  <thead>\n",
       "    <tr style=\"text-align: right;\">\n",
       "      <th></th>\n",
       "      <th>products_number</th>\n",
       "      <th>age</th>\n",
       "      <th>active_member</th>\n",
       "      <th>balance</th>\n",
       "      <th>gender</th>\n",
       "      <th>country</th>\n",
       "      <th>churn</th>\n",
       "    </tr>\n",
       "  </thead>\n",
       "  <tbody>\n",
       "    <tr>\n",
       "      <th>0</th>\n",
       "      <td>1</td>\n",
       "      <td>42</td>\n",
       "      <td>1</td>\n",
       "      <td>0.00</td>\n",
       "      <td>Female</td>\n",
       "      <td>France</td>\n",
       "      <td>1</td>\n",
       "    </tr>\n",
       "    <tr>\n",
       "      <th>1</th>\n",
       "      <td>1</td>\n",
       "      <td>41</td>\n",
       "      <td>1</td>\n",
       "      <td>83807.86</td>\n",
       "      <td>Female</td>\n",
       "      <td>Spain</td>\n",
       "      <td>0</td>\n",
       "    </tr>\n",
       "    <tr>\n",
       "      <th>2</th>\n",
       "      <td>3</td>\n",
       "      <td>42</td>\n",
       "      <td>0</td>\n",
       "      <td>159660.80</td>\n",
       "      <td>Female</td>\n",
       "      <td>France</td>\n",
       "      <td>1</td>\n",
       "    </tr>\n",
       "    <tr>\n",
       "      <th>3</th>\n",
       "      <td>2</td>\n",
       "      <td>39</td>\n",
       "      <td>0</td>\n",
       "      <td>0.00</td>\n",
       "      <td>Female</td>\n",
       "      <td>France</td>\n",
       "      <td>0</td>\n",
       "    </tr>\n",
       "    <tr>\n",
       "      <th>4</th>\n",
       "      <td>1</td>\n",
       "      <td>43</td>\n",
       "      <td>1</td>\n",
       "      <td>125510.82</td>\n",
       "      <td>Female</td>\n",
       "      <td>Spain</td>\n",
       "      <td>0</td>\n",
       "    </tr>\n",
       "    <tr>\n",
       "      <th>...</th>\n",
       "      <td>...</td>\n",
       "      <td>...</td>\n",
       "      <td>...</td>\n",
       "      <td>...</td>\n",
       "      <td>...</td>\n",
       "      <td>...</td>\n",
       "      <td>...</td>\n",
       "    </tr>\n",
       "    <tr>\n",
       "      <th>9995</th>\n",
       "      <td>2</td>\n",
       "      <td>39</td>\n",
       "      <td>0</td>\n",
       "      <td>0.00</td>\n",
       "      <td>Male</td>\n",
       "      <td>France</td>\n",
       "      <td>0</td>\n",
       "    </tr>\n",
       "    <tr>\n",
       "      <th>9996</th>\n",
       "      <td>1</td>\n",
       "      <td>35</td>\n",
       "      <td>1</td>\n",
       "      <td>57369.61</td>\n",
       "      <td>Male</td>\n",
       "      <td>France</td>\n",
       "      <td>0</td>\n",
       "    </tr>\n",
       "    <tr>\n",
       "      <th>9997</th>\n",
       "      <td>1</td>\n",
       "      <td>36</td>\n",
       "      <td>1</td>\n",
       "      <td>0.00</td>\n",
       "      <td>Female</td>\n",
       "      <td>France</td>\n",
       "      <td>1</td>\n",
       "    </tr>\n",
       "    <tr>\n",
       "      <th>9998</th>\n",
       "      <td>2</td>\n",
       "      <td>42</td>\n",
       "      <td>0</td>\n",
       "      <td>75075.31</td>\n",
       "      <td>Male</td>\n",
       "      <td>Germany</td>\n",
       "      <td>1</td>\n",
       "    </tr>\n",
       "    <tr>\n",
       "      <th>9999</th>\n",
       "      <td>1</td>\n",
       "      <td>28</td>\n",
       "      <td>0</td>\n",
       "      <td>130142.79</td>\n",
       "      <td>Female</td>\n",
       "      <td>France</td>\n",
       "      <td>0</td>\n",
       "    </tr>\n",
       "  </tbody>\n",
       "</table>\n",
       "<p>10000 rows × 7 columns</p>\n",
       "</div>"
      ],
      "text/plain": [
       "      products_number  age  active_member    balance  gender  country  churn\n",
       "0                   1   42              1       0.00  Female   France      1\n",
       "1                   1   41              1   83807.86  Female    Spain      0\n",
       "2                   3   42              0  159660.80  Female   France      1\n",
       "3                   2   39              0       0.00  Female   France      0\n",
       "4                   1   43              1  125510.82  Female    Spain      0\n",
       "...               ...  ...            ...        ...     ...      ...    ...\n",
       "9995                2   39              0       0.00    Male   France      0\n",
       "9996                1   35              1   57369.61    Male   France      0\n",
       "9997                1   36              1       0.00  Female   France      1\n",
       "9998                2   42              0   75075.31    Male  Germany      1\n",
       "9999                1   28              0  130142.79  Female   France      0\n",
       "\n",
       "[10000 rows x 7 columns]"
      ]
     },
     "execution_count": 23,
     "metadata": {},
     "output_type": "execute_result"
    }
   ],
   "source": [
    "# New dataframe variable for modelling\n",
    "\n",
    "data_train_test = df[col]\n",
    "data_train_test"
   ]
  },
  {
   "cell_type": "markdown",
   "metadata": {
    "id": "Skv54voXziM6"
   },
   "source": [
    "## Splitting Dataset"
   ]
  },
  {
   "attachments": {},
   "cell_type": "markdown",
   "metadata": {},
   "source": [
    "Next step is splitting the dataset into X (features) and y (target)."
   ]
  },
  {
   "cell_type": "code",
   "execution_count": 24,
   "metadata": {
    "colab": {
     "base_uri": "https://localhost:8080/",
     "height": 540
    },
    "id": "pinpK-olzkIu",
    "outputId": "443f16ad-d10f-4b22-b3bd-b71ef2392f6a"
   },
   "outputs": [
    {
     "data": {
      "text/html": [
       "<div>\n",
       "<style scoped>\n",
       "    .dataframe tbody tr th:only-of-type {\n",
       "        vertical-align: middle;\n",
       "    }\n",
       "\n",
       "    .dataframe tbody tr th {\n",
       "        vertical-align: top;\n",
       "    }\n",
       "\n",
       "    .dataframe thead th {\n",
       "        text-align: right;\n",
       "    }\n",
       "</style>\n",
       "<table border=\"1\" class=\"dataframe\">\n",
       "  <thead>\n",
       "    <tr style=\"text-align: right;\">\n",
       "      <th></th>\n",
       "      <th>products_number</th>\n",
       "      <th>age</th>\n",
       "      <th>active_member</th>\n",
       "      <th>balance</th>\n",
       "      <th>gender</th>\n",
       "      <th>country</th>\n",
       "    </tr>\n",
       "  </thead>\n",
       "  <tbody>\n",
       "    <tr>\n",
       "      <th>0</th>\n",
       "      <td>1</td>\n",
       "      <td>42</td>\n",
       "      <td>1</td>\n",
       "      <td>0.00</td>\n",
       "      <td>Female</td>\n",
       "      <td>France</td>\n",
       "    </tr>\n",
       "    <tr>\n",
       "      <th>1</th>\n",
       "      <td>1</td>\n",
       "      <td>41</td>\n",
       "      <td>1</td>\n",
       "      <td>83807.86</td>\n",
       "      <td>Female</td>\n",
       "      <td>Spain</td>\n",
       "    </tr>\n",
       "    <tr>\n",
       "      <th>2</th>\n",
       "      <td>3</td>\n",
       "      <td>42</td>\n",
       "      <td>0</td>\n",
       "      <td>159660.80</td>\n",
       "      <td>Female</td>\n",
       "      <td>France</td>\n",
       "    </tr>\n",
       "    <tr>\n",
       "      <th>3</th>\n",
       "      <td>2</td>\n",
       "      <td>39</td>\n",
       "      <td>0</td>\n",
       "      <td>0.00</td>\n",
       "      <td>Female</td>\n",
       "      <td>France</td>\n",
       "    </tr>\n",
       "    <tr>\n",
       "      <th>4</th>\n",
       "      <td>1</td>\n",
       "      <td>43</td>\n",
       "      <td>1</td>\n",
       "      <td>125510.82</td>\n",
       "      <td>Female</td>\n",
       "      <td>Spain</td>\n",
       "    </tr>\n",
       "    <tr>\n",
       "      <th>...</th>\n",
       "      <td>...</td>\n",
       "      <td>...</td>\n",
       "      <td>...</td>\n",
       "      <td>...</td>\n",
       "      <td>...</td>\n",
       "      <td>...</td>\n",
       "    </tr>\n",
       "    <tr>\n",
       "      <th>9995</th>\n",
       "      <td>2</td>\n",
       "      <td>39</td>\n",
       "      <td>0</td>\n",
       "      <td>0.00</td>\n",
       "      <td>Male</td>\n",
       "      <td>France</td>\n",
       "    </tr>\n",
       "    <tr>\n",
       "      <th>9996</th>\n",
       "      <td>1</td>\n",
       "      <td>35</td>\n",
       "      <td>1</td>\n",
       "      <td>57369.61</td>\n",
       "      <td>Male</td>\n",
       "      <td>France</td>\n",
       "    </tr>\n",
       "    <tr>\n",
       "      <th>9997</th>\n",
       "      <td>1</td>\n",
       "      <td>36</td>\n",
       "      <td>1</td>\n",
       "      <td>0.00</td>\n",
       "      <td>Female</td>\n",
       "      <td>France</td>\n",
       "    </tr>\n",
       "    <tr>\n",
       "      <th>9998</th>\n",
       "      <td>2</td>\n",
       "      <td>42</td>\n",
       "      <td>0</td>\n",
       "      <td>75075.31</td>\n",
       "      <td>Male</td>\n",
       "      <td>Germany</td>\n",
       "    </tr>\n",
       "    <tr>\n",
       "      <th>9999</th>\n",
       "      <td>1</td>\n",
       "      <td>28</td>\n",
       "      <td>0</td>\n",
       "      <td>130142.79</td>\n",
       "      <td>Female</td>\n",
       "      <td>France</td>\n",
       "    </tr>\n",
       "  </tbody>\n",
       "</table>\n",
       "<p>10000 rows × 6 columns</p>\n",
       "</div>"
      ],
      "text/plain": [
       "      products_number  age  active_member    balance  gender  country\n",
       "0                   1   42              1       0.00  Female   France\n",
       "1                   1   41              1   83807.86  Female    Spain\n",
       "2                   3   42              0  159660.80  Female   France\n",
       "3                   2   39              0       0.00  Female   France\n",
       "4                   1   43              1  125510.82  Female    Spain\n",
       "...               ...  ...            ...        ...     ...      ...\n",
       "9995                2   39              0       0.00    Male   France\n",
       "9996                1   35              1   57369.61    Male   France\n",
       "9997                1   36              1       0.00  Female   France\n",
       "9998                2   42              0   75075.31    Male  Germany\n",
       "9999                1   28              0  130142.79  Female   France\n",
       "\n",
       "[10000 rows x 6 columns]"
      ]
     },
     "execution_count": 24,
     "metadata": {},
     "output_type": "execute_result"
    }
   ],
   "source": [
    "# Split between `X` (Features) and `y` (Target)\n",
    "\n",
    "X = data_train_test.drop('churn', axis=1)\n",
    "y = data_train_test['churn']\n",
    "X"
   ]
  },
  {
   "attachments": {},
   "cell_type": "markdown",
   "metadata": {},
   "source": [
    "Next, we want to split each X and y data into train and test data. We set the train data 80% from data total so we have enough data for model training."
   ]
  },
  {
   "cell_type": "code",
   "execution_count": 25,
   "metadata": {},
   "outputs": [
    {
     "name": "stdout",
     "output_type": "stream",
     "text": [
      "Train Size :  (8000, 6)\n",
      "Test Size  :  (2000, 6)\n"
     ]
    }
   ],
   "source": [
    "# Split between Train-Set and Test-Set\n",
    "# Stratify y to balance the target value in each split\n",
    "\n",
    "X_train, X_test, y_train, y_test = train_test_split(X, y, test_size=0.2, stratify=y, random_state=69)\n",
    "\n",
    "print('Train Size : ', X_train.shape)\n",
    "print('Test Size  : ', X_test.shape)"
   ]
  },
  {
   "attachments": {},
   "cell_type": "markdown",
   "metadata": {},
   "source": [
    "Now that we have split the data into x_train, x_test, y_train, and y_test, we can proceed to the next section."
   ]
  },
  {
   "cell_type": "markdown",
   "metadata": {
    "id": "38_NeI6F1sUa"
   },
   "source": [
    "## Handling Missing Values"
   ]
  },
  {
   "attachments": {},
   "cell_type": "markdown",
   "metadata": {},
   "source": [
    "Next, we will check whether there are missing values in our data."
   ]
  },
  {
   "cell_type": "code",
   "execution_count": 26,
   "metadata": {
    "colab": {
     "base_uri": "https://localhost:8080/"
    },
    "id": "9aogBe_e2ACe",
    "outputId": "4e2fc0c8-3887-481a-9780-8161234f9001"
   },
   "outputs": [
    {
     "data": {
      "text/plain": [
       "products_number    0\n",
       "age                0\n",
       "active_member      0\n",
       "balance            0\n",
       "gender             0\n",
       "country            0\n",
       "dtype: int64"
      ]
     },
     "execution_count": 26,
     "metadata": {},
     "output_type": "execute_result"
    }
   ],
   "source": [
    "# Check Missing Values on X_train\n",
    "\n",
    "X_train.isnull().sum()"
   ]
  },
  {
   "cell_type": "code",
   "execution_count": 27,
   "metadata": {
    "colab": {
     "base_uri": "https://localhost:8080/"
    },
    "id": "Tjs7dPQ92IjL",
    "outputId": "4584d9dc-50bc-48df-9e77-bed1825082b0"
   },
   "outputs": [
    {
     "data": {
      "text/plain": [
       "0"
      ]
     },
     "execution_count": 27,
     "metadata": {},
     "output_type": "execute_result"
    }
   ],
   "source": [
    "# Check Missing Values on y_train\n",
    "\n",
    "y_train.isnull().sum()"
   ]
  },
  {
   "cell_type": "code",
   "execution_count": 28,
   "metadata": {
    "colab": {
     "base_uri": "https://localhost:8080/"
    },
    "id": "EvVrbzSZ2Q_Z",
    "outputId": "1e238e2b-3a77-48b0-f197-fd0f87482bc9"
   },
   "outputs": [
    {
     "data": {
      "text/plain": [
       "products_number    0\n",
       "age                0\n",
       "active_member      0\n",
       "balance            0\n",
       "gender             0\n",
       "country            0\n",
       "dtype: int64"
      ]
     },
     "execution_count": 28,
     "metadata": {},
     "output_type": "execute_result"
    }
   ],
   "source": [
    "# Check Missing Values on X_test\n",
    "\n",
    "X_test.isnull().sum()"
   ]
  },
  {
   "cell_type": "code",
   "execution_count": 29,
   "metadata": {
    "colab": {
     "base_uri": "https://localhost:8080/"
    },
    "id": "imevQoo92VhC",
    "outputId": "b2f0d892-3df4-42d4-ba74-9f44ba2e762e"
   },
   "outputs": [
    {
     "data": {
      "text/plain": [
       "0"
      ]
     },
     "execution_count": 29,
     "metadata": {},
     "output_type": "execute_result"
    }
   ],
   "source": [
    "# Check Missing Values on y_test\n",
    "\n",
    "y_test.isnull().sum()"
   ]
  },
  {
   "attachments": {},
   "cell_type": "markdown",
   "metadata": {},
   "source": [
    "## Column Transforming"
   ]
  },
  {
   "attachments": {},
   "cell_type": "markdown",
   "metadata": {},
   "source": [
    "In this section we will create a pipeline for transforming the data. First, we will create a pipeline for transforming our numerical features. This pipeline will transform our age column using boxcox transformer and then transform age and balance column with standard scaler. Standard scaler is used because our data is normally distributed. Next, we will encode the categorical features gender and country using Oridnal Encoder. Since products number and active member columns are already encoded we will not do anything to these columns so we will set the parameter remainder='passthrough for the column transformer."
   ]
  },
  {
   "cell_type": "code",
   "execution_count": 30,
   "metadata": {},
   "outputs": [],
   "source": [
    "# numerical features tansformer\n",
    "numeric_features = ['age','balance']\n",
    "numeric_transformer = Pipeline(\n",
    "    steps=[('boxcox', BoxCoxTransformer(variables = ['age'])), (\"scaler\", StandardScaler())]\n",
    ")\n",
    "\n",
    "# categorical features transformer\n",
    "ordinal_features = ['gender','country']\n",
    "ord_transformer = OrdinalEncoder() \n",
    "\n",
    "# columns that are already encoded\n",
    "other_columns = ['products_number', 'active_member']\n",
    "\n",
    "# defining the columns transformer\n",
    "preprocessor = ColumnTransformer(\n",
    "    transformers=[\n",
    "        (\"num\", numeric_transformer, numeric_features),\n",
    "        (\"ord\",ord_transformer,ordinal_features)\n",
    "    ], remainder='passthrough' # parameter for leaving the other columns untouched\n",
    ")"
   ]
  },
  {
   "cell_type": "code",
   "execution_count": 31,
   "metadata": {},
   "outputs": [],
   "source": [
    "# transforming the X_train and X_test\n",
    "\n",
    "X_train_final = preprocessor.fit_transform(X_train)     # fit only on train data\n",
    "X_test_final = preprocessor.transform(X_test)"
   ]
  },
  {
   "cell_type": "code",
   "execution_count": 32,
   "metadata": {},
   "outputs": [
    {
     "data": {
      "text/plain": [
       "array([[-1.00738341, -1.21889346,  0.        ,  0.        ,  2.        ,\n",
       "         1.        ],\n",
       "       [-0.14408878,  0.01661087,  0.        ,  1.        ,  1.        ,\n",
       "         0.        ],\n",
       "       [ 0.44716303,  0.19366477,  0.        ,  1.        ,  2.        ,\n",
       "         0.        ],\n",
       "       ...,\n",
       "       [-0.03755187, -1.21889346,  1.        ,  0.        ,  2.        ,\n",
       "         1.        ],\n",
       "       [-0.73678835, -1.21889346,  0.        ,  0.        ,  2.        ,\n",
       "         1.        ],\n",
       "       [ 0.35603189, -1.21889346,  1.        ,  0.        ,  2.        ,\n",
       "         1.        ]])"
      ]
     },
     "execution_count": 32,
     "metadata": {},
     "output_type": "execute_result"
    }
   ],
   "source": [
    "# showing transformed features\n",
    "\n",
    "X_train_final"
   ]
  },
  {
   "cell_type": "code",
   "execution_count": 33,
   "metadata": {},
   "outputs": [
    {
     "data": {
      "text/html": [
       "<div>\n",
       "<style scoped>\n",
       "    .dataframe tbody tr th:only-of-type {\n",
       "        vertical-align: middle;\n",
       "    }\n",
       "\n",
       "    .dataframe tbody tr th {\n",
       "        vertical-align: top;\n",
       "    }\n",
       "\n",
       "    .dataframe thead th {\n",
       "        text-align: right;\n",
       "    }\n",
       "</style>\n",
       "<table border=\"1\" class=\"dataframe\">\n",
       "  <thead>\n",
       "    <tr style=\"text-align: right;\">\n",
       "      <th></th>\n",
       "      <th>age</th>\n",
       "      <th>balance</th>\n",
       "      <th>gender</th>\n",
       "      <th>country</th>\n",
       "      <th>products_number</th>\n",
       "      <th>active_member</th>\n",
       "    </tr>\n",
       "  </thead>\n",
       "  <tbody>\n",
       "    <tr>\n",
       "      <th>0</th>\n",
       "      <td>-1.007383</td>\n",
       "      <td>-1.218893</td>\n",
       "      <td>0.0</td>\n",
       "      <td>0.0</td>\n",
       "      <td>2.0</td>\n",
       "      <td>1.0</td>\n",
       "    </tr>\n",
       "    <tr>\n",
       "      <th>1</th>\n",
       "      <td>-0.144089</td>\n",
       "      <td>0.016611</td>\n",
       "      <td>0.0</td>\n",
       "      <td>1.0</td>\n",
       "      <td>1.0</td>\n",
       "      <td>0.0</td>\n",
       "    </tr>\n",
       "    <tr>\n",
       "      <th>2</th>\n",
       "      <td>0.447163</td>\n",
       "      <td>0.193665</td>\n",
       "      <td>0.0</td>\n",
       "      <td>1.0</td>\n",
       "      <td>2.0</td>\n",
       "      <td>0.0</td>\n",
       "    </tr>\n",
       "    <tr>\n",
       "      <th>3</th>\n",
       "      <td>0.943621</td>\n",
       "      <td>-1.218893</td>\n",
       "      <td>0.0</td>\n",
       "      <td>0.0</td>\n",
       "      <td>1.0</td>\n",
       "      <td>0.0</td>\n",
       "    </tr>\n",
       "    <tr>\n",
       "      <th>4</th>\n",
       "      <td>-0.144089</td>\n",
       "      <td>-1.218893</td>\n",
       "      <td>0.0</td>\n",
       "      <td>0.0</td>\n",
       "      <td>1.0</td>\n",
       "      <td>0.0</td>\n",
       "    </tr>\n",
       "    <tr>\n",
       "      <th>...</th>\n",
       "      <td>...</td>\n",
       "      <td>...</td>\n",
       "      <td>...</td>\n",
       "      <td>...</td>\n",
       "      <td>...</td>\n",
       "      <td>...</td>\n",
       "    </tr>\n",
       "    <tr>\n",
       "      <th>7995</th>\n",
       "      <td>-1.007383</td>\n",
       "      <td>-1.218893</td>\n",
       "      <td>1.0</td>\n",
       "      <td>0.0</td>\n",
       "      <td>2.0</td>\n",
       "      <td>0.0</td>\n",
       "    </tr>\n",
       "    <tr>\n",
       "      <th>7996</th>\n",
       "      <td>-0.736788</td>\n",
       "      <td>1.086674</td>\n",
       "      <td>0.0</td>\n",
       "      <td>0.0</td>\n",
       "      <td>2.0</td>\n",
       "      <td>1.0</td>\n",
       "    </tr>\n",
       "    <tr>\n",
       "      <th>7997</th>\n",
       "      <td>-0.037552</td>\n",
       "      <td>-1.218893</td>\n",
       "      <td>1.0</td>\n",
       "      <td>0.0</td>\n",
       "      <td>2.0</td>\n",
       "      <td>1.0</td>\n",
       "    </tr>\n",
       "    <tr>\n",
       "      <th>7998</th>\n",
       "      <td>-0.736788</td>\n",
       "      <td>-1.218893</td>\n",
       "      <td>0.0</td>\n",
       "      <td>0.0</td>\n",
       "      <td>2.0</td>\n",
       "      <td>1.0</td>\n",
       "    </tr>\n",
       "    <tr>\n",
       "      <th>7999</th>\n",
       "      <td>0.356032</td>\n",
       "      <td>-1.218893</td>\n",
       "      <td>1.0</td>\n",
       "      <td>0.0</td>\n",
       "      <td>2.0</td>\n",
       "      <td>1.0</td>\n",
       "    </tr>\n",
       "  </tbody>\n",
       "</table>\n",
       "<p>8000 rows × 6 columns</p>\n",
       "</div>"
      ],
      "text/plain": [
       "           age   balance  gender  country  products_number  active_member\n",
       "0    -1.007383 -1.218893     0.0      0.0              2.0            1.0\n",
       "1    -0.144089  0.016611     0.0      1.0              1.0            0.0\n",
       "2     0.447163  0.193665     0.0      1.0              2.0            0.0\n",
       "3     0.943621 -1.218893     0.0      0.0              1.0            0.0\n",
       "4    -0.144089 -1.218893     0.0      0.0              1.0            0.0\n",
       "...        ...       ...     ...      ...              ...            ...\n",
       "7995 -1.007383 -1.218893     1.0      0.0              2.0            0.0\n",
       "7996 -0.736788  1.086674     0.0      0.0              2.0            1.0\n",
       "7997 -0.037552 -1.218893     1.0      0.0              2.0            1.0\n",
       "7998 -0.736788 -1.218893     0.0      0.0              2.0            1.0\n",
       "7999  0.356032 -1.218893     1.0      0.0              2.0            1.0\n",
       "\n",
       "[8000 rows x 6 columns]"
      ]
     },
     "execution_count": 33,
     "metadata": {},
     "output_type": "execute_result"
    }
   ],
   "source": [
    "# Putting the transformed data inside dataframe\n",
    "\n",
    "X_train_final_df = pd.DataFrame(X_train_final,columns=numeric_features+ordinal_features+other_columns)\n",
    "X_train_final_df"
   ]
  },
  {
   "attachments": {},
   "cell_type": "markdown",
   "metadata": {},
   "source": [
    "## VIF"
   ]
  },
  {
   "attachments": {},
   "cell_type": "markdown",
   "metadata": {},
   "source": [
    "Before we continue to model definition, we want to know if all the features selected don't have multi-colinearity. Since VIF can only be calculated for numerical columns, we calculate the vif after we have all our data ready for modelling (scaled and encoded). First we define a function for calculating each vif and putting it in a dataframe of vif. And then, we use the function to show the VIF value for each features."
   ]
  },
  {
   "cell_type": "code",
   "execution_count": 34,
   "metadata": {},
   "outputs": [
    {
     "data": {
      "text/html": [
       "<div>\n",
       "<style scoped>\n",
       "    .dataframe tbody tr th:only-of-type {\n",
       "        vertical-align: middle;\n",
       "    }\n",
       "\n",
       "    .dataframe tbody tr th {\n",
       "        vertical-align: top;\n",
       "    }\n",
       "\n",
       "    .dataframe thead th {\n",
       "        text-align: right;\n",
       "    }\n",
       "</style>\n",
       "<table border=\"1\" class=\"dataframe\">\n",
       "  <thead>\n",
       "    <tr style=\"text-align: right;\">\n",
       "      <th></th>\n",
       "      <th>variables</th>\n",
       "      <th>VIF</th>\n",
       "    </tr>\n",
       "  </thead>\n",
       "  <tbody>\n",
       "    <tr>\n",
       "      <th>0</th>\n",
       "      <td>age</td>\n",
       "      <td>1.006001</td>\n",
       "    </tr>\n",
       "    <tr>\n",
       "      <th>1</th>\n",
       "      <td>balance</td>\n",
       "      <td>1.051330</td>\n",
       "    </tr>\n",
       "    <tr>\n",
       "      <th>2</th>\n",
       "      <td>gender</td>\n",
       "      <td>1.954655</td>\n",
       "    </tr>\n",
       "    <tr>\n",
       "      <th>3</th>\n",
       "      <td>country</td>\n",
       "      <td>1.717760</td>\n",
       "    </tr>\n",
       "    <tr>\n",
       "      <th>4</th>\n",
       "      <td>products_number</td>\n",
       "      <td>3.037607</td>\n",
       "    </tr>\n",
       "    <tr>\n",
       "      <th>5</th>\n",
       "      <td>active_member</td>\n",
       "      <td>1.876803</td>\n",
       "    </tr>\n",
       "  </tbody>\n",
       "</table>\n",
       "</div>"
      ],
      "text/plain": [
       "         variables       VIF\n",
       "0              age  1.006001\n",
       "1          balance  1.051330\n",
       "2           gender  1.954655\n",
       "3          country  1.717760\n",
       "4  products_number  3.037607\n",
       "5    active_member  1.876803"
      ]
     },
     "execution_count": 34,
     "metadata": {},
     "output_type": "execute_result"
    }
   ],
   "source": [
    "def calc_vif(X):\n",
    "\n",
    "    # Calculating VIF\n",
    "    vif = pd.DataFrame()\n",
    "    vif[\"variables\"] = X.columns.to_list()\n",
    "    vif[\"VIF\"] = [variance_inflation_factor(X.values, i) for i in range(X.shape[1])]\n",
    "\n",
    "    return(vif)\n",
    "\n",
    "calc_vif(X_train_final_df)"
   ]
  },
  {
   "attachments": {},
   "cell_type": "markdown",
   "metadata": {},
   "source": [
    "Here, we can see that all features have lower than 5 VIF value and we can say that our features doe't have multi-colinearity. Now that we have transformed the data and checked the multi colinearity, we can continue to our next section, Model Definition."
   ]
  },
  {
   "attachments": {},
   "cell_type": "markdown",
   "metadata": {},
   "source": [
    "## Imbalance Target Label Handling"
   ]
  },
  {
   "cell_type": "code",
   "execution_count": 35,
   "metadata": {},
   "outputs": [
    {
     "data": {
      "text/plain": [
       "0    6370\n",
       "1    1630\n",
       "Name: churn, dtype: int64"
      ]
     },
     "execution_count": 35,
     "metadata": {},
     "output_type": "execute_result"
    }
   ],
   "source": [
    "y_train.value_counts()"
   ]
  },
  {
   "cell_type": "code",
   "execution_count": 36,
   "metadata": {},
   "outputs": [
    {
     "data": {
      "text/plain": [
       "0.20375"
      ]
     },
     "execution_count": 36,
     "metadata": {},
     "output_type": "execute_result"
    }
   ],
   "source": [
    "1630/len(y_train)"
   ]
  },
  {
   "attachments": {},
   "cell_type": "markdown",
   "metadata": {},
   "source": [
    "From the EDA we saw that our target label is quite imbalanced. So we will handle the imbalance data using ADASYN library."
   ]
  },
  {
   "cell_type": "code",
   "execution_count": 37,
   "metadata": {},
   "outputs": [
    {
     "data": {
      "text/plain": [
       "1    6411\n",
       "0    6370\n",
       "Name: churn, dtype: int64"
      ]
     },
     "execution_count": 37,
     "metadata": {},
     "output_type": "execute_result"
    }
   ],
   "source": [
    "from imblearn.over_sampling import ADASYN\n",
    "\n",
    "# Initialize the ADASYN oversampler\n",
    "adasyn = ADASYN(sampling_strategy=0.95, random_state=61,n_neighbors=6)\n",
    "\n",
    "# Oversample the dataset\n",
    "X_train_balanced, y_train_balanced = adasyn.fit_resample(X_train_final, y_train)\n",
    "y_train_balanced.value_counts()"
   ]
  },
  {
   "attachments": {},
   "cell_type": "markdown",
   "metadata": {},
   "source": [
    "Now that our model class are already balanced, we will continue to modelling section."
   ]
  },
  {
   "cell_type": "markdown",
   "metadata": {
    "id": "PeZTcBgy_mD8"
   },
   "source": [
    "# 6 - Model Definition"
   ]
  },
  {
   "attachments": {},
   "cell_type": "markdown",
   "metadata": {},
   "source": [
    "In this assignment, we will use baseline of 8 algorithm and will compare them using cross validation method. These algorithm are decision tree, random forest, adaboost, gradient boosting, logistic regression, svm classifier, knn, and naive bayes. We will select the best 5 algorithms to be tuned further. The metric that will be focused for comparing these models is Recall. Because we want the model to identify as many customers who will churn as possible. This means that we want to minimize the number of false negatives, or customers who are predicted to not churn but actually do. This is important when the cost of losing a customer is high. If our bank loses a valuable customer and the model did not predict it, it would be considered a loss for our bank. So, in simpler words, when the focus is on recall, the goal is to make sure that the model is correctly identifying most of the customers who are actually leaving and our bank is not losing valuable customers without knowing it."
   ]
  },
  {
   "cell_type": "code",
   "execution_count": 38,
   "metadata": {},
   "outputs": [],
   "source": [
    "# Defining Decision Tree Classifier Model\n",
    "dt_model = DecisionTreeClassifier(random_state=69)\n",
    "# Defining Random Forest Classifier Model\n",
    "rf_model = RandomForestClassifier(random_state=69)\n",
    "# Defining AdaBoost Classifier Model\n",
    "ada_model = AdaBoostClassifier(random_state=69)\n",
    "# Defining Gradient Boosting Classifier\n",
    "gb_model = GradientBoostingClassifier(random_state=69)\n",
    "# Defining Logistic Regression Model\n",
    "log_model = LogisticRegression()\n",
    "# Defining SVM Classifier Model\n",
    "svm_model = SVC()\n",
    "# Defining KNN Classifier Model\n",
    "knn_model = KNeighborsClassifier()\n",
    "# Defining Naive Bayes Model\n",
    "nb_model = GaussianNB()"
   ]
  },
  {
   "attachments": {},
   "cell_type": "markdown",
   "metadata": {},
   "source": [
    "# 7 - Cross Validation"
   ]
  },
  {
   "attachments": {},
   "cell_type": "markdown",
   "metadata": {},
   "source": [
    "In this section we compare the 8 models using cross validation technique and find the best model with the highest recall score."
   ]
  },
  {
   "cell_type": "code",
   "execution_count": 39,
   "metadata": {},
   "outputs": [
    {
     "name": "stdout",
     "output_type": "stream",
     "text": [
      "dt_model\n",
      "recall - All - Cross Validation  :  [0.83800623 0.80031201 0.81435257 0.80967239 0.8049922  0.83151326\n",
      " 0.84555382 0.81123245 0.81591264 0.79407176]\n",
      "recall - Mean - Cross Validation :  0.8165619335053776\n",
      "recall - Std - Cross Validation  :  0.015839280984620507\n",
      "recall - Range of Test-Set       :  0.8007226525207571 - 0.8324012144899982\n",
      "--------------------------------------------------\n",
      "rf_model\n",
      "recall - All - Cross Validation  :  [0.85825545 0.8299532  0.83151326 0.83151326 0.84711388 0.84399376\n",
      " 0.86115445 0.83151326 0.83775351 0.86895476]\n",
      "recall - Mean - Cross Validation :  0.8441718790246936\n",
      "recall - Std - Cross Validation  :  0.013541495639979185\n",
      "recall - Range of Test-Set       :  0.8306303833847144 - 0.8577133746646728\n",
      "--------------------------------------------------\n",
      "ada_model\n",
      "recall - All - Cross Validation  :  [0.75545171 0.71450858 0.75663027 0.70670827 0.73322933 0.70046802\n",
      " 0.74726989 0.71606864 0.73478939 0.70046802]\n",
      "recall - Mean - Cross Validation :  0.7265592119011863\n",
      "recall - Std - Cross Validation  :  0.020714810831520953\n",
      "recall - Range of Test-Set       :  0.7058444010696654 - 0.7472740227327073\n",
      "--------------------------------------------------\n",
      "gb_model\n",
      "recall - All - Cross Validation  :  [0.85358255 0.80967239 0.85647426 0.80967239 0.82683307 0.79719189\n",
      " 0.83307332 0.81591264 0.83619345 0.81123245]\n",
      "recall - Mean - Cross Validation :  0.8249838404751143\n",
      "recall - Std - Cross Validation  :  0.018752890305320458\n",
      "recall - Range of Test-Set       :  0.8062309501697938 - 0.8437367307804348\n",
      "--------------------------------------------------\n",
      "log_model\n",
      "recall - All - Cross Validation  :  [0.67601246 0.66146646 0.67862715 0.6599064  0.68174727 0.65678627\n",
      " 0.68798752 0.66458658 0.69734789 0.6723869 ]\n",
      "recall - Mean - Cross Validation :  0.6736854894756539\n",
      "recall - Std - Cross Validation  :  0.012524027459366918\n",
      "recall - Range of Test-Set       :  0.661161462016287 - 0.6862095169350207\n",
      "--------------------------------------------------\n",
      "knn_model\n",
      "recall - All - Cross Validation  :  [0.86137072 0.85335413 0.83151326 0.82371295 0.85647426 0.85179407\n",
      " 0.86271451 0.84399376 0.86271451 0.82683307]\n",
      "recall - Mean - Cross Validation :  0.8474475240691872\n",
      "recall - Std - Cross Validation  :  0.014315705645251375\n",
      "recall - Range of Test-Set       :  0.8331318184239358 - 0.8617632297144386\n",
      "--------------------------------------------------\n",
      "nb_model\n",
      "recall - All - Cross Validation  :  [0.7305296  0.71606864 0.70514821 0.73166927 0.71450858 0.72074883\n",
      " 0.72854914 0.69422777 0.75039002 0.70514821]\n",
      "recall - Mean - Cross Validation :  0.719698825336191\n",
      "recall - Std - Cross Validation  :  0.015473556275937994\n",
      "recall - Range of Test-Set       :  0.7042252690602531 - 0.735172381612129\n",
      "--------------------------------------------------\n",
      "best model: knn_model\n",
      "cross-val mean: 0.8474475240691872\n"
     ]
    }
   ],
   "source": [
    "# Setting skfold value for cv number of splits \n",
    "skfold=StratifiedKFold(n_splits=10,random_state=69,shuffle=True)\n",
    "\n",
    "# checking cross validation score\n",
    "cv_dt_model = cross_val_score(dt_model, X_train_balanced, y_train_balanced, cv=skfold, scoring=\"recall\")\n",
    "cv_rf_model = cross_val_score(rf_model, X_train_balanced, y_train_balanced, cv=skfold, scoring=\"recall\")\n",
    "cv_ada_model = cross_val_score(ada_model, X_train_balanced, y_train_balanced, cv=skfold, scoring=\"recall\")\n",
    "cv_gb_model = cross_val_score(gb_model, X_train_balanced, y_train_balanced, cv=skfold, scoring=\"recall\")\n",
    "cv_log_model = cross_val_score(log_model, X_train_balanced, y_train_balanced, cv=skfold, scoring=\"recall\")\n",
    "cv_svm_model = cross_val_score(svm_model, X_train_balanced, y_train_balanced, cv=skfold, scoring=\"recall\")\n",
    "cv_knn_model = cross_val_score(knn_model, X_train_balanced, y_train_balanced, cv=skfold, scoring=\"recall\")\n",
    "cv_nb_model = cross_val_score(nb_model, X_train_balanced, y_train_balanced, cv=skfold, scoring=\"recall\")\n",
    "\n",
    "name_model = []\n",
    "cv_scores=0\n",
    "for cv,name in zip([cv_dt_model,cv_rf_model,cv_ada_model,cv_gb_model,cv_log_model,cv_knn_model,cv_nb_model],['dt_model','rf_model','ada_model','gb_model','log_model','knn_model','nb_model']):\n",
    "    print(name)\n",
    "    print('recall - All - Cross Validation  : ', cv)\n",
    "    print('recall - Mean - Cross Validation : ', cv.mean())\n",
    "    print('recall - Std - Cross Validation  : ', cv.std())\n",
    "    print('recall - Range of Test-Set       : ', (cv.mean()-cv.std()) , '-', (cv.mean()+cv.std()))\n",
    "    print('-'*50)\n",
    "    if cv.mean()>cv_scores:\n",
    "        cv_scores = cv.mean()\n",
    "        name_model = name\n",
    "    else:\n",
    "        pass\n",
    "print('best model:', name_model)\n",
    "print('cross-val mean:', cv_scores)"
   ]
  },
  {
   "attachments": {},
   "cell_type": "markdown",
   "metadata": {},
   "source": [
    "Our cross validation comparison results the best model is knn_model or K-Nearest Neighbors model with the mean of recall is 0.84. We can also see the complete result and found that the other 4 best model after random forest are decision tree, random forest, adaboost, and gradient boosting. After we get these best 5 models, we will tune these models and select the best one out of five."
   ]
  },
  {
   "attachments": {},
   "cell_type": "markdown",
   "metadata": {},
   "source": [
    "# 8 - Parameter Tuning"
   ]
  },
  {
   "attachments": {},
   "cell_type": "markdown",
   "metadata": {},
   "source": [
    "## Decision Tree Classifier"
   ]
  },
  {
   "attachments": {},
   "cell_type": "markdown",
   "metadata": {},
   "source": [
    "In this section we will tune the hyperparameter for our Decision Tree Classifier model. We will search the best hyperparameter using RandomSearchCV. First, we define the randomizer for the RandomSearchCV and then we will fit the model to the training data to find the best hyperparameter.  "
   ]
  },
  {
   "cell_type": "code",
   "execution_count": 40,
   "metadata": {},
   "outputs": [
    {
     "data": {
      "text/plain": [
       "{'max_depth': range(1, 10),\n",
       " 'min_samples_split': range(2, 10),\n",
       " 'criterion': ['gini', 'entropy']}"
      ]
     },
     "execution_count": 40,
     "metadata": {},
     "output_type": "execute_result"
    }
   ],
   "source": [
    "# Hyperparameter Tuning : Random Search\n",
    "\n",
    "# Define Hyperparameters\n",
    "random_grid_dt = {'max_depth': range(1, 10),\n",
    "              'min_samples_split': range(2, 10),\n",
    "              'criterion': ['gini', 'entropy']}\n",
    "random_grid_dt"
   ]
  },
  {
   "attachments": {},
   "cell_type": "markdown",
   "metadata": {},
   "source": [
    "Here, we can see the parameters that will be trialled randomly by our model. Next, we fit the train data using the parameters defined. "
   ]
  },
  {
   "cell_type": "code",
   "execution_count": 41,
   "metadata": {},
   "outputs": [
    {
     "data": {
      "text/plain": [
       "RandomizedSearchCV(cv=5, estimator=DecisionTreeClassifier(random_state=69),\n",
       "                   n_iter=50, n_jobs=-1,\n",
       "                   param_distributions={'criterion': ['gini', 'entropy'],\n",
       "                                        'max_depth': range(1, 10),\n",
       "                                        'min_samples_split': range(2, 10)},\n",
       "                   random_state=46, scoring='recall')"
      ]
     },
     "execution_count": 41,
     "metadata": {},
     "output_type": "execute_result"
    }
   ],
   "source": [
    "# Train with Random Search\n",
    "\n",
    "dt_randomcv = RandomizedSearchCV(estimator=dt_model, \n",
    "                                 param_distributions=random_grid_dt,\n",
    "                                 n_iter=50,\n",
    "                                 cv=5, \n",
    "                                 random_state=46, \n",
    "                                 n_jobs=-1, \n",
    "                                 scoring='recall')\n",
    "dt_randomcv.fit(X_train_balanced, y_train_balanced)"
   ]
  },
  {
   "cell_type": "code",
   "execution_count": 42,
   "metadata": {},
   "outputs": [
    {
     "data": {
      "text/plain": [
       "{'min_samples_split': 6, 'max_depth': 4, 'criterion': 'entropy'}"
      ]
     },
     "execution_count": 42,
     "metadata": {},
     "output_type": "execute_result"
    }
   ],
   "source": [
    "# Get Best Hyperparameters\n",
    "\n",
    "dt_randomcv.best_params_"
   ]
  },
  {
   "attachments": {},
   "cell_type": "markdown",
   "metadata": {},
   "source": [
    "Here, we can see the best hyperparameter after using the RandomSearchCV and we will save the model with best parameter in a new variable."
   ]
  },
  {
   "cell_type": "code",
   "execution_count": 43,
   "metadata": {},
   "outputs": [
    {
     "data": {
      "text/plain": [
       "DecisionTreeClassifier(criterion='entropy', max_depth=4, min_samples_split=6,\n",
       "                       random_state=69)"
      ]
     },
     "execution_count": 43,
     "metadata": {},
     "output_type": "execute_result"
    }
   ],
   "source": [
    "# Get Best Estimator\n",
    "\n",
    "dt_randomcv_best = dt_randomcv.best_estimator_\n",
    "dt_randomcv_best"
   ]
  },
  {
   "attachments": {},
   "cell_type": "markdown",
   "metadata": {},
   "source": [
    "## Random Forest Classifier"
   ]
  },
  {
   "attachments": {},
   "cell_type": "markdown",
   "metadata": {},
   "source": [
    "In this section we will tune the hyperparameter for our Random Forest Classifier model. We search the best hyperparameter using RandomSearchCV. First, we define the randomizer for the RandomSearchCV and then we will fit the model to the training data to find the best hyperparameter.  "
   ]
  },
  {
   "cell_type": "code",
   "execution_count": 44,
   "metadata": {},
   "outputs": [
    {
     "data": {
      "text/plain": [
       "{'n_estimators': range(50, 200),\n",
       " 'max_depth': range(1, 10),\n",
       " 'min_samples_split': range(2, 10),\n",
       " 'criterion': ['gini', 'entropy']}"
      ]
     },
     "execution_count": 44,
     "metadata": {},
     "output_type": "execute_result"
    }
   ],
   "source": [
    "# Hyperparameter Tuning : Random Search\n",
    "\n",
    "# Define Hyperparameters\n",
    "random_grid_rf = {'n_estimators': range(50, 200),\n",
    "              'max_depth': range(1, 10),\n",
    "              'min_samples_split': range(2, 10),\n",
    "              'criterion': ['gini', 'entropy']}\n",
    "random_grid_rf"
   ]
  },
  {
   "attachments": {},
   "cell_type": "markdown",
   "metadata": {},
   "source": [
    "Here, we can see the parameters that will be trialled randomly by our model. Next, we fit the train data using the parameters defined. "
   ]
  },
  {
   "cell_type": "code",
   "execution_count": 45,
   "metadata": {},
   "outputs": [
    {
     "data": {
      "text/plain": [
       "RandomizedSearchCV(cv=5, estimator=RandomForestClassifier(random_state=69),\n",
       "                   n_iter=50, n_jobs=-1,\n",
       "                   param_distributions={'criterion': ['gini', 'entropy'],\n",
       "                                        'max_depth': range(1, 10),\n",
       "                                        'min_samples_split': range(2, 10),\n",
       "                                        'n_estimators': range(50, 200)},\n",
       "                   random_state=46, scoring='recall')"
      ]
     },
     "execution_count": 45,
     "metadata": {},
     "output_type": "execute_result"
    }
   ],
   "source": [
    "# Train with Random Search\n",
    "\n",
    "rf_randomcv = RandomizedSearchCV(estimator=rf_model, \n",
    "                                 param_distributions=random_grid_rf,\n",
    "                                 n_iter=50,\n",
    "                                 cv=5, \n",
    "                                 random_state=46, \n",
    "                                 n_jobs=-1, \n",
    "                                 scoring='recall')\n",
    "rf_randomcv.fit(X_train_balanced, y_train_balanced)"
   ]
  },
  {
   "cell_type": "code",
   "execution_count": 46,
   "metadata": {},
   "outputs": [
    {
     "data": {
      "text/plain": [
       "{'n_estimators': 80,\n",
       " 'min_samples_split': 5,\n",
       " 'max_depth': 9,\n",
       " 'criterion': 'entropy'}"
      ]
     },
     "execution_count": 46,
     "metadata": {},
     "output_type": "execute_result"
    }
   ],
   "source": [
    "# Get Best Hyperparameters\n",
    "\n",
    "rf_randomcv.best_params_"
   ]
  },
  {
   "attachments": {},
   "cell_type": "markdown",
   "metadata": {},
   "source": [
    "Here, we can see the best hyperparameter after using the RandomSearchCV and we will save the model with best parameter in a new variable."
   ]
  },
  {
   "cell_type": "code",
   "execution_count": 47,
   "metadata": {},
   "outputs": [
    {
     "data": {
      "text/plain": [
       "RandomForestClassifier(criterion='entropy', max_depth=9, min_samples_split=5,\n",
       "                       n_estimators=80, random_state=69)"
      ]
     },
     "execution_count": 47,
     "metadata": {},
     "output_type": "execute_result"
    }
   ],
   "source": [
    "# Get Best Estimator\n",
    "\n",
    "rf_randomcv_best = rf_randomcv.best_estimator_\n",
    "rf_randomcv_best"
   ]
  },
  {
   "attachments": {},
   "cell_type": "markdown",
   "metadata": {},
   "source": [
    "## Adaboost Classifier"
   ]
  },
  {
   "attachments": {},
   "cell_type": "markdown",
   "metadata": {},
   "source": [
    "Next, we find the best hyperparameter for Adaboost classifier."
   ]
  },
  {
   "cell_type": "code",
   "execution_count": 48,
   "metadata": {},
   "outputs": [
    {
     "data": {
      "text/plain": [
       "{'n_estimators': range(50, 200),\n",
       " 'learning_rate': <scipy.stats._distn_infrastructure.rv_continuous_frozen at 0x29b27a94a60>,\n",
       " 'algorithm': ['SAMME', 'SAMME.R']}"
      ]
     },
     "execution_count": 48,
     "metadata": {},
     "output_type": "execute_result"
    }
   ],
   "source": [
    "# Adaboost Classifier Hyperparameter Tuning : Random Search\n",
    "from scipy.stats import uniform\n",
    "# Define Hyperparameters\n",
    "random_grid_ab = {'n_estimators': range(50, 200),\n",
    "              'learning_rate': uniform(0, 1),\n",
    "              'algorithm': ['SAMME', 'SAMME.R']}\n",
    "random_grid_ab"
   ]
  },
  {
   "attachments": {},
   "cell_type": "markdown",
   "metadata": {},
   "source": [
    "After creating the parameter to be searched we will train the model using random search cv."
   ]
  },
  {
   "cell_type": "code",
   "execution_count": 49,
   "metadata": {},
   "outputs": [
    {
     "data": {
      "text/plain": [
       "RandomizedSearchCV(cv=5, estimator=AdaBoostClassifier(random_state=69),\n",
       "                   n_iter=50, n_jobs=-1,\n",
       "                   param_distributions={'algorithm': ['SAMME', 'SAMME.R'],\n",
       "                                        'learning_rate': <scipy.stats._distn_infrastructure.rv_continuous_frozen object at 0x0000029B27A94A60>,\n",
       "                                        'n_estimators': range(50, 200)},\n",
       "                   random_state=46, scoring='recall')"
      ]
     },
     "execution_count": 49,
     "metadata": {},
     "output_type": "execute_result"
    }
   ],
   "source": [
    "# Train Adaboost Classifier with Random Search\n",
    "\n",
    "ab_randomcv = RandomizedSearchCV(estimator=ada_model, \n",
    "                                 param_distributions=random_grid_ab,\n",
    "                                 n_iter=50,\n",
    "                                 cv=5, \n",
    "                                 random_state=46, \n",
    "                                 n_jobs=-1, \n",
    "                                 scoring='recall')\n",
    "ab_randomcv.fit(X_train_balanced, y_train_balanced)"
   ]
  },
  {
   "cell_type": "code",
   "execution_count": 50,
   "metadata": {},
   "outputs": [
    {
     "data": {
      "text/plain": [
       "{'algorithm': 'SAMME.R',\n",
       " 'learning_rate': 0.9634304149536288,\n",
       " 'n_estimators': 196}"
      ]
     },
     "execution_count": 50,
     "metadata": {},
     "output_type": "execute_result"
    }
   ],
   "source": [
    "# Get Best Hyperparameters\n",
    "\n",
    "ab_randomcv.best_params_"
   ]
  },
  {
   "attachments": {},
   "cell_type": "markdown",
   "metadata": {},
   "source": [
    "Here, we can see the best hyperparameter after using the RandomSearchCV and we will save the model with best parameter in a new variable."
   ]
  },
  {
   "cell_type": "code",
   "execution_count": 51,
   "metadata": {},
   "outputs": [
    {
     "data": {
      "text/plain": [
       "AdaBoostClassifier(learning_rate=0.9634304149536288, n_estimators=196,\n",
       "                   random_state=69)"
      ]
     },
     "execution_count": 51,
     "metadata": {},
     "output_type": "execute_result"
    }
   ],
   "source": [
    "# Get Best Estimator\n",
    "\n",
    "ab_randomcv_best = ab_randomcv.best_estimator_\n",
    "ab_randomcv_best"
   ]
  },
  {
   "attachments": {},
   "cell_type": "markdown",
   "metadata": {},
   "source": [
    "## Gradient Boosting Classifier"
   ]
  },
  {
   "attachments": {},
   "cell_type": "markdown",
   "metadata": {},
   "source": [
    "Next, we find the best hyperparameter for Gradient Boosting classifier."
   ]
  },
  {
   "cell_type": "code",
   "execution_count": 52,
   "metadata": {},
   "outputs": [
    {
     "data": {
      "text/plain": [
       "{'learning_rate': <scipy.stats._distn_infrastructure.rv_continuous_frozen at 0x29b27aef730>,\n",
       " 'max_depth': range(1, 10),\n",
       " 'n_estimators': range(50, 200)}"
      ]
     },
     "execution_count": 52,
     "metadata": {},
     "output_type": "execute_result"
    }
   ],
   "source": [
    "# Gradient Boosting Classifier Hyperparameter Tuning : Random Search\n",
    "\n",
    "# Define Hyperparameters\n",
    "random_grid_gb = {'learning_rate': uniform(0, 1),\n",
    "              'max_depth': range(1, 10),\n",
    "              'n_estimators': range(50, 200)}\n",
    "random_grid_gb"
   ]
  },
  {
   "attachments": {},
   "cell_type": "markdown",
   "metadata": {},
   "source": [
    "After creating the parameter to be searched we will train the model using random search cv."
   ]
  },
  {
   "cell_type": "code",
   "execution_count": 53,
   "metadata": {},
   "outputs": [
    {
     "data": {
      "text/plain": [
       "RandomizedSearchCV(cv=5, estimator=GradientBoostingClassifier(random_state=69),\n",
       "                   n_iter=50, n_jobs=-1,\n",
       "                   param_distributions={'learning_rate': <scipy.stats._distn_infrastructure.rv_continuous_frozen object at 0x0000029B27AEF730>,\n",
       "                                        'max_depth': range(1, 10),\n",
       "                                        'n_estimators': range(50, 200)},\n",
       "                   random_state=46, scoring='recall')"
      ]
     },
     "execution_count": 53,
     "metadata": {},
     "output_type": "execute_result"
    }
   ],
   "source": [
    "# Train Gradient Boosting Classifier with Random Search\n",
    "\n",
    "gb_randomcv = RandomizedSearchCV(estimator=gb_model, \n",
    "                                 param_distributions=random_grid_gb,\n",
    "                                 n_iter=50,\n",
    "                                 cv=5, \n",
    "                                 random_state=46, \n",
    "                                 n_jobs=-1, \n",
    "                                 scoring='recall')\n",
    "gb_randomcv.fit(X_train_balanced, y_train_balanced)"
   ]
  },
  {
   "cell_type": "code",
   "execution_count": 54,
   "metadata": {},
   "outputs": [
    {
     "data": {
      "text/plain": [
       "{'learning_rate': 0.5559807740145016, 'max_depth': 9, 'n_estimators': 130}"
      ]
     },
     "execution_count": 54,
     "metadata": {},
     "output_type": "execute_result"
    }
   ],
   "source": [
    "# Get Best Hyperparameters\n",
    "\n",
    "gb_randomcv.best_params_"
   ]
  },
  {
   "attachments": {},
   "cell_type": "markdown",
   "metadata": {},
   "source": [
    "Here, we can see the best hyperparameter after using the RandomSearchCV and we will save the model with best parameter in a new variable."
   ]
  },
  {
   "cell_type": "code",
   "execution_count": 55,
   "metadata": {},
   "outputs": [
    {
     "data": {
      "text/plain": [
       "GradientBoostingClassifier(learning_rate=0.5559807740145016, max_depth=9,\n",
       "                           n_estimators=130, random_state=69)"
      ]
     },
     "execution_count": 55,
     "metadata": {},
     "output_type": "execute_result"
    }
   ],
   "source": [
    "# Get Best Estimator\n",
    "\n",
    "gb_randomcv_best = gb_randomcv.best_estimator_\n",
    "gb_randomcv_best"
   ]
  },
  {
   "attachments": {},
   "cell_type": "markdown",
   "metadata": {},
   "source": [
    "## K-Nearest Neighbors"
   ]
  },
  {
   "attachments": {},
   "cell_type": "markdown",
   "metadata": {},
   "source": [
    "Next, we find the best hyperparameter for K-Nearest Neighbors classifier."
   ]
  },
  {
   "cell_type": "code",
   "execution_count": 56,
   "metadata": {},
   "outputs": [
    {
     "data": {
      "text/plain": [
       "{'n_neighbors': array([ 1,  3,  5,  7,  9, 11, 13, 15, 17, 19, 21, 23, 25, 27, 29, 31, 33,\n",
       "        35, 37, 39, 41, 43, 45, 47, 49]),\n",
       " 'weights': ['uniform', 'distance'],\n",
       " 'p': [1, 2]}"
      ]
     },
     "execution_count": 56,
     "metadata": {},
     "output_type": "execute_result"
    }
   ],
   "source": [
    "# Gradient Boosting Classifier Hyperparameter Tuning : Random Search\n",
    "\n",
    "# Define Hyperparameters\n",
    "random_grid_knn = {'n_neighbors': np.arange(1, 51, 2),\n",
    "              'weights': ['uniform', 'distance'],\n",
    "              'p': [1, 2]}\n",
    "random_grid_knn"
   ]
  },
  {
   "attachments": {},
   "cell_type": "markdown",
   "metadata": {},
   "source": [
    "After creating the parameter to be searched we will train the model using random search cv."
   ]
  },
  {
   "cell_type": "code",
   "execution_count": 57,
   "metadata": {},
   "outputs": [
    {
     "data": {
      "text/plain": [
       "RandomizedSearchCV(cv=5, estimator=KNeighborsClassifier(), n_iter=50, n_jobs=-1,\n",
       "                   param_distributions={'n_neighbors': array([ 1,  3,  5,  7,  9, 11, 13, 15, 17, 19, 21, 23, 25, 27, 29, 31, 33,\n",
       "       35, 37, 39, 41, 43, 45, 47, 49]),\n",
       "                                        'p': [1, 2],\n",
       "                                        'weights': ['uniform', 'distance']},\n",
       "                   random_state=46, scoring='recall')"
      ]
     },
     "execution_count": 57,
     "metadata": {},
     "output_type": "execute_result"
    }
   ],
   "source": [
    "# Train Gradient Boosting Classifier with Random Search\n",
    "\n",
    "knn_randomcv = RandomizedSearchCV(estimator=knn_model, \n",
    "                                 param_distributions=random_grid_knn,\n",
    "                                 n_iter=50,\n",
    "                                 cv=5, \n",
    "                                 random_state=46, \n",
    "                                 n_jobs=-1, \n",
    "                                 scoring='recall')\n",
    "knn_randomcv.fit(X_train_balanced, y_train_balanced)"
   ]
  },
  {
   "cell_type": "code",
   "execution_count": 58,
   "metadata": {},
   "outputs": [
    {
     "data": {
      "text/plain": [
       "{'weights': 'distance', 'p': 2, 'n_neighbors': 17}"
      ]
     },
     "execution_count": 58,
     "metadata": {},
     "output_type": "execute_result"
    }
   ],
   "source": [
    "# Get Best Hyperparameters\n",
    "\n",
    "knn_randomcv.best_params_"
   ]
  },
  {
   "attachments": {},
   "cell_type": "markdown",
   "metadata": {},
   "source": [
    "Here, we can see the best hyperparameter after using the RandomSearchCV and we will save the model with best parameter in a new variable."
   ]
  },
  {
   "cell_type": "code",
   "execution_count": 59,
   "metadata": {},
   "outputs": [
    {
     "data": {
      "text/plain": [
       "KNeighborsClassifier(n_neighbors=17, weights='distance')"
      ]
     },
     "execution_count": 59,
     "metadata": {},
     "output_type": "execute_result"
    }
   ],
   "source": [
    "# Get Best Estimator\n",
    "\n",
    "knn_randomcv_best = knn_randomcv.best_estimator_\n",
    "knn_randomcv_best"
   ]
  },
  {
   "attachments": {},
   "cell_type": "markdown",
   "metadata": {},
   "source": [
    "# 9 - Model Evaluation"
   ]
  },
  {
   "attachments": {},
   "cell_type": "markdown",
   "metadata": {},
   "source": [
    "After searching for the best hyperparameters we will use the models to predict on train and test data and compare all of them."
   ]
  },
  {
   "attachments": {},
   "cell_type": "markdown",
   "metadata": {},
   "source": [
    "## Decision Tree Classifier"
   ]
  },
  {
   "cell_type": "code",
   "execution_count": 60,
   "metadata": {},
   "outputs": [
    {
     "name": "stdout",
     "output_type": "stream",
     "text": [
      "Recall Score - Train Set   :  0.7916081734518796 \n",
      "\n",
      "Classification Report : \n",
      "               precision    recall  f1-score   support\n",
      "\n",
      "           0       0.75      0.64      0.69      6370\n",
      "           1       0.69      0.79      0.74      6411\n",
      "\n",
      "    accuracy                           0.72     12781\n",
      "   macro avg       0.72      0.71      0.71     12781\n",
      "weighted avg       0.72      0.72      0.71     12781\n",
      " \n",
      "\n",
      "Confusion Matrix      : \n",
      " <sklearn.metrics._plot.confusion_matrix.ConfusionMatrixDisplay object at 0x0000029B180A8880>\n"
     ]
    },
    {
     "data": {
      "image/png": "[encoded data removed]",
      "text/plain": [
       "<Figure size 640x480 with 2 Axes>"
      ]
     },
     "metadata": {},
     "output_type": "display_data"
    }
   ],
   "source": [
    "# Check Performance Model against Train-Set\n",
    "\n",
    "y_pred_train_dt = dt_randomcv_best.predict(X_train_balanced)\n",
    "\n",
    "print('Recall Score - Train Set   : ', recall_score(y_train_balanced, y_pred_train_dt), '\\n')\n",
    "print('Classification Report : \\n', classification_report(y_train_balanced, y_pred_train_dt), '\\n')\n",
    "print('Confusion Matrix      : \\n', ConfusionMatrixDisplay.from_estimator(dt_randomcv_best, X_train_balanced, y_train_balanced))"
   ]
  },
  {
   "cell_type": "code",
   "execution_count": 61,
   "metadata": {},
   "outputs": [
    {
     "name": "stdout",
     "output_type": "stream",
     "text": [
      "Recall Score - Test Set   :  0.8378378378378378 \n",
      "\n",
      "Classification Report : \n",
      "               precision    recall  f1-score   support\n",
      "\n",
      "           0       0.94      0.64      0.76      1593\n",
      "           1       0.37      0.84      0.51       407\n",
      "\n",
      "    accuracy                           0.68      2000\n",
      "   macro avg       0.65      0.74      0.64      2000\n",
      "weighted avg       0.82      0.68      0.71      2000\n",
      " \n",
      "\n",
      "Confusion Matrix      : \n",
      " <sklearn.metrics._plot.confusion_matrix.ConfusionMatrixDisplay object at 0x0000029B18557940>\n"
     ]
    },
    {
     "data": {
      "image/png": "[encoded data removed]",
      "text/plain": [
       "<Figure size 640x480 with 2 Axes>"
      ]
     },
     "metadata": {},
     "output_type": "display_data"
    }
   ],
   "source": [
    "# Check Performance Model against Test-Set\n",
    "\n",
    "y_pred_test_dt = dt_randomcv_best.predict(X_test_final)\n",
    "\n",
    "print('Recall Score - Test Set   : ', recall_score(y_test, y_pred_test_dt), '\\n')\n",
    "print('Classification Report : \\n', classification_report(y_test, y_pred_test_dt), '\\n')\n",
    "print('Confusion Matrix      : \\n', ConfusionMatrixDisplay.from_estimator(dt_randomcv_best, X_test_final, y_test))"
   ]
  },
  {
   "cell_type": "code",
   "execution_count": 62,
   "metadata": {},
   "outputs": [
    {
     "data": {
      "text/html": [
       "<div>\n",
       "<style scoped>\n",
       "    .dataframe tbody tr th:only-of-type {\n",
       "        vertical-align: middle;\n",
       "    }\n",
       "\n",
       "    .dataframe tbody tr th {\n",
       "        vertical-align: top;\n",
       "    }\n",
       "\n",
       "    .dataframe thead th {\n",
       "        text-align: right;\n",
       "    }\n",
       "</style>\n",
       "<table border=\"1\" class=\"dataframe\">\n",
       "  <thead>\n",
       "    <tr style=\"text-align: right;\">\n",
       "      <th></th>\n",
       "      <th>Decision Tree</th>\n",
       "    </tr>\n",
       "  </thead>\n",
       "  <tbody>\n",
       "    <tr>\n",
       "      <th>test - accuracy_score</th>\n",
       "      <td>0.677500</td>\n",
       "    </tr>\n",
       "    <tr>\n",
       "      <th>test - f1_score</th>\n",
       "      <td>0.513941</td>\n",
       "    </tr>\n",
       "    <tr>\n",
       "      <th>test - precision</th>\n",
       "      <td>0.370652</td>\n",
       "    </tr>\n",
       "    <tr>\n",
       "      <th>test - recall</th>\n",
       "      <td>0.837838</td>\n",
       "    </tr>\n",
       "    <tr>\n",
       "      <th>train - accuracy</th>\n",
       "      <td>0.715202</td>\n",
       "    </tr>\n",
       "    <tr>\n",
       "      <th>train - f1_score</th>\n",
       "      <td>0.736041</td>\n",
       "    </tr>\n",
       "    <tr>\n",
       "      <th>train - precision</th>\n",
       "      <td>0.687763</td>\n",
       "    </tr>\n",
       "    <tr>\n",
       "      <th>train - recall</th>\n",
       "      <td>0.791608</td>\n",
       "    </tr>\n",
       "  </tbody>\n",
       "</table>\n",
       "</div>"
      ],
      "text/plain": [
       "                       Decision Tree\n",
       "test - accuracy_score       0.677500\n",
       "test - f1_score             0.513941\n",
       "test - precision            0.370652\n",
       "test - recall               0.837838\n",
       "train - accuracy            0.715202\n",
       "train - f1_score            0.736041\n",
       "train - precision           0.687763\n",
       "train - recall              0.791608"
      ]
     },
     "execution_count": 62,
     "metadata": {},
     "output_type": "execute_result"
    }
   ],
   "source": [
    "# Save Classification Report into a Dictionary\n",
    "all_reports = {}\n",
    "score_reports = {\n",
    "    'train - precision' : precision_score(y_train_balanced, y_pred_train_dt),\n",
    "    'train - recall' : recall_score(y_train_balanced, y_pred_train_dt),\n",
    "    'train - accuracy' : accuracy_score(y_train_balanced, y_pred_train_dt),\n",
    "    'train - f1_score' : f1_score(y_train_balanced, y_pred_train_dt),\n",
    "    'test - precision' : precision_score(y_test, y_pred_test_dt),\n",
    "    'test - recall' : recall_score(y_test, y_pred_test_dt),\n",
    "    'test - accuracy_score' : accuracy_score(y_test, y_pred_test_dt),\n",
    "    'test - f1_score' : f1_score(y_test, y_pred_test_dt),\n",
    "}\n",
    "all_reports['Decision Tree'] = score_reports\n",
    "pd.DataFrame(all_reports)"
   ]
  },
  {
   "attachments": {},
   "cell_type": "markdown",
   "metadata": {},
   "source": [
    "After we use the model with the best hyperparameter tuned and searched using RandomSearchCV, we use the model to predict on the train and test data. As stated before, we are focusing on the recall score for a specific reason. The tuned model achieved 0.79 recall score on the train data and 0.83 recall score on the test data."
   ]
  },
  {
   "attachments": {},
   "cell_type": "markdown",
   "metadata": {},
   "source": [
    "## Random Forest Classifier"
   ]
  },
  {
   "cell_type": "code",
   "execution_count": 63,
   "metadata": {},
   "outputs": [
    {
     "name": "stdout",
     "output_type": "stream",
     "text": [
      "Recall Score - Train Set   :  0.8691311807830292 \n",
      "\n",
      "Classification Report : \n",
      "               precision    recall  f1-score   support\n",
      "\n",
      "           0       0.85      0.77      0.81      6370\n",
      "           1       0.79      0.87      0.83      6411\n",
      "\n",
      "    accuracy                           0.82     12781\n",
      "   macro avg       0.82      0.82      0.82     12781\n",
      "weighted avg       0.82      0.82      0.82     12781\n",
      " \n",
      "\n",
      "Confusion Matrix      : \n",
      " <sklearn.metrics._plot.confusion_matrix.ConfusionMatrixDisplay object at 0x0000029B17196B50>\n"
     ]
    },
    {
     "data": {
      "image/png": "[encoded data removed]",
      "text/plain": [
       "<Figure size 640x480 with 2 Axes>"
      ]
     },
     "metadata": {},
     "output_type": "display_data"
    }
   ],
   "source": [
    "# Check Performance Model against Train-Set\n",
    "\n",
    "y_pred_train_rf = rf_randomcv_best.predict(X_train_balanced)\n",
    "\n",
    "print('Recall Score - Train Set   : ', recall_score(y_train_balanced, y_pred_train_rf), '\\n')\n",
    "print('Classification Report : \\n', classification_report(y_train_balanced, y_pred_train_rf), '\\n')\n",
    "print('Confusion Matrix      : \\n', ConfusionMatrixDisplay.from_estimator(rf_randomcv_best, X_train_balanced, y_train_balanced))"
   ]
  },
  {
   "cell_type": "code",
   "execution_count": 64,
   "metadata": {},
   "outputs": [
    {
     "name": "stdout",
     "output_type": "stream",
     "text": [
      "Recall Score - Test Set   :  0.7813267813267813 \n",
      "\n",
      "Classification Report : \n",
      "               precision    recall  f1-score   support\n",
      "\n",
      "           0       0.93      0.74      0.82      1593\n",
      "           1       0.43      0.78      0.56       407\n",
      "\n",
      "    accuracy                           0.75      2000\n",
      "   macro avg       0.68      0.76      0.69      2000\n",
      "weighted avg       0.83      0.75      0.77      2000\n",
      " \n",
      "\n",
      "Confusion Matrix      : \n",
      " <sklearn.metrics._plot.confusion_matrix.ConfusionMatrixDisplay object at 0x0000029B17256DC0>\n"
     ]
    },
    {
     "data": {
      "image/png": "[encoded data removed]",
      "text/plain": [
       "<Figure size 640x480 with 2 Axes>"
      ]
     },
     "metadata": {},
     "output_type": "display_data"
    }
   ],
   "source": [
    "# Check Performance Model against Test-Set\n",
    "\n",
    "y_pred_test_rf = rf_randomcv_best.predict(X_test_final)\n",
    "\n",
    "print('Recall Score - Test Set   : ', recall_score(y_test, y_pred_test_rf), '\\n')\n",
    "print('Classification Report : \\n', classification_report(y_test, y_pred_test_rf), '\\n')\n",
    "print('Confusion Matrix      : \\n', ConfusionMatrixDisplay.from_estimator(rf_randomcv_best, X_test_final, y_test))"
   ]
  },
  {
   "cell_type": "code",
   "execution_count": 65,
   "metadata": {},
   "outputs": [
    {
     "data": {
      "text/html": [
       "<div>\n",
       "<style scoped>\n",
       "    .dataframe tbody tr th:only-of-type {\n",
       "        vertical-align: middle;\n",
       "    }\n",
       "\n",
       "    .dataframe tbody tr th {\n",
       "        vertical-align: top;\n",
       "    }\n",
       "\n",
       "    .dataframe thead th {\n",
       "        text-align: right;\n",
       "    }\n",
       "</style>\n",
       "<table border=\"1\" class=\"dataframe\">\n",
       "  <thead>\n",
       "    <tr style=\"text-align: right;\">\n",
       "      <th></th>\n",
       "      <th>Decision Tree</th>\n",
       "      <th>Random Forest</th>\n",
       "    </tr>\n",
       "  </thead>\n",
       "  <tbody>\n",
       "    <tr>\n",
       "      <th>train - precision</th>\n",
       "      <td>0.687763</td>\n",
       "      <td>0.790130</td>\n",
       "    </tr>\n",
       "    <tr>\n",
       "      <th>train - recall</th>\n",
       "      <td>0.791608</td>\n",
       "      <td>0.869131</td>\n",
       "    </tr>\n",
       "    <tr>\n",
       "      <th>train - accuracy</th>\n",
       "      <td>0.715202</td>\n",
       "      <td>0.818559</td>\n",
       "    </tr>\n",
       "    <tr>\n",
       "      <th>train - f1_score</th>\n",
       "      <td>0.736041</td>\n",
       "      <td>0.827750</td>\n",
       "    </tr>\n",
       "    <tr>\n",
       "      <th>test - precision</th>\n",
       "      <td>0.370652</td>\n",
       "      <td>0.433834</td>\n",
       "    </tr>\n",
       "    <tr>\n",
       "      <th>test - recall</th>\n",
       "      <td>0.837838</td>\n",
       "      <td>0.781327</td>\n",
       "    </tr>\n",
       "    <tr>\n",
       "      <th>test - accuracy_score</th>\n",
       "      <td>0.677500</td>\n",
       "      <td>0.748000</td>\n",
       "    </tr>\n",
       "    <tr>\n",
       "      <th>test - f1_score</th>\n",
       "      <td>0.513941</td>\n",
       "      <td>0.557895</td>\n",
       "    </tr>\n",
       "  </tbody>\n",
       "</table>\n",
       "</div>"
      ],
      "text/plain": [
       "                       Decision Tree  Random Forest\n",
       "train - precision           0.687763       0.790130\n",
       "train - recall              0.791608       0.869131\n",
       "train - accuracy            0.715202       0.818559\n",
       "train - f1_score            0.736041       0.827750\n",
       "test - precision            0.370652       0.433834\n",
       "test - recall               0.837838       0.781327\n",
       "test - accuracy_score       0.677500       0.748000\n",
       "test - f1_score             0.513941       0.557895"
      ]
     },
     "execution_count": 65,
     "metadata": {},
     "output_type": "execute_result"
    }
   ],
   "source": [
    "# Save Classification Report into a Dictionary\n",
    "\n",
    "score_reports = {\n",
    "    'train - precision' : precision_score(y_train_balanced, y_pred_train_rf),\n",
    "    'train - recall' : recall_score(y_train_balanced, y_pred_train_rf),\n",
    "    'train - accuracy' : accuracy_score(y_train_balanced, y_pred_train_rf),\n",
    "    'train - f1_score' : f1_score(y_train_balanced, y_pred_train_rf),\n",
    "    'test - precision' : precision_score(y_test, y_pred_test_rf),\n",
    "    'test - recall' : recall_score(y_test, y_pred_test_rf),\n",
    "    'test - accuracy_score' : accuracy_score(y_test, y_pred_test_rf),\n",
    "    'test - f1_score' : f1_score(y_test, y_pred_test_rf),\n",
    "}\n",
    "all_reports['Random Forest'] = score_reports\n",
    "pd.DataFrame(all_reports)"
   ]
  },
  {
   "attachments": {},
   "cell_type": "markdown",
   "metadata": {},
   "source": [
    "After we use the model with the best hyperparameter tuned and searched using RandomSearchCV, we use the model to predict on the train and test data. As stated before, we are focusing on the recall score for a specific reason. The tuned model achieved 0.86 recall score on the train data and 0.78 recall score on the test data."
   ]
  },
  {
   "attachments": {},
   "cell_type": "markdown",
   "metadata": {},
   "source": [
    "## Adaboost Classifier"
   ]
  },
  {
   "cell_type": "code",
   "execution_count": 66,
   "metadata": {},
   "outputs": [
    {
     "name": "stdout",
     "output_type": "stream",
     "text": [
      "Recall Score - Train Set   :  0.7732023085322103 \n",
      "\n",
      "Classification Report : \n",
      "               precision    recall  f1-score   support\n",
      "\n",
      "           0       0.77      0.78      0.78      6370\n",
      "           1       0.78      0.77      0.78      6411\n",
      "\n",
      "    accuracy                           0.78     12781\n",
      "   macro avg       0.78      0.78      0.78     12781\n",
      "weighted avg       0.78      0.78      0.78     12781\n",
      " \n",
      "\n",
      "Confusion Matrix      : \n",
      " <sklearn.metrics._plot.confusion_matrix.ConfusionMatrixDisplay object at 0x0000029B185964F0>\n"
     ]
    },
    {
     "data": {
      "image/png": "[encoded data removed]",
      "text/plain": [
       "<Figure size 640x480 with 2 Axes>"
      ]
     },
     "metadata": {},
     "output_type": "display_data"
    }
   ],
   "source": [
    "# Check Performance Model against Train-Set\n",
    "\n",
    "y_pred_train_ab = ab_randomcv_best.predict(X_train_balanced)\n",
    "\n",
    "print('Recall Score - Train Set   : ', recall_score(y_train_balanced, y_pred_train_ab), '\\n')\n",
    "print('Classification Report : \\n', classification_report(y_train_balanced, y_pred_train_ab), '\\n')\n",
    "print('Confusion Matrix      : \\n', ConfusionMatrixDisplay.from_estimator(ab_randomcv_best, X_train_balanced, y_train_balanced))"
   ]
  },
  {
   "cell_type": "code",
   "execution_count": 67,
   "metadata": {},
   "outputs": [
    {
     "name": "stdout",
     "output_type": "stream",
     "text": [
      "Recall Score - Test Set   :  0.7518427518427518 \n",
      "\n",
      "Classification Report : \n",
      "               precision    recall  f1-score   support\n",
      "\n",
      "           0       0.92      0.76      0.84      1593\n",
      "           1       0.45      0.75      0.56       407\n",
      "\n",
      "    accuracy                           0.76      2000\n",
      "   macro avg       0.69      0.76      0.70      2000\n",
      "weighted avg       0.83      0.76      0.78      2000\n",
      " \n",
      "\n",
      "Confusion Matrix      : \n",
      " <sklearn.metrics._plot.confusion_matrix.ConfusionMatrixDisplay object at 0x0000029B185E0D00>\n"
     ]
    },
    {
     "data": {
      "image/png": "[encoded data removed]",
      "text/plain": [
       "<Figure size 640x480 with 2 Axes>"
      ]
     },
     "metadata": {},
     "output_type": "display_data"
    }
   ],
   "source": [
    "# Check Performance Model against Test-Set\n",
    "\n",
    "y_pred_test_ab = ab_randomcv_best.predict(X_test_final)\n",
    "\n",
    "print('Recall Score - Test Set   : ', recall_score(y_test, y_pred_test_ab), '\\n')\n",
    "print('Classification Report : \\n', classification_report(y_test, y_pred_test_ab), '\\n')\n",
    "print('Confusion Matrix      : \\n', ConfusionMatrixDisplay.from_estimator(ab_randomcv_best, X_test_final, y_test))"
   ]
  },
  {
   "cell_type": "code",
   "execution_count": 68,
   "metadata": {},
   "outputs": [
    {
     "data": {
      "text/html": [
       "<div>\n",
       "<style scoped>\n",
       "    .dataframe tbody tr th:only-of-type {\n",
       "        vertical-align: middle;\n",
       "    }\n",
       "\n",
       "    .dataframe tbody tr th {\n",
       "        vertical-align: top;\n",
       "    }\n",
       "\n",
       "    .dataframe thead th {\n",
       "        text-align: right;\n",
       "    }\n",
       "</style>\n",
       "<table border=\"1\" class=\"dataframe\">\n",
       "  <thead>\n",
       "    <tr style=\"text-align: right;\">\n",
       "      <th></th>\n",
       "      <th>Decision Tree</th>\n",
       "      <th>Random Forest</th>\n",
       "      <th>Adaboost Classifier</th>\n",
       "    </tr>\n",
       "  </thead>\n",
       "  <tbody>\n",
       "    <tr>\n",
       "      <th>train - precision</th>\n",
       "      <td>0.687763</td>\n",
       "      <td>0.790130</td>\n",
       "      <td>0.780876</td>\n",
       "    </tr>\n",
       "    <tr>\n",
       "      <th>train - recall</th>\n",
       "      <td>0.791608</td>\n",
       "      <td>0.869131</td>\n",
       "      <td>0.773202</td>\n",
       "    </tr>\n",
       "    <tr>\n",
       "      <th>train - accuracy</th>\n",
       "      <td>0.715202</td>\n",
       "      <td>0.818559</td>\n",
       "      <td>0.777404</td>\n",
       "    </tr>\n",
       "    <tr>\n",
       "      <th>train - f1_score</th>\n",
       "      <td>0.736041</td>\n",
       "      <td>0.827750</td>\n",
       "      <td>0.777020</td>\n",
       "    </tr>\n",
       "    <tr>\n",
       "      <th>test - precision</th>\n",
       "      <td>0.370652</td>\n",
       "      <td>0.433834</td>\n",
       "      <td>0.448680</td>\n",
       "    </tr>\n",
       "    <tr>\n",
       "      <th>test - recall</th>\n",
       "      <td>0.837838</td>\n",
       "      <td>0.781327</td>\n",
       "      <td>0.751843</td>\n",
       "    </tr>\n",
       "    <tr>\n",
       "      <th>test - accuracy_score</th>\n",
       "      <td>0.677500</td>\n",
       "      <td>0.748000</td>\n",
       "      <td>0.761500</td>\n",
       "    </tr>\n",
       "    <tr>\n",
       "      <th>test - f1_score</th>\n",
       "      <td>0.513941</td>\n",
       "      <td>0.557895</td>\n",
       "      <td>0.561983</td>\n",
       "    </tr>\n",
       "  </tbody>\n",
       "</table>\n",
       "</div>"
      ],
      "text/plain": [
       "                       Decision Tree  Random Forest  Adaboost Classifier\n",
       "train - precision           0.687763       0.790130             0.780876\n",
       "train - recall              0.791608       0.869131             0.773202\n",
       "train - accuracy            0.715202       0.818559             0.777404\n",
       "train - f1_score            0.736041       0.827750             0.777020\n",
       "test - precision            0.370652       0.433834             0.448680\n",
       "test - recall               0.837838       0.781327             0.751843\n",
       "test - accuracy_score       0.677500       0.748000             0.761500\n",
       "test - f1_score             0.513941       0.557895             0.561983"
      ]
     },
     "execution_count": 68,
     "metadata": {},
     "output_type": "execute_result"
    }
   ],
   "source": [
    "# Save Classification Report into a Dictionary\n",
    "\n",
    "score_reports = {\n",
    "    'train - precision' : precision_score(y_train_balanced, y_pred_train_ab),\n",
    "    'train - recall' : recall_score(y_train_balanced, y_pred_train_ab),\n",
    "    'train - accuracy' : accuracy_score(y_train_balanced, y_pred_train_ab),\n",
    "    'train - f1_score' : f1_score(y_train_balanced, y_pred_train_ab),\n",
    "    'test - precision' : precision_score(y_test, y_pred_test_ab),\n",
    "    'test - recall' : recall_score(y_test, y_pred_test_ab),\n",
    "    'test - accuracy_score' : accuracy_score(y_test, y_pred_test_ab),\n",
    "    'test - f1_score' : f1_score(y_test, y_pred_test_ab),\n",
    "}\n",
    "all_reports['Adaboost Classifier'] = score_reports\n",
    "pd.DataFrame(all_reports)"
   ]
  },
  {
   "attachments": {},
   "cell_type": "markdown",
   "metadata": {},
   "source": [
    "After we use the model with the best hyperparameter tuned and searched using RandomSearchCV, we use the model to predict on the train and test data. As stated before, we are focusing on the recall score for a specific reason. The tuned model achieved 0.77 recall score on the train data and 0.75 recall score on the test data."
   ]
  },
  {
   "attachments": {},
   "cell_type": "markdown",
   "metadata": {},
   "source": [
    "## Gradient Boosting Classifier"
   ]
  },
  {
   "cell_type": "code",
   "execution_count": 69,
   "metadata": {},
   "outputs": [
    {
     "name": "stdout",
     "output_type": "stream",
     "text": [
      "Recall Score - Train Set   :  0.9789424426766495 \n",
      "\n",
      "Classification Report : \n",
      "               precision    recall  f1-score   support\n",
      "\n",
      "           0       0.98      0.99      0.98      6370\n",
      "           1       0.99      0.98      0.98      6411\n",
      "\n",
      "    accuracy                           0.98     12781\n",
      "   macro avg       0.98      0.98      0.98     12781\n",
      "weighted avg       0.98      0.98      0.98     12781\n",
      " \n",
      "\n",
      "Confusion Matrix      : \n",
      " <sklearn.metrics._plot.confusion_matrix.ConfusionMatrixDisplay object at 0x0000029B19C9CA90>\n"
     ]
    },
    {
     "data": {
      "image/png": "[encoded data removed]",
      "text/plain": [
       "<Figure size 640x480 with 2 Axes>"
      ]
     },
     "metadata": {},
     "output_type": "display_data"
    }
   ],
   "source": [
    "# Check Performance Model against Train-Set\n",
    "\n",
    "y_pred_train_gb = gb_randomcv_best.predict(X_train_balanced)\n",
    "\n",
    "print('Recall Score - Train Set   : ', recall_score(y_train_balanced, y_pred_train_gb), '\\n')\n",
    "print('Classification Report : \\n', classification_report(y_train_balanced, y_pred_train_gb), '\\n')\n",
    "print('Confusion Matrix      : \\n', ConfusionMatrixDisplay.from_estimator(gb_randomcv_best, X_train_balanced, y_train_balanced))"
   ]
  },
  {
   "cell_type": "code",
   "execution_count": 70,
   "metadata": {},
   "outputs": [
    {
     "name": "stdout",
     "output_type": "stream",
     "text": [
      "Recall Score - Test Set   :  0.5528255528255528 \n",
      "\n",
      "Classification Report : \n",
      "               precision    recall  f1-score   support\n",
      "\n",
      "           0       0.89      0.89      0.89      1593\n",
      "           1       0.57      0.55      0.56       407\n",
      "\n",
      "    accuracy                           0.82      2000\n",
      "   macro avg       0.73      0.72      0.73      2000\n",
      "weighted avg       0.82      0.82      0.82      2000\n",
      " \n",
      "\n",
      "Confusion Matrix      : \n",
      " <sklearn.metrics._plot.confusion_matrix.ConfusionMatrixDisplay object at 0x0000029B1857EAC0>\n"
     ]
    },
    {
     "data": {
      "image/png": "[encoded data removed]",
      "text/plain": [
       "<Figure size 640x480 with 2 Axes>"
      ]
     },
     "metadata": {},
     "output_type": "display_data"
    }
   ],
   "source": [
    "# Check Performance Model against Test-Set\n",
    "\n",
    "y_pred_test_gb = gb_randomcv_best.predict(X_test_final)\n",
    "\n",
    "print('Recall Score - Test Set   : ', recall_score(y_test, y_pred_test_gb), '\\n')\n",
    "print('Classification Report : \\n', classification_report(y_test, y_pred_test_gb), '\\n')\n",
    "print('Confusion Matrix      : \\n', ConfusionMatrixDisplay.from_estimator(gb_randomcv_best, X_test_final, y_test))"
   ]
  },
  {
   "cell_type": "code",
   "execution_count": 71,
   "metadata": {},
   "outputs": [
    {
     "data": {
      "text/html": [
       "<div>\n",
       "<style scoped>\n",
       "    .dataframe tbody tr th:only-of-type {\n",
       "        vertical-align: middle;\n",
       "    }\n",
       "\n",
       "    .dataframe tbody tr th {\n",
       "        vertical-align: top;\n",
       "    }\n",
       "\n",
       "    .dataframe thead th {\n",
       "        text-align: right;\n",
       "    }\n",
       "</style>\n",
       "<table border=\"1\" class=\"dataframe\">\n",
       "  <thead>\n",
       "    <tr style=\"text-align: right;\">\n",
       "      <th></th>\n",
       "      <th>Decision Tree</th>\n",
       "      <th>Random Forest</th>\n",
       "      <th>Adaboost Classifier</th>\n",
       "      <th>Gradient Boosting</th>\n",
       "    </tr>\n",
       "  </thead>\n",
       "  <tbody>\n",
       "    <tr>\n",
       "      <th>train - precision</th>\n",
       "      <td>0.687763</td>\n",
       "      <td>0.790130</td>\n",
       "      <td>0.780876</td>\n",
       "      <td>0.989905</td>\n",
       "    </tr>\n",
       "    <tr>\n",
       "      <th>train - recall</th>\n",
       "      <td>0.791608</td>\n",
       "      <td>0.869131</td>\n",
       "      <td>0.773202</td>\n",
       "      <td>0.978942</td>\n",
       "    </tr>\n",
       "    <tr>\n",
       "      <th>train - accuracy</th>\n",
       "      <td>0.715202</td>\n",
       "      <td>0.818559</td>\n",
       "      <td>0.777404</td>\n",
       "      <td>0.984430</td>\n",
       "    </tr>\n",
       "    <tr>\n",
       "      <th>train - f1_score</th>\n",
       "      <td>0.736041</td>\n",
       "      <td>0.827750</td>\n",
       "      <td>0.777020</td>\n",
       "      <td>0.984393</td>\n",
       "    </tr>\n",
       "    <tr>\n",
       "      <th>test - precision</th>\n",
       "      <td>0.370652</td>\n",
       "      <td>0.433834</td>\n",
       "      <td>0.448680</td>\n",
       "      <td>0.572519</td>\n",
       "    </tr>\n",
       "    <tr>\n",
       "      <th>test - recall</th>\n",
       "      <td>0.837838</td>\n",
       "      <td>0.781327</td>\n",
       "      <td>0.751843</td>\n",
       "      <td>0.552826</td>\n",
       "    </tr>\n",
       "    <tr>\n",
       "      <th>test - accuracy_score</th>\n",
       "      <td>0.677500</td>\n",
       "      <td>0.748000</td>\n",
       "      <td>0.761500</td>\n",
       "      <td>0.825000</td>\n",
       "    </tr>\n",
       "    <tr>\n",
       "      <th>test - f1_score</th>\n",
       "      <td>0.513941</td>\n",
       "      <td>0.557895</td>\n",
       "      <td>0.561983</td>\n",
       "      <td>0.562500</td>\n",
       "    </tr>\n",
       "  </tbody>\n",
       "</table>\n",
       "</div>"
      ],
      "text/plain": [
       "                       Decision Tree  Random Forest  Adaboost Classifier  \\\n",
       "train - precision           0.687763       0.790130             0.780876   \n",
       "train - recall              0.791608       0.869131             0.773202   \n",
       "train - accuracy            0.715202       0.818559             0.777404   \n",
       "train - f1_score            0.736041       0.827750             0.777020   \n",
       "test - precision            0.370652       0.433834             0.448680   \n",
       "test - recall               0.837838       0.781327             0.751843   \n",
       "test - accuracy_score       0.677500       0.748000             0.761500   \n",
       "test - f1_score             0.513941       0.557895             0.561983   \n",
       "\n",
       "                       Gradient Boosting  \n",
       "train - precision               0.989905  \n",
       "train - recall                  0.978942  \n",
       "train - accuracy                0.984430  \n",
       "train - f1_score                0.984393  \n",
       "test - precision                0.572519  \n",
       "test - recall                   0.552826  \n",
       "test - accuracy_score           0.825000  \n",
       "test - f1_score                 0.562500  "
      ]
     },
     "execution_count": 71,
     "metadata": {},
     "output_type": "execute_result"
    }
   ],
   "source": [
    "# Save Classification Report into a Dictionary\n",
    "\n",
    "score_reports = {\n",
    "    'train - precision' : precision_score(y_train_balanced, y_pred_train_gb),\n",
    "    'train - recall' : recall_score(y_train_balanced, y_pred_train_gb),\n",
    "    'train - accuracy' : accuracy_score(y_train_balanced, y_pred_train_gb),\n",
    "    'train - f1_score' : f1_score(y_train_balanced, y_pred_train_gb),\n",
    "    'test - precision' : precision_score(y_test, y_pred_test_gb),\n",
    "    'test - recall' : recall_score(y_test, y_pred_test_gb),\n",
    "    'test - accuracy_score' : accuracy_score(y_test, y_pred_test_gb),\n",
    "    'test - f1_score' : f1_score(y_test, y_pred_test_gb),\n",
    "}\n",
    "all_reports['Gradient Boosting'] = score_reports\n",
    "pd.DataFrame(all_reports)"
   ]
  },
  {
   "attachments": {},
   "cell_type": "markdown",
   "metadata": {},
   "source": [
    "After we use the model with the best hyperparameter tuned and searched using RandomSearchCV, we use the model to predict on the train and test data. As stated before, we are focusing on the recall score for a specific reason. The tuned model achieved 0.97 recall score on the train data and 0.55 recall score on the test data."
   ]
  },
  {
   "attachments": {},
   "cell_type": "markdown",
   "metadata": {},
   "source": [
    "## KNN"
   ]
  },
  {
   "cell_type": "code",
   "execution_count": 72,
   "metadata": {},
   "outputs": [
    {
     "name": "stdout",
     "output_type": "stream",
     "text": [
      "Recall Score - Train Set   :  0.9772266417095616 \n",
      "\n",
      "Classification Report : \n",
      "               precision    recall  f1-score   support\n",
      "\n",
      "           0       0.98      0.99      0.98      6370\n",
      "           1       0.99      0.98      0.98      6411\n",
      "\n",
      "    accuracy                           0.98     12781\n",
      "   macro avg       0.98      0.98      0.98     12781\n",
      "weighted avg       0.98      0.98      0.98     12781\n",
      " \n",
      "\n",
      "Confusion Matrix      : \n",
      " <sklearn.metrics._plot.confusion_matrix.ConfusionMatrixDisplay object at 0x0000029B27AF59A0>\n"
     ]
    },
    {
     "data": {
      "image/png": "[encoded data removed]",
      "text/plain": [
       "<Figure size 640x480 with 2 Axes>"
      ]
     },
     "metadata": {},
     "output_type": "display_data"
    }
   ],
   "source": [
    "# Check Performance Model against Train-Set\n",
    "\n",
    "y_pred_train_knn = knn_randomcv_best.predict(X_train_balanced)\n",
    "\n",
    "print('Recall Score - Train Set   : ', recall_score(y_train_balanced, y_pred_train_knn), '\\n')\n",
    "print('Classification Report : \\n', classification_report(y_train_balanced, y_pred_train_knn), '\\n')\n",
    "print('Confusion Matrix      : \\n', ConfusionMatrixDisplay.from_estimator(knn_randomcv_best, X_train_balanced, y_train_balanced))"
   ]
  },
  {
   "cell_type": "code",
   "execution_count": 73,
   "metadata": {},
   "outputs": [
    {
     "name": "stdout",
     "output_type": "stream",
     "text": [
      "Recall Score - Test Set   :  0.7076167076167076 \n",
      "\n",
      "Classification Report : \n",
      "               precision    recall  f1-score   support\n",
      "\n",
      "           0       0.91      0.78      0.84      1593\n",
      "           1       0.45      0.71      0.55       407\n",
      "\n",
      "    accuracy                           0.77      2000\n",
      "   macro avg       0.68      0.74      0.70      2000\n",
      "weighted avg       0.82      0.77      0.78      2000\n",
      " \n",
      "\n",
      "Confusion Matrix      : \n",
      " <sklearn.metrics._plot.confusion_matrix.ConfusionMatrixDisplay object at 0x0000029B16951580>\n"
     ]
    },
    {
     "data": {
      "image/png": "[encoded data removed]",
      "text/plain": [
       "<Figure size 640x480 with 2 Axes>"
      ]
     },
     "metadata": {},
     "output_type": "display_data"
    }
   ],
   "source": [
    "# Check Performance Model against Test-Set\n",
    "\n",
    "y_pred_test_knn = knn_randomcv_best.predict(X_test_final)\n",
    "\n",
    "print('Recall Score - Test Set   : ', recall_score(y_test, y_pred_test_knn), '\\n')\n",
    "print('Classification Report : \\n', classification_report(y_test, y_pred_test_knn), '\\n')\n",
    "print('Confusion Matrix      : \\n', ConfusionMatrixDisplay.from_estimator(knn_randomcv_best, X_test_final, y_test))"
   ]
  },
  {
   "cell_type": "code",
   "execution_count": 74,
   "metadata": {},
   "outputs": [
    {
     "data": {
      "text/html": [
       "<div>\n",
       "<style scoped>\n",
       "    .dataframe tbody tr th:only-of-type {\n",
       "        vertical-align: middle;\n",
       "    }\n",
       "\n",
       "    .dataframe tbody tr th {\n",
       "        vertical-align: top;\n",
       "    }\n",
       "\n",
       "    .dataframe thead th {\n",
       "        text-align: right;\n",
       "    }\n",
       "</style>\n",
       "<table border=\"1\" class=\"dataframe\">\n",
       "  <thead>\n",
       "    <tr style=\"text-align: right;\">\n",
       "      <th></th>\n",
       "      <th>Decision Tree</th>\n",
       "      <th>Random Forest</th>\n",
       "      <th>Adaboost Classifier</th>\n",
       "      <th>Gradient Boosting</th>\n",
       "      <th>KNN</th>\n",
       "    </tr>\n",
       "  </thead>\n",
       "  <tbody>\n",
       "    <tr>\n",
       "      <th>train - precision</th>\n",
       "      <td>0.687763</td>\n",
       "      <td>0.790130</td>\n",
       "      <td>0.780876</td>\n",
       "      <td>0.989905</td>\n",
       "      <td>0.991611</td>\n",
       "    </tr>\n",
       "    <tr>\n",
       "      <th>train - recall</th>\n",
       "      <td>0.791608</td>\n",
       "      <td>0.869131</td>\n",
       "      <td>0.773202</td>\n",
       "      <td>0.978942</td>\n",
       "      <td>0.977227</td>\n",
       "    </tr>\n",
       "    <tr>\n",
       "      <th>train - accuracy</th>\n",
       "      <td>0.715202</td>\n",
       "      <td>0.818559</td>\n",
       "      <td>0.777404</td>\n",
       "      <td>0.984430</td>\n",
       "      <td>0.984430</td>\n",
       "    </tr>\n",
       "    <tr>\n",
       "      <th>train - f1_score</th>\n",
       "      <td>0.736041</td>\n",
       "      <td>0.827750</td>\n",
       "      <td>0.777020</td>\n",
       "      <td>0.984393</td>\n",
       "      <td>0.984366</td>\n",
       "    </tr>\n",
       "    <tr>\n",
       "      <th>test - precision</th>\n",
       "      <td>0.370652</td>\n",
       "      <td>0.433834</td>\n",
       "      <td>0.448680</td>\n",
       "      <td>0.572519</td>\n",
       "      <td>0.453543</td>\n",
       "    </tr>\n",
       "    <tr>\n",
       "      <th>test - recall</th>\n",
       "      <td>0.837838</td>\n",
       "      <td>0.781327</td>\n",
       "      <td>0.751843</td>\n",
       "      <td>0.552826</td>\n",
       "      <td>0.707617</td>\n",
       "    </tr>\n",
       "    <tr>\n",
       "      <th>test - accuracy_score</th>\n",
       "      <td>0.677500</td>\n",
       "      <td>0.748000</td>\n",
       "      <td>0.761500</td>\n",
       "      <td>0.825000</td>\n",
       "      <td>0.767000</td>\n",
       "    </tr>\n",
       "    <tr>\n",
       "      <th>test - f1_score</th>\n",
       "      <td>0.513941</td>\n",
       "      <td>0.557895</td>\n",
       "      <td>0.561983</td>\n",
       "      <td>0.562500</td>\n",
       "      <td>0.552783</td>\n",
       "    </tr>\n",
       "  </tbody>\n",
       "</table>\n",
       "</div>"
      ],
      "text/plain": [
       "                       Decision Tree  Random Forest  Adaboost Classifier  \\\n",
       "train - precision           0.687763       0.790130             0.780876   \n",
       "train - recall              0.791608       0.869131             0.773202   \n",
       "train - accuracy            0.715202       0.818559             0.777404   \n",
       "train - f1_score            0.736041       0.827750             0.777020   \n",
       "test - precision            0.370652       0.433834             0.448680   \n",
       "test - recall               0.837838       0.781327             0.751843   \n",
       "test - accuracy_score       0.677500       0.748000             0.761500   \n",
       "test - f1_score             0.513941       0.557895             0.561983   \n",
       "\n",
       "                       Gradient Boosting       KNN  \n",
       "train - precision               0.989905  0.991611  \n",
       "train - recall                  0.978942  0.977227  \n",
       "train - accuracy                0.984430  0.984430  \n",
       "train - f1_score                0.984393  0.984366  \n",
       "test - precision                0.572519  0.453543  \n",
       "test - recall                   0.552826  0.707617  \n",
       "test - accuracy_score           0.825000  0.767000  \n",
       "test - f1_score                 0.562500  0.552783  "
      ]
     },
     "execution_count": 74,
     "metadata": {},
     "output_type": "execute_result"
    }
   ],
   "source": [
    "# Save Classification Report into a Dictionary\n",
    "\n",
    "score_reports = {\n",
    "    'train - precision' : precision_score(y_train_balanced, y_pred_train_knn),\n",
    "    'train - recall' : recall_score(y_train_balanced, y_pred_train_knn),\n",
    "    'train - accuracy' : accuracy_score(y_train_balanced, y_pred_train_knn),\n",
    "    'train - f1_score' : f1_score(y_train_balanced, y_pred_train_knn),\n",
    "    'test - precision' : precision_score(y_test, y_pred_test_knn),\n",
    "    'test - recall' : recall_score(y_test, y_pred_test_knn),\n",
    "    'test - accuracy_score' : accuracy_score(y_test, y_pred_test_knn),\n",
    "    'test - f1_score' : f1_score(y_test, y_pred_test_knn),\n",
    "}\n",
    "all_reports['KNN'] = score_reports\n",
    "pd.DataFrame(all_reports)"
   ]
  },
  {
   "attachments": {},
   "cell_type": "markdown",
   "metadata": {},
   "source": [
    "After we use the model with the best hyperparameter tuned and searched using RandomSearchCV, we use the model to predict on the train and test data. As stated before, we are focusing on the recall score for a specific reason. The tuned model achieved 0.97 recall score on the train data and 0.70 recall score on the test data."
   ]
  },
  {
   "attachments": {},
   "cell_type": "markdown",
   "metadata": {},
   "source": [
    "## Result"
   ]
  },
  {
   "cell_type": "code",
   "execution_count": 75,
   "metadata": {},
   "outputs": [
    {
     "data": {
      "text/html": [
       "<div>\n",
       "<style scoped>\n",
       "    .dataframe tbody tr th:only-of-type {\n",
       "        vertical-align: middle;\n",
       "    }\n",
       "\n",
       "    .dataframe tbody tr th {\n",
       "        vertical-align: top;\n",
       "    }\n",
       "\n",
       "    .dataframe thead th {\n",
       "        text-align: right;\n",
       "    }\n",
       "</style>\n",
       "<table border=\"1\" class=\"dataframe\">\n",
       "  <thead>\n",
       "    <tr style=\"text-align: right;\">\n",
       "      <th></th>\n",
       "      <th>Decision Tree</th>\n",
       "      <th>Random Forest</th>\n",
       "      <th>Adaboost Classifier</th>\n",
       "      <th>Gradient Boosting</th>\n",
       "      <th>KNN</th>\n",
       "    </tr>\n",
       "  </thead>\n",
       "  <tbody>\n",
       "    <tr>\n",
       "      <th>train - precision</th>\n",
       "      <td>0.687763</td>\n",
       "      <td>0.790130</td>\n",
       "      <td>0.780876</td>\n",
       "      <td>0.989905</td>\n",
       "      <td>0.991611</td>\n",
       "    </tr>\n",
       "    <tr>\n",
       "      <th>train - recall</th>\n",
       "      <td>0.791608</td>\n",
       "      <td>0.869131</td>\n",
       "      <td>0.773202</td>\n",
       "      <td>0.978942</td>\n",
       "      <td>0.977227</td>\n",
       "    </tr>\n",
       "    <tr>\n",
       "      <th>train - accuracy</th>\n",
       "      <td>0.715202</td>\n",
       "      <td>0.818559</td>\n",
       "      <td>0.777404</td>\n",
       "      <td>0.984430</td>\n",
       "      <td>0.984430</td>\n",
       "    </tr>\n",
       "    <tr>\n",
       "      <th>train - f1_score</th>\n",
       "      <td>0.736041</td>\n",
       "      <td>0.827750</td>\n",
       "      <td>0.777020</td>\n",
       "      <td>0.984393</td>\n",
       "      <td>0.984366</td>\n",
       "    </tr>\n",
       "    <tr>\n",
       "      <th>test - precision</th>\n",
       "      <td>0.370652</td>\n",
       "      <td>0.433834</td>\n",
       "      <td>0.448680</td>\n",
       "      <td>0.572519</td>\n",
       "      <td>0.453543</td>\n",
       "    </tr>\n",
       "    <tr>\n",
       "      <th>test - recall</th>\n",
       "      <td>0.837838</td>\n",
       "      <td>0.781327</td>\n",
       "      <td>0.751843</td>\n",
       "      <td>0.552826</td>\n",
       "      <td>0.707617</td>\n",
       "    </tr>\n",
       "    <tr>\n",
       "      <th>test - accuracy_score</th>\n",
       "      <td>0.677500</td>\n",
       "      <td>0.748000</td>\n",
       "      <td>0.761500</td>\n",
       "      <td>0.825000</td>\n",
       "      <td>0.767000</td>\n",
       "    </tr>\n",
       "    <tr>\n",
       "      <th>test - f1_score</th>\n",
       "      <td>0.513941</td>\n",
       "      <td>0.557895</td>\n",
       "      <td>0.561983</td>\n",
       "      <td>0.562500</td>\n",
       "      <td>0.552783</td>\n",
       "    </tr>\n",
       "  </tbody>\n",
       "</table>\n",
       "</div>"
      ],
      "text/plain": [
       "                       Decision Tree  Random Forest  Adaboost Classifier  \\\n",
       "train - precision           0.687763       0.790130             0.780876   \n",
       "train - recall              0.791608       0.869131             0.773202   \n",
       "train - accuracy            0.715202       0.818559             0.777404   \n",
       "train - f1_score            0.736041       0.827750             0.777020   \n",
       "test - precision            0.370652       0.433834             0.448680   \n",
       "test - recall               0.837838       0.781327             0.751843   \n",
       "test - accuracy_score       0.677500       0.748000             0.761500   \n",
       "test - f1_score             0.513941       0.557895             0.561983   \n",
       "\n",
       "                       Gradient Boosting       KNN  \n",
       "train - precision               0.989905  0.991611  \n",
       "train - recall                  0.978942  0.977227  \n",
       "train - accuracy                0.984430  0.984430  \n",
       "train - f1_score                0.984393  0.984366  \n",
       "test - precision                0.572519  0.453543  \n",
       "test - recall                   0.552826  0.707617  \n",
       "test - accuracy_score           0.825000  0.767000  \n",
       "test - f1_score                 0.562500  0.552783  "
      ]
     },
     "execution_count": 75,
     "metadata": {},
     "output_type": "execute_result"
    }
   ],
   "source": [
    "pd.DataFrame(all_reports)"
   ]
  },
  {
   "attachments": {},
   "cell_type": "markdown",
   "metadata": {},
   "source": [
    "Here, we have all the score for 5 of our models. We can see the highest recall score on test data is achieved by the Decision Tree Classifier model with recall score 0.83. But, the recall score for Decision Tree on train data is 0.79 which is lower than the test score. For the other models, Random Forest, Gradient Boosting, and KNN results are highly overfit (high on train and low on test). For Adaboost Classifier, the score is 0.77 for train and 0.76 for test. Since the data is highly imbalanced, this score is relatively a good fit for this dataset. But if we compare all the test data recall score the highest is Decision Tree, followed by Random Forest, Adaboost, KNN, and the last Gradient Boosting. For the best model, we will choose Decision Tree with the highest recall score on test data."
   ]
  },
  {
   "attachments": {},
   "cell_type": "markdown",
   "metadata": {},
   "source": [
    "# 10 - Conclusion"
   ]
  },
  {
   "attachments": {},
   "cell_type": "markdown",
   "metadata": {},
   "source": [
    "The metric that will be focused for comparing these models is Recall. Because we want the model to identify as many customers who will churn as possible. This means that we want to minimize the number of false negatives, or customers who are predicted to not churn but actually do. This is important when the cost of losing a customer is high. If our bank loses a valuable customer and the model did not predict it, it would be considered a loss for our bank. So, in simpler words, when the focus is on recall, the goal is to make sure that the model is correctly identifying most of the customers who are actually leaving and our bank is not losing valuable customers without knowing it."
   ]
  },
  {
   "attachments": {},
   "cell_type": "markdown",
   "metadata": {},
   "source": [
    "Based on what we have done in this notebook, we can get some conclusion:\n",
    "\n",
    "1. **The dataset is about customer churn in ABC Bank** with **imbalanced target classes** (minority class only 20% of all classes). \n",
    "\n",
    "2. In this model creation we are **focusing** our metrics on **recall score** because ideally, we want the model to identify as many customers who will churn as possible, so our optimal model will **minimize the False Negatives**  or customers who are **predicted to not churn but actually do**. So the best model will have **Recall score as high as possible**.\n",
    "\n",
    "3. After comparing 8 baseline model (decision tree, random forest, adaboost, gradient boosting, logistic regression, svm classifier, knn, and naive bayes) using cross validation, we get the best 5 baseline model which is **K Nearest Neighbors** with **mean recall score 0.85** followed by 4 other models, decision tree, random forest, adaboost, and gradient boosting.\n",
    "\n",
    "4. We used these 5 best model according to the cross validation comparison to be **tuned further using RandomSearchCV**.\n",
    "\n",
    "5. We compared the 5 models and get **Decision Tree Classifier with the best results**. We get the highest recall score on train data 0.79 and **recall score on test data 0.83**."
   ]
  },
  {
   "attachments": {},
   "cell_type": "markdown",
   "metadata": {},
   "source": [
    "# 11 - Further Improvement"
   ]
  },
  {
   "attachments": {},
   "cell_type": "markdown",
   "metadata": {},
   "source": [
    "There are several further improvement that can be done for this model.\n",
    "\n",
    "1. Use different method for feature selection to be used for modelling.\n",
    "\n",
    "2. Use different method for scaling and encoding the data before modelling.\n",
    "\n",
    "3. Use different method for balancing the target label of the dataset.\n",
    "\n",
    "4. Further hyperparameter tuning on models with more parameters to be tried.\n",
    "\n",
    "5. Parameter tuning using other models other than the ones that are used in this notebook.\n"
   ]
  },
  {
   "attachments": {},
   "cell_type": "markdown",
   "metadata": {},
   "source": [
    "# 12 - Pipeline with Best Model"
   ]
  },
  {
   "cell_type": "code",
   "execution_count": 76,
   "metadata": {},
   "outputs": [],
   "source": [
    "# Creating Pipeline for preprocessing and predicting using best model\n",
    "\n",
    "clf = Pipeline(\n",
    "    steps=[('preprocessor',preprocessor),('classifier',dt_randomcv_best)]\n",
    ")"
   ]
  },
  {
   "attachments": {},
   "cell_type": "markdown",
   "metadata": {},
   "source": [
    "# 13 - Model Saving"
   ]
  },
  {
   "cell_type": "code",
   "execution_count": 77,
   "metadata": {},
   "outputs": [],
   "source": [
    "# Model Saving\n",
    "\n",
    "with open('model_pipe.pkl', 'wb') as file_1:\n",
    "  pickle.dump(clf, file_1)"
   ]
  }
 ],
 "metadata": {
  "kernelspec": {
   "display_name": "base",
   "language": "python",
   "name": "python3"
  },
  "language_info": {
   "codemirror_mode": {
    "name": "ipython",
    "version": 3
   },
   "file_extension": ".py",
   "mimetype": "text/x-python",
   "name": "python",
   "nbconvert_exporter": "python",
   "pygments_lexer": "ipython3",
   "version": "3.9.13"
  },
  "orig_nbformat": 4,
  "vscode": {
   "interpreter": {
    "hash": "70d40c814c465a2abb985f7d3a31c4e5a1b088d46c5ac4c31dafea251987af85"
   }
  }
 },
 "nbformat": 4,
 "nbformat_minor": 2
}
