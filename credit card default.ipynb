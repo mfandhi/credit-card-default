{
 "cells": [
  {
   "cell_type": "markdown",
   "metadata": {
    "id": "5iuRcAZjrNVX"
   },
   "source": [
    "# 1 - Perkenalan"
   ]
  },
  {
   "attachments": {},
   "cell_type": "markdown",
   "metadata": {
    "id": "Ty8ZPDKSrR5D"
   },
   "source": [
    "Nama : Muhamad Fandhi \n",
    "\n",
    "Batch : HCK - 003\n",
    "\n",
    "Dataset : Credit Card Default\n",
    "\n",
    "Objective : Creating a model for predicting whether the credit card's costumers will default or not on the next month on credit card default dataset."
   ]
  },
  {
   "cell_type": "markdown",
   "metadata": {
    "id": "QMO5-0oCrd_8"
   },
   "source": [
    "# 2 - Import Libraries"
   ]
  },
  {
   "cell_type": "code",
   "execution_count": 1,
   "metadata": {
    "id": "jpgVz0BXrgmi"
   },
   "outputs": [],
   "source": [
    "# Import Libraries\n",
    "\n",
    "import pandas as pd\n",
    "import numpy as np\n",
    "from numpy import percentile\n",
    "import seaborn as sns\n",
    "import matplotlib.pyplot as plt\n",
    "import phik\n",
    "from phik.report import plot_correlation_matrix\n",
    "from sklearn.model_selection import train_test_split\n",
    "from sklearn.preprocessing import MinMaxScaler\n",
    "from sklearn.preprocessing import OrdinalEncoder\n",
    "from sklearn.linear_model import LogisticRegression\n",
    "from statsmodels.stats.outliers_influence import variance_inflation_factor\n",
    "from sklearn.svm import SVC\n",
    "from sklearn.tree import DecisionTreeClassifier\n",
    "from sklearn.ensemble import RandomForestClassifier\n",
    "from sklearn.neighbors import KNeighborsClassifier\n",
    "from sklearn.naive_bayes import GaussianNB\n",
    "from sklearn.ensemble import AdaBoostClassifier\n",
    "from sklearn.model_selection import cross_val_score\n",
    "from sklearn.model_selection import RandomizedSearchCV\n",
    "from sklearn.model_selection import StratifiedKFold\n",
    "from sklearn.metrics import accuracy_score,precision_score,recall_score,f1_score,classification_report,ConfusionMatrixDisplay,confusion_matrix\n",
    "import pickle\n",
    "import warnings\n",
    "warnings.simplefilter(\"ignore\")"
   ]
  },
  {
   "cell_type": "markdown",
   "metadata": {
    "id": "5KMpETCZr8bw"
   },
   "source": [
    "# 3 - Data Loading"
   ]
  },
  {
   "attachments": {},
   "cell_type": "markdown",
   "metadata": {},
   "source": [
    "The dataset for this assignment is queried on Google Cloud BigQuery on dataset `ml_datasets` and database `credit_card_default`. The query used is:\n",
    "\n",
    "\n",
    "````\n",
    "SELECT limit_balance, \n",
    "       cast(sex as integer) as sex, \n",
    "       cast(education_level as integer) as education_level, \n",
    "       cast(marital_status as integer) as marital_status, \n",
    "       age, \n",
    "       pay_0, \n",
    "       pay_2, \n",
    "       pay_3, \n",
    "       pay_4, \n",
    "       cast(pay_5 as float64) as pay_5, \n",
    "       cast(pay_6 as float64) as pay_6, \n",
    "       bill_amt_1, \n",
    "       bill_amt_2, \n",
    "       bill_amt_3, \n",
    "       bill_amt_4, \n",
    "       bill_amt_5, \n",
    "       bill_amt_6, \n",
    "       pay_amt_1, \n",
    "       pay_amt_2, \n",
    "       pay_amt_3, \n",
    "       pay_amt_4, \n",
    "       pay_amt_5, \n",
    "       pay_amt_6, \n",
    "       cast(default_payment_next_month as integer) as default_payment_next_month\n",
    "FROM `bigquery-public-data.ml_datasets.credit_card_default` \n",
    "LIMIT 5994\n",
    "````"
   ]
  },
  {
   "attachments": {},
   "cell_type": "markdown",
   "metadata": {},
   "source": [
    "After querying, the data is saved as csv file and the imported to this notebook."
   ]
  },
  {
   "cell_type": "code",
   "execution_count": 2,
   "metadata": {
    "colab": {
     "base_uri": "https://localhost:8080/",
     "height": 540
    },
    "id": "82KtCauTsD3Y",
    "outputId": "5391cbfb-3f95-42f5-dda8-59971e98c7d9"
   },
   "outputs": [
    {
     "data": {
      "text/html": [
       "<div>\n",
       "<style scoped>\n",
       "    .dataframe tbody tr th:only-of-type {\n",
       "        vertical-align: middle;\n",
       "    }\n",
       "\n",
       "    .dataframe tbody tr th {\n",
       "        vertical-align: top;\n",
       "    }\n",
       "\n",
       "    .dataframe thead th {\n",
       "        text-align: right;\n",
       "    }\n",
       "</style>\n",
       "<table border=\"1\" class=\"dataframe\">\n",
       "  <thead>\n",
       "    <tr style=\"text-align: right;\">\n",
       "      <th></th>\n",
       "      <th>limit_balance</th>\n",
       "      <th>sex</th>\n",
       "      <th>education_level</th>\n",
       "      <th>marital_status</th>\n",
       "      <th>age</th>\n",
       "      <th>pay_0</th>\n",
       "      <th>pay_2</th>\n",
       "      <th>pay_3</th>\n",
       "      <th>pay_4</th>\n",
       "      <th>pay_5</th>\n",
       "      <th>...</th>\n",
       "      <th>bill_amt_4</th>\n",
       "      <th>bill_amt_5</th>\n",
       "      <th>bill_amt_6</th>\n",
       "      <th>pay_amt_1</th>\n",
       "      <th>pay_amt_2</th>\n",
       "      <th>pay_amt_3</th>\n",
       "      <th>pay_amt_4</th>\n",
       "      <th>pay_amt_5</th>\n",
       "      <th>pay_amt_6</th>\n",
       "      <th>default_payment_next_month</th>\n",
       "    </tr>\n",
       "  </thead>\n",
       "  <tbody>\n",
       "    <tr>\n",
       "      <th>0</th>\n",
       "      <td>130000.0</td>\n",
       "      <td>1</td>\n",
       "      <td>1</td>\n",
       "      <td>1</td>\n",
       "      <td>45.0</td>\n",
       "      <td>0.0</td>\n",
       "      <td>0.0</td>\n",
       "      <td>0.0</td>\n",
       "      <td>0.0</td>\n",
       "      <td>0.0</td>\n",
       "      <td>...</td>\n",
       "      <td>62377.0</td>\n",
       "      <td>63832.0</td>\n",
       "      <td>65099.0</td>\n",
       "      <td>2886.0</td>\n",
       "      <td>2908.0</td>\n",
       "      <td>2129.0</td>\n",
       "      <td>2354.0</td>\n",
       "      <td>2366.0</td>\n",
       "      <td>2291.0</td>\n",
       "      <td>0</td>\n",
       "    </tr>\n",
       "    <tr>\n",
       "      <th>1</th>\n",
       "      <td>230000.0</td>\n",
       "      <td>1</td>\n",
       "      <td>2</td>\n",
       "      <td>1</td>\n",
       "      <td>41.0</td>\n",
       "      <td>0.0</td>\n",
       "      <td>0.0</td>\n",
       "      <td>0.0</td>\n",
       "      <td>0.0</td>\n",
       "      <td>0.0</td>\n",
       "      <td>...</td>\n",
       "      <td>216260.0</td>\n",
       "      <td>215968.0</td>\n",
       "      <td>174195.0</td>\n",
       "      <td>9405.0</td>\n",
       "      <td>7769.0</td>\n",
       "      <td>7757.0</td>\n",
       "      <td>8030.0</td>\n",
       "      <td>6549.0</td>\n",
       "      <td>5226.0</td>\n",
       "      <td>1</td>\n",
       "    </tr>\n",
       "    <tr>\n",
       "      <th>2</th>\n",
       "      <td>200000.0</td>\n",
       "      <td>1</td>\n",
       "      <td>1</td>\n",
       "      <td>1</td>\n",
       "      <td>58.0</td>\n",
       "      <td>0.0</td>\n",
       "      <td>0.0</td>\n",
       "      <td>0.0</td>\n",
       "      <td>0.0</td>\n",
       "      <td>0.0</td>\n",
       "      <td>...</td>\n",
       "      <td>124647.0</td>\n",
       "      <td>126921.0</td>\n",
       "      <td>129167.0</td>\n",
       "      <td>7822.0</td>\n",
       "      <td>4417.0</td>\n",
       "      <td>4446.0</td>\n",
       "      <td>4597.0</td>\n",
       "      <td>4677.0</td>\n",
       "      <td>4698.0</td>\n",
       "      <td>0</td>\n",
       "    </tr>\n",
       "    <tr>\n",
       "      <th>3</th>\n",
       "      <td>500000.0</td>\n",
       "      <td>1</td>\n",
       "      <td>1</td>\n",
       "      <td>1</td>\n",
       "      <td>39.0</td>\n",
       "      <td>0.0</td>\n",
       "      <td>0.0</td>\n",
       "      <td>0.0</td>\n",
       "      <td>0.0</td>\n",
       "      <td>0.0</td>\n",
       "      <td>...</td>\n",
       "      <td>174500.0</td>\n",
       "      <td>137406.0</td>\n",
       "      <td>204975.0</td>\n",
       "      <td>54209.0</td>\n",
       "      <td>4607.0</td>\n",
       "      <td>4603.0</td>\n",
       "      <td>5224.0</td>\n",
       "      <td>207440.0</td>\n",
       "      <td>7509.0</td>\n",
       "      <td>0</td>\n",
       "    </tr>\n",
       "    <tr>\n",
       "      <th>4</th>\n",
       "      <td>230000.0</td>\n",
       "      <td>1</td>\n",
       "      <td>1</td>\n",
       "      <td>1</td>\n",
       "      <td>48.0</td>\n",
       "      <td>0.0</td>\n",
       "      <td>0.0</td>\n",
       "      <td>0.0</td>\n",
       "      <td>0.0</td>\n",
       "      <td>0.0</td>\n",
       "      <td>...</td>\n",
       "      <td>105508.0</td>\n",
       "      <td>108101.0</td>\n",
       "      <td>110094.0</td>\n",
       "      <td>7000.0</td>\n",
       "      <td>6607.0</td>\n",
       "      <td>3773.0</td>\n",
       "      <td>4290.0</td>\n",
       "      <td>4164.0</td>\n",
       "      <td>2000.0</td>\n",
       "      <td>0</td>\n",
       "    </tr>\n",
       "    <tr>\n",
       "      <th>...</th>\n",
       "      <td>...</td>\n",
       "      <td>...</td>\n",
       "      <td>...</td>\n",
       "      <td>...</td>\n",
       "      <td>...</td>\n",
       "      <td>...</td>\n",
       "      <td>...</td>\n",
       "      <td>...</td>\n",
       "      <td>...</td>\n",
       "      <td>...</td>\n",
       "      <td>...</td>\n",
       "      <td>...</td>\n",
       "      <td>...</td>\n",
       "      <td>...</td>\n",
       "      <td>...</td>\n",
       "      <td>...</td>\n",
       "      <td>...</td>\n",
       "      <td>...</td>\n",
       "      <td>...</td>\n",
       "      <td>...</td>\n",
       "      <td>...</td>\n",
       "    </tr>\n",
       "    <tr>\n",
       "      <th>2960</th>\n",
       "      <td>30000.0</td>\n",
       "      <td>2</td>\n",
       "      <td>3</td>\n",
       "      <td>2</td>\n",
       "      <td>50.0</td>\n",
       "      <td>-1.0</td>\n",
       "      <td>-1.0</td>\n",
       "      <td>2.0</td>\n",
       "      <td>-1.0</td>\n",
       "      <td>-1.0</td>\n",
       "      <td>...</td>\n",
       "      <td>1110.0</td>\n",
       "      <td>0.0</td>\n",
       "      <td>0.0</td>\n",
       "      <td>1860.0</td>\n",
       "      <td>0.0</td>\n",
       "      <td>1110.0</td>\n",
       "      <td>0.0</td>\n",
       "      <td>0.0</td>\n",
       "      <td>0.0</td>\n",
       "      <td>1</td>\n",
       "    </tr>\n",
       "    <tr>\n",
       "      <th>2961</th>\n",
       "      <td>20000.0</td>\n",
       "      <td>2</td>\n",
       "      <td>1</td>\n",
       "      <td>2</td>\n",
       "      <td>25.0</td>\n",
       "      <td>-1.0</td>\n",
       "      <td>-1.0</td>\n",
       "      <td>-1.0</td>\n",
       "      <td>-1.0</td>\n",
       "      <td>-1.0</td>\n",
       "      <td>...</td>\n",
       "      <td>640.0</td>\n",
       "      <td>0.0</td>\n",
       "      <td>0.0</td>\n",
       "      <td>0.0</td>\n",
       "      <td>855.0</td>\n",
       "      <td>640.0</td>\n",
       "      <td>0.0</td>\n",
       "      <td>0.0</td>\n",
       "      <td>2742.0</td>\n",
       "      <td>0</td>\n",
       "    </tr>\n",
       "    <tr>\n",
       "      <th>2962</th>\n",
       "      <td>280000.0</td>\n",
       "      <td>2</td>\n",
       "      <td>1</td>\n",
       "      <td>2</td>\n",
       "      <td>52.0</td>\n",
       "      <td>-1.0</td>\n",
       "      <td>-1.0</td>\n",
       "      <td>-1.0</td>\n",
       "      <td>-1.0</td>\n",
       "      <td>-2.0</td>\n",
       "      <td>...</td>\n",
       "      <td>0.0</td>\n",
       "      <td>0.0</td>\n",
       "      <td>0.0</td>\n",
       "      <td>0.0</td>\n",
       "      <td>930.0</td>\n",
       "      <td>0.0</td>\n",
       "      <td>0.0</td>\n",
       "      <td>0.0</td>\n",
       "      <td>0.0</td>\n",
       "      <td>0</td>\n",
       "    </tr>\n",
       "    <tr>\n",
       "      <th>2963</th>\n",
       "      <td>360000.0</td>\n",
       "      <td>2</td>\n",
       "      <td>2</td>\n",
       "      <td>2</td>\n",
       "      <td>26.0</td>\n",
       "      <td>-1.0</td>\n",
       "      <td>-1.0</td>\n",
       "      <td>-1.0</td>\n",
       "      <td>-1.0</td>\n",
       "      <td>-2.0</td>\n",
       "      <td>...</td>\n",
       "      <td>0.0</td>\n",
       "      <td>0.0</td>\n",
       "      <td>0.0</td>\n",
       "      <td>463.0</td>\n",
       "      <td>2500.0</td>\n",
       "      <td>0.0</td>\n",
       "      <td>0.0</td>\n",
       "      <td>0.0</td>\n",
       "      <td>0.0</td>\n",
       "      <td>0</td>\n",
       "    </tr>\n",
       "    <tr>\n",
       "      <th>2964</th>\n",
       "      <td>100000.0</td>\n",
       "      <td>2</td>\n",
       "      <td>1</td>\n",
       "      <td>2</td>\n",
       "      <td>30.0</td>\n",
       "      <td>-1.0</td>\n",
       "      <td>-1.0</td>\n",
       "      <td>-1.0</td>\n",
       "      <td>-1.0</td>\n",
       "      <td>-2.0</td>\n",
       "      <td>...</td>\n",
       "      <td>0.0</td>\n",
       "      <td>0.0</td>\n",
       "      <td>0.0</td>\n",
       "      <td>35993.0</td>\n",
       "      <td>2772.0</td>\n",
       "      <td>0.0</td>\n",
       "      <td>0.0</td>\n",
       "      <td>0.0</td>\n",
       "      <td>0.0</td>\n",
       "      <td>0</td>\n",
       "    </tr>\n",
       "  </tbody>\n",
       "</table>\n",
       "<p>2965 rows × 24 columns</p>\n",
       "</div>"
      ],
      "text/plain": [
       "      limit_balance  sex  education_level  marital_status   age  pay_0  pay_2  \\\n",
       "0          130000.0    1                1               1  45.0    0.0    0.0   \n",
       "1          230000.0    1                2               1  41.0    0.0    0.0   \n",
       "2          200000.0    1                1               1  58.0    0.0    0.0   \n",
       "3          500000.0    1                1               1  39.0    0.0    0.0   \n",
       "4          230000.0    1                1               1  48.0    0.0    0.0   \n",
       "...             ...  ...              ...             ...   ...    ...    ...   \n",
       "2960        30000.0    2                3               2  50.0   -1.0   -1.0   \n",
       "2961        20000.0    2                1               2  25.0   -1.0   -1.0   \n",
       "2962       280000.0    2                1               2  52.0   -1.0   -1.0   \n",
       "2963       360000.0    2                2               2  26.0   -1.0   -1.0   \n",
       "2964       100000.0    2                1               2  30.0   -1.0   -1.0   \n",
       "\n",
       "      pay_3  pay_4  pay_5  ...  bill_amt_4  bill_amt_5  bill_amt_6  pay_amt_1  \\\n",
       "0       0.0    0.0    0.0  ...     62377.0     63832.0     65099.0     2886.0   \n",
       "1       0.0    0.0    0.0  ...    216260.0    215968.0    174195.0     9405.0   \n",
       "2       0.0    0.0    0.0  ...    124647.0    126921.0    129167.0     7822.0   \n",
       "3       0.0    0.0    0.0  ...    174500.0    137406.0    204975.0    54209.0   \n",
       "4       0.0    0.0    0.0  ...    105508.0    108101.0    110094.0     7000.0   \n",
       "...     ...    ...    ...  ...         ...         ...         ...        ...   \n",
       "2960    2.0   -1.0   -1.0  ...      1110.0         0.0         0.0     1860.0   \n",
       "2961   -1.0   -1.0   -1.0  ...       640.0         0.0         0.0        0.0   \n",
       "2962   -1.0   -1.0   -2.0  ...         0.0         0.0         0.0        0.0   \n",
       "2963   -1.0   -1.0   -2.0  ...         0.0         0.0         0.0      463.0   \n",
       "2964   -1.0   -1.0   -2.0  ...         0.0         0.0         0.0    35993.0   \n",
       "\n",
       "      pay_amt_2  pay_amt_3  pay_amt_4  pay_amt_5  pay_amt_6  \\\n",
       "0        2908.0     2129.0     2354.0     2366.0     2291.0   \n",
       "1        7769.0     7757.0     8030.0     6549.0     5226.0   \n",
       "2        4417.0     4446.0     4597.0     4677.0     4698.0   \n",
       "3        4607.0     4603.0     5224.0   207440.0     7509.0   \n",
       "4        6607.0     3773.0     4290.0     4164.0     2000.0   \n",
       "...         ...        ...        ...        ...        ...   \n",
       "2960        0.0     1110.0        0.0        0.0        0.0   \n",
       "2961      855.0      640.0        0.0        0.0     2742.0   \n",
       "2962      930.0        0.0        0.0        0.0        0.0   \n",
       "2963     2500.0        0.0        0.0        0.0        0.0   \n",
       "2964     2772.0        0.0        0.0        0.0        0.0   \n",
       "\n",
       "      default_payment_next_month  \n",
       "0                              0  \n",
       "1                              1  \n",
       "2                              0  \n",
       "3                              0  \n",
       "4                              0  \n",
       "...                          ...  \n",
       "2960                           1  \n",
       "2961                           0  \n",
       "2962                           0  \n",
       "2963                           0  \n",
       "2964                           0  \n",
       "\n",
       "[2965 rows x 24 columns]"
      ]
     },
     "execution_count": 2,
     "metadata": {},
     "output_type": "execute_result"
    }
   ],
   "source": [
    "# Load Dataset\n",
    "\n",
    "df_ori = pd.read_csv('h8dsft_P1M1_muhamad-fandhi.csv')\n",
    "df = df_ori.copy() # copying dataset\n",
    "df"
   ]
  },
  {
   "cell_type": "code",
   "execution_count": 3,
   "metadata": {},
   "outputs": [
    {
     "data": {
      "text/html": [
       "<div>\n",
       "<style scoped>\n",
       "    .dataframe tbody tr th:only-of-type {\n",
       "        vertical-align: middle;\n",
       "    }\n",
       "\n",
       "    .dataframe tbody tr th {\n",
       "        vertical-align: top;\n",
       "    }\n",
       "\n",
       "    .dataframe thead th {\n",
       "        text-align: right;\n",
       "    }\n",
       "</style>\n",
       "<table border=\"1\" class=\"dataframe\">\n",
       "  <thead>\n",
       "    <tr style=\"text-align: right;\">\n",
       "      <th></th>\n",
       "      <th>limit_balance</th>\n",
       "      <th>sex</th>\n",
       "      <th>education_level</th>\n",
       "      <th>marital_status</th>\n",
       "      <th>age</th>\n",
       "      <th>pay_0</th>\n",
       "      <th>pay_2</th>\n",
       "      <th>pay_3</th>\n",
       "      <th>pay_4</th>\n",
       "      <th>pay_5</th>\n",
       "      <th>...</th>\n",
       "      <th>bill_amt_4</th>\n",
       "      <th>bill_amt_5</th>\n",
       "      <th>bill_amt_6</th>\n",
       "      <th>pay_amt_1</th>\n",
       "      <th>pay_amt_2</th>\n",
       "      <th>pay_amt_3</th>\n",
       "      <th>pay_amt_4</th>\n",
       "      <th>pay_amt_5</th>\n",
       "      <th>pay_amt_6</th>\n",
       "      <th>default_payment_next_month</th>\n",
       "    </tr>\n",
       "  </thead>\n",
       "  <tbody>\n",
       "    <tr>\n",
       "      <th>0</th>\n",
       "      <td>130000.0</td>\n",
       "      <td>1</td>\n",
       "      <td>1</td>\n",
       "      <td>1</td>\n",
       "      <td>45.0</td>\n",
       "      <td>0.0</td>\n",
       "      <td>0.0</td>\n",
       "      <td>0.0</td>\n",
       "      <td>0.0</td>\n",
       "      <td>0.0</td>\n",
       "      <td>...</td>\n",
       "      <td>62377.0</td>\n",
       "      <td>63832.0</td>\n",
       "      <td>65099.0</td>\n",
       "      <td>2886.0</td>\n",
       "      <td>2908.0</td>\n",
       "      <td>2129.0</td>\n",
       "      <td>2354.0</td>\n",
       "      <td>2366.0</td>\n",
       "      <td>2291.0</td>\n",
       "      <td>0</td>\n",
       "    </tr>\n",
       "    <tr>\n",
       "      <th>1</th>\n",
       "      <td>230000.0</td>\n",
       "      <td>1</td>\n",
       "      <td>2</td>\n",
       "      <td>1</td>\n",
       "      <td>41.0</td>\n",
       "      <td>0.0</td>\n",
       "      <td>0.0</td>\n",
       "      <td>0.0</td>\n",
       "      <td>0.0</td>\n",
       "      <td>0.0</td>\n",
       "      <td>...</td>\n",
       "      <td>216260.0</td>\n",
       "      <td>215968.0</td>\n",
       "      <td>174195.0</td>\n",
       "      <td>9405.0</td>\n",
       "      <td>7769.0</td>\n",
       "      <td>7757.0</td>\n",
       "      <td>8030.0</td>\n",
       "      <td>6549.0</td>\n",
       "      <td>5226.0</td>\n",
       "      <td>1</td>\n",
       "    </tr>\n",
       "    <tr>\n",
       "      <th>2</th>\n",
       "      <td>200000.0</td>\n",
       "      <td>1</td>\n",
       "      <td>1</td>\n",
       "      <td>1</td>\n",
       "      <td>58.0</td>\n",
       "      <td>0.0</td>\n",
       "      <td>0.0</td>\n",
       "      <td>0.0</td>\n",
       "      <td>0.0</td>\n",
       "      <td>0.0</td>\n",
       "      <td>...</td>\n",
       "      <td>124647.0</td>\n",
       "      <td>126921.0</td>\n",
       "      <td>129167.0</td>\n",
       "      <td>7822.0</td>\n",
       "      <td>4417.0</td>\n",
       "      <td>4446.0</td>\n",
       "      <td>4597.0</td>\n",
       "      <td>4677.0</td>\n",
       "      <td>4698.0</td>\n",
       "      <td>0</td>\n",
       "    </tr>\n",
       "    <tr>\n",
       "      <th>3</th>\n",
       "      <td>500000.0</td>\n",
       "      <td>1</td>\n",
       "      <td>1</td>\n",
       "      <td>1</td>\n",
       "      <td>39.0</td>\n",
       "      <td>0.0</td>\n",
       "      <td>0.0</td>\n",
       "      <td>0.0</td>\n",
       "      <td>0.0</td>\n",
       "      <td>0.0</td>\n",
       "      <td>...</td>\n",
       "      <td>174500.0</td>\n",
       "      <td>137406.0</td>\n",
       "      <td>204975.0</td>\n",
       "      <td>54209.0</td>\n",
       "      <td>4607.0</td>\n",
       "      <td>4603.0</td>\n",
       "      <td>5224.0</td>\n",
       "      <td>207440.0</td>\n",
       "      <td>7509.0</td>\n",
       "      <td>0</td>\n",
       "    </tr>\n",
       "    <tr>\n",
       "      <th>4</th>\n",
       "      <td>230000.0</td>\n",
       "      <td>1</td>\n",
       "      <td>1</td>\n",
       "      <td>1</td>\n",
       "      <td>48.0</td>\n",
       "      <td>0.0</td>\n",
       "      <td>0.0</td>\n",
       "      <td>0.0</td>\n",
       "      <td>0.0</td>\n",
       "      <td>0.0</td>\n",
       "      <td>...</td>\n",
       "      <td>105508.0</td>\n",
       "      <td>108101.0</td>\n",
       "      <td>110094.0</td>\n",
       "      <td>7000.0</td>\n",
       "      <td>6607.0</td>\n",
       "      <td>3773.0</td>\n",
       "      <td>4290.0</td>\n",
       "      <td>4164.0</td>\n",
       "      <td>2000.0</td>\n",
       "      <td>0</td>\n",
       "    </tr>\n",
       "    <tr>\n",
       "      <th>5</th>\n",
       "      <td>500000.0</td>\n",
       "      <td>1</td>\n",
       "      <td>2</td>\n",
       "      <td>1</td>\n",
       "      <td>41.0</td>\n",
       "      <td>0.0</td>\n",
       "      <td>0.0</td>\n",
       "      <td>0.0</td>\n",
       "      <td>0.0</td>\n",
       "      <td>0.0</td>\n",
       "      <td>...</td>\n",
       "      <td>152365.0</td>\n",
       "      <td>139757.0</td>\n",
       "      <td>153348.0</td>\n",
       "      <td>20000.0</td>\n",
       "      <td>20241.0</td>\n",
       "      <td>20154.0</td>\n",
       "      <td>20019.0</td>\n",
       "      <td>20151.0</td>\n",
       "      <td>20037.0</td>\n",
       "      <td>0</td>\n",
       "    </tr>\n",
       "    <tr>\n",
       "      <th>6</th>\n",
       "      <td>50000.0</td>\n",
       "      <td>1</td>\n",
       "      <td>2</td>\n",
       "      <td>1</td>\n",
       "      <td>40.0</td>\n",
       "      <td>0.0</td>\n",
       "      <td>0.0</td>\n",
       "      <td>0.0</td>\n",
       "      <td>0.0</td>\n",
       "      <td>0.0</td>\n",
       "      <td>...</td>\n",
       "      <td>44356.0</td>\n",
       "      <td>19344.0</td>\n",
       "      <td>19354.0</td>\n",
       "      <td>1691.0</td>\n",
       "      <td>1942.0</td>\n",
       "      <td>1296.0</td>\n",
       "      <td>674.0</td>\n",
       "      <td>693.0</td>\n",
       "      <td>1000.0</td>\n",
       "      <td>0</td>\n",
       "    </tr>\n",
       "    <tr>\n",
       "      <th>7</th>\n",
       "      <td>100000.0</td>\n",
       "      <td>1</td>\n",
       "      <td>5</td>\n",
       "      <td>1</td>\n",
       "      <td>45.0</td>\n",
       "      <td>0.0</td>\n",
       "      <td>0.0</td>\n",
       "      <td>0.0</td>\n",
       "      <td>0.0</td>\n",
       "      <td>0.0</td>\n",
       "      <td>...</td>\n",
       "      <td>90500.0</td>\n",
       "      <td>82586.0</td>\n",
       "      <td>22620.0</td>\n",
       "      <td>5000.0</td>\n",
       "      <td>5000.0</td>\n",
       "      <td>3203.0</td>\n",
       "      <td>2103.0</td>\n",
       "      <td>50000.0</td>\n",
       "      <td>0.0</td>\n",
       "      <td>0</td>\n",
       "    </tr>\n",
       "    <tr>\n",
       "      <th>8</th>\n",
       "      <td>140000.0</td>\n",
       "      <td>1</td>\n",
       "      <td>2</td>\n",
       "      <td>1</td>\n",
       "      <td>29.0</td>\n",
       "      <td>0.0</td>\n",
       "      <td>0.0</td>\n",
       "      <td>0.0</td>\n",
       "      <td>0.0</td>\n",
       "      <td>0.0</td>\n",
       "      <td>...</td>\n",
       "      <td>132038.0</td>\n",
       "      <td>131961.0</td>\n",
       "      <td>124256.0</td>\n",
       "      <td>6696.0</td>\n",
       "      <td>5000.0</td>\n",
       "      <td>4866.0</td>\n",
       "      <td>5300.0</td>\n",
       "      <td>5055.0</td>\n",
       "      <td>5000.0</td>\n",
       "      <td>0</td>\n",
       "    </tr>\n",
       "    <tr>\n",
       "      <th>9</th>\n",
       "      <td>50000.0</td>\n",
       "      <td>1</td>\n",
       "      <td>2</td>\n",
       "      <td>1</td>\n",
       "      <td>43.0</td>\n",
       "      <td>0.0</td>\n",
       "      <td>0.0</td>\n",
       "      <td>0.0</td>\n",
       "      <td>0.0</td>\n",
       "      <td>0.0</td>\n",
       "      <td>...</td>\n",
       "      <td>48934.0</td>\n",
       "      <td>29116.0</td>\n",
       "      <td>28999.0</td>\n",
       "      <td>1800.0</td>\n",
       "      <td>2200.0</td>\n",
       "      <td>1400.0</td>\n",
       "      <td>582.0</td>\n",
       "      <td>580.0</td>\n",
       "      <td>30000.0</td>\n",
       "      <td>0</td>\n",
       "    </tr>\n",
       "  </tbody>\n",
       "</table>\n",
       "<p>10 rows × 24 columns</p>\n",
       "</div>"
      ],
      "text/plain": [
       "   limit_balance  sex  education_level  marital_status   age  pay_0  pay_2  \\\n",
       "0       130000.0    1                1               1  45.0    0.0    0.0   \n",
       "1       230000.0    1                2               1  41.0    0.0    0.0   \n",
       "2       200000.0    1                1               1  58.0    0.0    0.0   \n",
       "3       500000.0    1                1               1  39.0    0.0    0.0   \n",
       "4       230000.0    1                1               1  48.0    0.0    0.0   \n",
       "5       500000.0    1                2               1  41.0    0.0    0.0   \n",
       "6        50000.0    1                2               1  40.0    0.0    0.0   \n",
       "7       100000.0    1                5               1  45.0    0.0    0.0   \n",
       "8       140000.0    1                2               1  29.0    0.0    0.0   \n",
       "9        50000.0    1                2               1  43.0    0.0    0.0   \n",
       "\n",
       "   pay_3  pay_4  pay_5  ...  bill_amt_4  bill_amt_5  bill_amt_6  pay_amt_1  \\\n",
       "0    0.0    0.0    0.0  ...     62377.0     63832.0     65099.0     2886.0   \n",
       "1    0.0    0.0    0.0  ...    216260.0    215968.0    174195.0     9405.0   \n",
       "2    0.0    0.0    0.0  ...    124647.0    126921.0    129167.0     7822.0   \n",
       "3    0.0    0.0    0.0  ...    174500.0    137406.0    204975.0    54209.0   \n",
       "4    0.0    0.0    0.0  ...    105508.0    108101.0    110094.0     7000.0   \n",
       "5    0.0    0.0    0.0  ...    152365.0    139757.0    153348.0    20000.0   \n",
       "6    0.0    0.0    0.0  ...     44356.0     19344.0     19354.0     1691.0   \n",
       "7    0.0    0.0    0.0  ...     90500.0     82586.0     22620.0     5000.0   \n",
       "8    0.0    0.0    0.0  ...    132038.0    131961.0    124256.0     6696.0   \n",
       "9    0.0    0.0    0.0  ...     48934.0     29116.0     28999.0     1800.0   \n",
       "\n",
       "   pay_amt_2  pay_amt_3  pay_amt_4  pay_amt_5  pay_amt_6  \\\n",
       "0     2908.0     2129.0     2354.0     2366.0     2291.0   \n",
       "1     7769.0     7757.0     8030.0     6549.0     5226.0   \n",
       "2     4417.0     4446.0     4597.0     4677.0     4698.0   \n",
       "3     4607.0     4603.0     5224.0   207440.0     7509.0   \n",
       "4     6607.0     3773.0     4290.0     4164.0     2000.0   \n",
       "5    20241.0    20154.0    20019.0    20151.0    20037.0   \n",
       "6     1942.0     1296.0      674.0      693.0     1000.0   \n",
       "7     5000.0     3203.0     2103.0    50000.0        0.0   \n",
       "8     5000.0     4866.0     5300.0     5055.0     5000.0   \n",
       "9     2200.0     1400.0      582.0      580.0    30000.0   \n",
       "\n",
       "   default_payment_next_month  \n",
       "0                           0  \n",
       "1                           1  \n",
       "2                           0  \n",
       "3                           0  \n",
       "4                           0  \n",
       "5                           0  \n",
       "6                           0  \n",
       "7                           0  \n",
       "8                           0  \n",
       "9                           0  \n",
       "\n",
       "[10 rows x 24 columns]"
      ]
     },
     "execution_count": 3,
     "metadata": {},
     "output_type": "execute_result"
    }
   ],
   "source": [
    "# Showing first 10 of dataset\n",
    "\n",
    "df.head(10)"
   ]
  },
  {
   "cell_type": "code",
   "execution_count": 4,
   "metadata": {},
   "outputs": [
    {
     "data": {
      "text/html": [
       "<div>\n",
       "<style scoped>\n",
       "    .dataframe tbody tr th:only-of-type {\n",
       "        vertical-align: middle;\n",
       "    }\n",
       "\n",
       "    .dataframe tbody tr th {\n",
       "        vertical-align: top;\n",
       "    }\n",
       "\n",
       "    .dataframe thead th {\n",
       "        text-align: right;\n",
       "    }\n",
       "</style>\n",
       "<table border=\"1\" class=\"dataframe\">\n",
       "  <thead>\n",
       "    <tr style=\"text-align: right;\">\n",
       "      <th></th>\n",
       "      <th>limit_balance</th>\n",
       "      <th>sex</th>\n",
       "      <th>education_level</th>\n",
       "      <th>marital_status</th>\n",
       "      <th>age</th>\n",
       "      <th>pay_0</th>\n",
       "      <th>pay_2</th>\n",
       "      <th>pay_3</th>\n",
       "      <th>pay_4</th>\n",
       "      <th>pay_5</th>\n",
       "      <th>...</th>\n",
       "      <th>bill_amt_4</th>\n",
       "      <th>bill_amt_5</th>\n",
       "      <th>bill_amt_6</th>\n",
       "      <th>pay_amt_1</th>\n",
       "      <th>pay_amt_2</th>\n",
       "      <th>pay_amt_3</th>\n",
       "      <th>pay_amt_4</th>\n",
       "      <th>pay_amt_5</th>\n",
       "      <th>pay_amt_6</th>\n",
       "      <th>default_payment_next_month</th>\n",
       "    </tr>\n",
       "  </thead>\n",
       "  <tbody>\n",
       "    <tr>\n",
       "      <th>2955</th>\n",
       "      <td>300000.0</td>\n",
       "      <td>2</td>\n",
       "      <td>2</td>\n",
       "      <td>1</td>\n",
       "      <td>28.0</td>\n",
       "      <td>-1.0</td>\n",
       "      <td>-1.0</td>\n",
       "      <td>-1.0</td>\n",
       "      <td>-1.0</td>\n",
       "      <td>-2.0</td>\n",
       "      <td>...</td>\n",
       "      <td>0.0</td>\n",
       "      <td>0.0</td>\n",
       "      <td>0.0</td>\n",
       "      <td>1000.0</td>\n",
       "      <td>16666.0</td>\n",
       "      <td>0.0</td>\n",
       "      <td>0.0</td>\n",
       "      <td>0.0</td>\n",
       "      <td>0.0</td>\n",
       "      <td>0</td>\n",
       "    </tr>\n",
       "    <tr>\n",
       "      <th>2956</th>\n",
       "      <td>200000.0</td>\n",
       "      <td>2</td>\n",
       "      <td>1</td>\n",
       "      <td>1</td>\n",
       "      <td>49.0</td>\n",
       "      <td>-1.0</td>\n",
       "      <td>-1.0</td>\n",
       "      <td>-1.0</td>\n",
       "      <td>-1.0</td>\n",
       "      <td>-2.0</td>\n",
       "      <td>...</td>\n",
       "      <td>0.0</td>\n",
       "      <td>0.0</td>\n",
       "      <td>0.0</td>\n",
       "      <td>0.0</td>\n",
       "      <td>103.0</td>\n",
       "      <td>0.0</td>\n",
       "      <td>0.0</td>\n",
       "      <td>0.0</td>\n",
       "      <td>225.0</td>\n",
       "      <td>0</td>\n",
       "    </tr>\n",
       "    <tr>\n",
       "      <th>2957</th>\n",
       "      <td>50000.0</td>\n",
       "      <td>2</td>\n",
       "      <td>1</td>\n",
       "      <td>2</td>\n",
       "      <td>31.0</td>\n",
       "      <td>-1.0</td>\n",
       "      <td>0.0</td>\n",
       "      <td>-1.0</td>\n",
       "      <td>-1.0</td>\n",
       "      <td>-1.0</td>\n",
       "      <td>...</td>\n",
       "      <td>3995.0</td>\n",
       "      <td>0.0</td>\n",
       "      <td>0.0</td>\n",
       "      <td>30018.0</td>\n",
       "      <td>12787.0</td>\n",
       "      <td>3995.0</td>\n",
       "      <td>0.0</td>\n",
       "      <td>0.0</td>\n",
       "      <td>0.0</td>\n",
       "      <td>0</td>\n",
       "    </tr>\n",
       "    <tr>\n",
       "      <th>2958</th>\n",
       "      <td>50000.0</td>\n",
       "      <td>2</td>\n",
       "      <td>1</td>\n",
       "      <td>2</td>\n",
       "      <td>25.0</td>\n",
       "      <td>-1.0</td>\n",
       "      <td>-1.0</td>\n",
       "      <td>2.0</td>\n",
       "      <td>-1.0</td>\n",
       "      <td>-1.0</td>\n",
       "      <td>...</td>\n",
       "      <td>10610.0</td>\n",
       "      <td>0.0</td>\n",
       "      <td>0.0</td>\n",
       "      <td>5000.0</td>\n",
       "      <td>200.0</td>\n",
       "      <td>10610.0</td>\n",
       "      <td>0.0</td>\n",
       "      <td>0.0</td>\n",
       "      <td>0.0</td>\n",
       "      <td>0</td>\n",
       "    </tr>\n",
       "    <tr>\n",
       "      <th>2959</th>\n",
       "      <td>100000.0</td>\n",
       "      <td>2</td>\n",
       "      <td>1</td>\n",
       "      <td>2</td>\n",
       "      <td>37.0</td>\n",
       "      <td>-1.0</td>\n",
       "      <td>-1.0</td>\n",
       "      <td>0.0</td>\n",
       "      <td>-1.0</td>\n",
       "      <td>-1.0</td>\n",
       "      <td>...</td>\n",
       "      <td>780.0</td>\n",
       "      <td>0.0</td>\n",
       "      <td>0.0</td>\n",
       "      <td>21711.0</td>\n",
       "      <td>1000.0</td>\n",
       "      <td>780.0</td>\n",
       "      <td>0.0</td>\n",
       "      <td>0.0</td>\n",
       "      <td>0.0</td>\n",
       "      <td>0</td>\n",
       "    </tr>\n",
       "    <tr>\n",
       "      <th>2960</th>\n",
       "      <td>30000.0</td>\n",
       "      <td>2</td>\n",
       "      <td>3</td>\n",
       "      <td>2</td>\n",
       "      <td>50.0</td>\n",
       "      <td>-1.0</td>\n",
       "      <td>-1.0</td>\n",
       "      <td>2.0</td>\n",
       "      <td>-1.0</td>\n",
       "      <td>-1.0</td>\n",
       "      <td>...</td>\n",
       "      <td>1110.0</td>\n",
       "      <td>0.0</td>\n",
       "      <td>0.0</td>\n",
       "      <td>1860.0</td>\n",
       "      <td>0.0</td>\n",
       "      <td>1110.0</td>\n",
       "      <td>0.0</td>\n",
       "      <td>0.0</td>\n",
       "      <td>0.0</td>\n",
       "      <td>1</td>\n",
       "    </tr>\n",
       "    <tr>\n",
       "      <th>2961</th>\n",
       "      <td>20000.0</td>\n",
       "      <td>2</td>\n",
       "      <td>1</td>\n",
       "      <td>2</td>\n",
       "      <td>25.0</td>\n",
       "      <td>-1.0</td>\n",
       "      <td>-1.0</td>\n",
       "      <td>-1.0</td>\n",
       "      <td>-1.0</td>\n",
       "      <td>-1.0</td>\n",
       "      <td>...</td>\n",
       "      <td>640.0</td>\n",
       "      <td>0.0</td>\n",
       "      <td>0.0</td>\n",
       "      <td>0.0</td>\n",
       "      <td>855.0</td>\n",
       "      <td>640.0</td>\n",
       "      <td>0.0</td>\n",
       "      <td>0.0</td>\n",
       "      <td>2742.0</td>\n",
       "      <td>0</td>\n",
       "    </tr>\n",
       "    <tr>\n",
       "      <th>2962</th>\n",
       "      <td>280000.0</td>\n",
       "      <td>2</td>\n",
       "      <td>1</td>\n",
       "      <td>2</td>\n",
       "      <td>52.0</td>\n",
       "      <td>-1.0</td>\n",
       "      <td>-1.0</td>\n",
       "      <td>-1.0</td>\n",
       "      <td>-1.0</td>\n",
       "      <td>-2.0</td>\n",
       "      <td>...</td>\n",
       "      <td>0.0</td>\n",
       "      <td>0.0</td>\n",
       "      <td>0.0</td>\n",
       "      <td>0.0</td>\n",
       "      <td>930.0</td>\n",
       "      <td>0.0</td>\n",
       "      <td>0.0</td>\n",
       "      <td>0.0</td>\n",
       "      <td>0.0</td>\n",
       "      <td>0</td>\n",
       "    </tr>\n",
       "    <tr>\n",
       "      <th>2963</th>\n",
       "      <td>360000.0</td>\n",
       "      <td>2</td>\n",
       "      <td>2</td>\n",
       "      <td>2</td>\n",
       "      <td>26.0</td>\n",
       "      <td>-1.0</td>\n",
       "      <td>-1.0</td>\n",
       "      <td>-1.0</td>\n",
       "      <td>-1.0</td>\n",
       "      <td>-2.0</td>\n",
       "      <td>...</td>\n",
       "      <td>0.0</td>\n",
       "      <td>0.0</td>\n",
       "      <td>0.0</td>\n",
       "      <td>463.0</td>\n",
       "      <td>2500.0</td>\n",
       "      <td>0.0</td>\n",
       "      <td>0.0</td>\n",
       "      <td>0.0</td>\n",
       "      <td>0.0</td>\n",
       "      <td>0</td>\n",
       "    </tr>\n",
       "    <tr>\n",
       "      <th>2964</th>\n",
       "      <td>100000.0</td>\n",
       "      <td>2</td>\n",
       "      <td>1</td>\n",
       "      <td>2</td>\n",
       "      <td>30.0</td>\n",
       "      <td>-1.0</td>\n",
       "      <td>-1.0</td>\n",
       "      <td>-1.0</td>\n",
       "      <td>-1.0</td>\n",
       "      <td>-2.0</td>\n",
       "      <td>...</td>\n",
       "      <td>0.0</td>\n",
       "      <td>0.0</td>\n",
       "      <td>0.0</td>\n",
       "      <td>35993.0</td>\n",
       "      <td>2772.0</td>\n",
       "      <td>0.0</td>\n",
       "      <td>0.0</td>\n",
       "      <td>0.0</td>\n",
       "      <td>0.0</td>\n",
       "      <td>0</td>\n",
       "    </tr>\n",
       "  </tbody>\n",
       "</table>\n",
       "<p>10 rows × 24 columns</p>\n",
       "</div>"
      ],
      "text/plain": [
       "      limit_balance  sex  education_level  marital_status   age  pay_0  pay_2  \\\n",
       "2955       300000.0    2                2               1  28.0   -1.0   -1.0   \n",
       "2956       200000.0    2                1               1  49.0   -1.0   -1.0   \n",
       "2957        50000.0    2                1               2  31.0   -1.0    0.0   \n",
       "2958        50000.0    2                1               2  25.0   -1.0   -1.0   \n",
       "2959       100000.0    2                1               2  37.0   -1.0   -1.0   \n",
       "2960        30000.0    2                3               2  50.0   -1.0   -1.0   \n",
       "2961        20000.0    2                1               2  25.0   -1.0   -1.0   \n",
       "2962       280000.0    2                1               2  52.0   -1.0   -1.0   \n",
       "2963       360000.0    2                2               2  26.0   -1.0   -1.0   \n",
       "2964       100000.0    2                1               2  30.0   -1.0   -1.0   \n",
       "\n",
       "      pay_3  pay_4  pay_5  ...  bill_amt_4  bill_amt_5  bill_amt_6  pay_amt_1  \\\n",
       "2955   -1.0   -1.0   -2.0  ...         0.0         0.0         0.0     1000.0   \n",
       "2956   -1.0   -1.0   -2.0  ...         0.0         0.0         0.0        0.0   \n",
       "2957   -1.0   -1.0   -1.0  ...      3995.0         0.0         0.0    30018.0   \n",
       "2958    2.0   -1.0   -1.0  ...     10610.0         0.0         0.0     5000.0   \n",
       "2959    0.0   -1.0   -1.0  ...       780.0         0.0         0.0    21711.0   \n",
       "2960    2.0   -1.0   -1.0  ...      1110.0         0.0         0.0     1860.0   \n",
       "2961   -1.0   -1.0   -1.0  ...       640.0         0.0         0.0        0.0   \n",
       "2962   -1.0   -1.0   -2.0  ...         0.0         0.0         0.0        0.0   \n",
       "2963   -1.0   -1.0   -2.0  ...         0.0         0.0         0.0      463.0   \n",
       "2964   -1.0   -1.0   -2.0  ...         0.0         0.0         0.0    35993.0   \n",
       "\n",
       "      pay_amt_2  pay_amt_3  pay_amt_4  pay_amt_5  pay_amt_6  \\\n",
       "2955    16666.0        0.0        0.0        0.0        0.0   \n",
       "2956      103.0        0.0        0.0        0.0      225.0   \n",
       "2957    12787.0     3995.0        0.0        0.0        0.0   \n",
       "2958      200.0    10610.0        0.0        0.0        0.0   \n",
       "2959     1000.0      780.0        0.0        0.0        0.0   \n",
       "2960        0.0     1110.0        0.0        0.0        0.0   \n",
       "2961      855.0      640.0        0.0        0.0     2742.0   \n",
       "2962      930.0        0.0        0.0        0.0        0.0   \n",
       "2963     2500.0        0.0        0.0        0.0        0.0   \n",
       "2964     2772.0        0.0        0.0        0.0        0.0   \n",
       "\n",
       "      default_payment_next_month  \n",
       "2955                           0  \n",
       "2956                           0  \n",
       "2957                           0  \n",
       "2958                           0  \n",
       "2959                           0  \n",
       "2960                           1  \n",
       "2961                           0  \n",
       "2962                           0  \n",
       "2963                           0  \n",
       "2964                           0  \n",
       "\n",
       "[10 rows x 24 columns]"
      ]
     },
     "execution_count": 4,
     "metadata": {},
     "output_type": "execute_result"
    }
   ],
   "source": [
    "# Showing last 10 of dataset\n",
    "\n",
    "df.tail(10)"
   ]
  },
  {
   "cell_type": "code",
   "execution_count": 5,
   "metadata": {
    "colab": {
     "base_uri": "https://localhost:8080/"
    },
    "id": "B3T2BTeytQFM",
    "outputId": "65d2e467-5d60-4672-be08-ff2421dabc47"
   },
   "outputs": [
    {
     "name": "stdout",
     "output_type": "stream",
     "text": [
      "<class 'pandas.core.frame.DataFrame'>\n",
      "RangeIndex: 2965 entries, 0 to 2964\n",
      "Data columns (total 24 columns):\n",
      " #   Column                      Non-Null Count  Dtype  \n",
      "---  ------                      --------------  -----  \n",
      " 0   limit_balance               2965 non-null   float64\n",
      " 1   sex                         2965 non-null   int64  \n",
      " 2   education_level             2965 non-null   int64  \n",
      " 3   marital_status              2965 non-null   int64  \n",
      " 4   age                         2965 non-null   float64\n",
      " 5   pay_0                       2965 non-null   float64\n",
      " 6   pay_2                       2965 non-null   float64\n",
      " 7   pay_3                       2965 non-null   float64\n",
      " 8   pay_4                       2965 non-null   float64\n",
      " 9   pay_5                       2965 non-null   float64\n",
      " 10  pay_6                       2965 non-null   float64\n",
      " 11  bill_amt_1                  2965 non-null   float64\n",
      " 12  bill_amt_2                  2965 non-null   float64\n",
      " 13  bill_amt_3                  2965 non-null   float64\n",
      " 14  bill_amt_4                  2965 non-null   float64\n",
      " 15  bill_amt_5                  2965 non-null   float64\n",
      " 16  bill_amt_6                  2965 non-null   float64\n",
      " 17  pay_amt_1                   2965 non-null   float64\n",
      " 18  pay_amt_2                   2965 non-null   float64\n",
      " 19  pay_amt_3                   2965 non-null   float64\n",
      " 20  pay_amt_4                   2965 non-null   float64\n",
      " 21  pay_amt_5                   2965 non-null   float64\n",
      " 22  pay_amt_6                   2965 non-null   float64\n",
      " 23  default_payment_next_month  2965 non-null   int64  \n",
      "dtypes: float64(20), int64(4)\n",
      "memory usage: 556.1 KB\n"
     ]
    }
   ],
   "source": [
    "# Check Dataset\n",
    "\n",
    "df.info()"
   ]
  },
  {
   "cell_type": "code",
   "execution_count": 6,
   "metadata": {
    "colab": {
     "base_uri": "https://localhost:8080/",
     "height": 364
    },
    "id": "jFdSKPt7tXZv",
    "outputId": "72db7853-3946-4441-84d3-9b7247fb7bcd"
   },
   "outputs": [
    {
     "data": {
      "text/html": [
       "<div>\n",
       "<style scoped>\n",
       "    .dataframe tbody tr th:only-of-type {\n",
       "        vertical-align: middle;\n",
       "    }\n",
       "\n",
       "    .dataframe tbody tr th {\n",
       "        vertical-align: top;\n",
       "    }\n",
       "\n",
       "    .dataframe thead th {\n",
       "        text-align: right;\n",
       "    }\n",
       "</style>\n",
       "<table border=\"1\" class=\"dataframe\">\n",
       "  <thead>\n",
       "    <tr style=\"text-align: right;\">\n",
       "      <th></th>\n",
       "      <th>limit_balance</th>\n",
       "      <th>sex</th>\n",
       "      <th>education_level</th>\n",
       "      <th>marital_status</th>\n",
       "      <th>age</th>\n",
       "      <th>pay_0</th>\n",
       "      <th>pay_2</th>\n",
       "      <th>pay_3</th>\n",
       "      <th>pay_4</th>\n",
       "      <th>pay_5</th>\n",
       "      <th>...</th>\n",
       "      <th>bill_amt_4</th>\n",
       "      <th>bill_amt_5</th>\n",
       "      <th>bill_amt_6</th>\n",
       "      <th>pay_amt_1</th>\n",
       "      <th>pay_amt_2</th>\n",
       "      <th>pay_amt_3</th>\n",
       "      <th>pay_amt_4</th>\n",
       "      <th>pay_amt_5</th>\n",
       "      <th>pay_amt_6</th>\n",
       "      <th>default_payment_next_month</th>\n",
       "    </tr>\n",
       "  </thead>\n",
       "  <tbody>\n",
       "    <tr>\n",
       "      <th>count</th>\n",
       "      <td>2965.000000</td>\n",
       "      <td>2965.000000</td>\n",
       "      <td>2965.000000</td>\n",
       "      <td>2965.000000</td>\n",
       "      <td>2965.000000</td>\n",
       "      <td>2965.000000</td>\n",
       "      <td>2965.000000</td>\n",
       "      <td>2965.000000</td>\n",
       "      <td>2965.000000</td>\n",
       "      <td>2965.000000</td>\n",
       "      <td>...</td>\n",
       "      <td>2965.000000</td>\n",
       "      <td>2965.000000</td>\n",
       "      <td>2965.000000</td>\n",
       "      <td>2965.000000</td>\n",
       "      <td>2.965000e+03</td>\n",
       "      <td>2965.000000</td>\n",
       "      <td>2965.000000</td>\n",
       "      <td>2965.000000</td>\n",
       "      <td>2965.000000</td>\n",
       "      <td>2965.000000</td>\n",
       "    </tr>\n",
       "    <tr>\n",
       "      <th>mean</th>\n",
       "      <td>163369.308600</td>\n",
       "      <td>1.607757</td>\n",
       "      <td>1.849578</td>\n",
       "      <td>1.559865</td>\n",
       "      <td>35.193255</td>\n",
       "      <td>0.005059</td>\n",
       "      <td>-0.122428</td>\n",
       "      <td>-0.141653</td>\n",
       "      <td>-0.185160</td>\n",
       "      <td>-0.225295</td>\n",
       "      <td>...</td>\n",
       "      <td>44089.683305</td>\n",
       "      <td>40956.080607</td>\n",
       "      <td>39773.072513</td>\n",
       "      <td>6348.902867</td>\n",
       "      <td>6.272494e+03</td>\n",
       "      <td>5150.497133</td>\n",
       "      <td>4561.376054</td>\n",
       "      <td>4913.286678</td>\n",
       "      <td>5382.701518</td>\n",
       "      <td>0.214165</td>\n",
       "    </tr>\n",
       "    <tr>\n",
       "      <th>std</th>\n",
       "      <td>125030.415472</td>\n",
       "      <td>0.488333</td>\n",
       "      <td>0.778184</td>\n",
       "      <td>0.522317</td>\n",
       "      <td>9.109439</td>\n",
       "      <td>1.114395</td>\n",
       "      <td>1.180784</td>\n",
       "      <td>1.183630</td>\n",
       "      <td>1.178322</td>\n",
       "      <td>1.159003</td>\n",
       "      <td>...</td>\n",
       "      <td>61907.454056</td>\n",
       "      <td>58271.904751</td>\n",
       "      <td>57303.488981</td>\n",
       "      <td>20885.735336</td>\n",
       "      <td>2.887967e+04</td>\n",
       "      <td>14287.079982</td>\n",
       "      <td>13281.499599</td>\n",
       "      <td>16734.340778</td>\n",
       "      <td>17275.953029</td>\n",
       "      <td>0.410311</td>\n",
       "    </tr>\n",
       "    <tr>\n",
       "      <th>min</th>\n",
       "      <td>10000.000000</td>\n",
       "      <td>1.000000</td>\n",
       "      <td>0.000000</td>\n",
       "      <td>0.000000</td>\n",
       "      <td>21.000000</td>\n",
       "      <td>-2.000000</td>\n",
       "      <td>-2.000000</td>\n",
       "      <td>-2.000000</td>\n",
       "      <td>-2.000000</td>\n",
       "      <td>-2.000000</td>\n",
       "      <td>...</td>\n",
       "      <td>-46627.000000</td>\n",
       "      <td>-46627.000000</td>\n",
       "      <td>-73895.000000</td>\n",
       "      <td>0.000000</td>\n",
       "      <td>0.000000e+00</td>\n",
       "      <td>0.000000</td>\n",
       "      <td>0.000000</td>\n",
       "      <td>0.000000</td>\n",
       "      <td>0.000000</td>\n",
       "      <td>0.000000</td>\n",
       "    </tr>\n",
       "    <tr>\n",
       "      <th>25%</th>\n",
       "      <td>50000.000000</td>\n",
       "      <td>1.000000</td>\n",
       "      <td>1.000000</td>\n",
       "      <td>1.000000</td>\n",
       "      <td>28.000000</td>\n",
       "      <td>-1.000000</td>\n",
       "      <td>-1.000000</td>\n",
       "      <td>-1.000000</td>\n",
       "      <td>-1.000000</td>\n",
       "      <td>-1.000000</td>\n",
       "      <td>...</td>\n",
       "      <td>2582.000000</td>\n",
       "      <td>1958.000000</td>\n",
       "      <td>1430.000000</td>\n",
       "      <td>1013.000000</td>\n",
       "      <td>9.900000e+02</td>\n",
       "      <td>477.000000</td>\n",
       "      <td>313.000000</td>\n",
       "      <td>323.000000</td>\n",
       "      <td>173.000000</td>\n",
       "      <td>0.000000</td>\n",
       "    </tr>\n",
       "    <tr>\n",
       "      <th>50%</th>\n",
       "      <td>140000.000000</td>\n",
       "      <td>2.000000</td>\n",
       "      <td>2.000000</td>\n",
       "      <td>2.000000</td>\n",
       "      <td>34.000000</td>\n",
       "      <td>0.000000</td>\n",
       "      <td>0.000000</td>\n",
       "      <td>0.000000</td>\n",
       "      <td>0.000000</td>\n",
       "      <td>0.000000</td>\n",
       "      <td>...</td>\n",
       "      <td>19894.000000</td>\n",
       "      <td>18814.000000</td>\n",
       "      <td>18508.000000</td>\n",
       "      <td>2234.000000</td>\n",
       "      <td>2.175000e+03</td>\n",
       "      <td>1994.000000</td>\n",
       "      <td>1600.000000</td>\n",
       "      <td>1646.000000</td>\n",
       "      <td>1615.000000</td>\n",
       "      <td>0.000000</td>\n",
       "    </tr>\n",
       "    <tr>\n",
       "      <th>75%</th>\n",
       "      <td>230000.000000</td>\n",
       "      <td>2.000000</td>\n",
       "      <td>2.000000</td>\n",
       "      <td>2.000000</td>\n",
       "      <td>41.000000</td>\n",
       "      <td>0.000000</td>\n",
       "      <td>0.000000</td>\n",
       "      <td>0.000000</td>\n",
       "      <td>0.000000</td>\n",
       "      <td>0.000000</td>\n",
       "      <td>...</td>\n",
       "      <td>58622.000000</td>\n",
       "      <td>53373.000000</td>\n",
       "      <td>52287.000000</td>\n",
       "      <td>5087.000000</td>\n",
       "      <td>5.000000e+03</td>\n",
       "      <td>4500.000000</td>\n",
       "      <td>4000.000000</td>\n",
       "      <td>4021.000000</td>\n",
       "      <td>4081.000000</td>\n",
       "      <td>0.000000</td>\n",
       "    </tr>\n",
       "    <tr>\n",
       "      <th>max</th>\n",
       "      <td>800000.000000</td>\n",
       "      <td>2.000000</td>\n",
       "      <td>6.000000</td>\n",
       "      <td>3.000000</td>\n",
       "      <td>69.000000</td>\n",
       "      <td>8.000000</td>\n",
       "      <td>7.000000</td>\n",
       "      <td>7.000000</td>\n",
       "      <td>8.000000</td>\n",
       "      <td>7.000000</td>\n",
       "      <td>...</td>\n",
       "      <td>488808.000000</td>\n",
       "      <td>441981.000000</td>\n",
       "      <td>436172.000000</td>\n",
       "      <td>493358.000000</td>\n",
       "      <td>1.227082e+06</td>\n",
       "      <td>199209.000000</td>\n",
       "      <td>202076.000000</td>\n",
       "      <td>388071.000000</td>\n",
       "      <td>403500.000000</td>\n",
       "      <td>1.000000</td>\n",
       "    </tr>\n",
       "  </tbody>\n",
       "</table>\n",
       "<p>8 rows × 24 columns</p>\n",
       "</div>"
      ],
      "text/plain": [
       "       limit_balance          sex  education_level  marital_status  \\\n",
       "count    2965.000000  2965.000000      2965.000000     2965.000000   \n",
       "mean   163369.308600     1.607757         1.849578        1.559865   \n",
       "std    125030.415472     0.488333         0.778184        0.522317   \n",
       "min     10000.000000     1.000000         0.000000        0.000000   \n",
       "25%     50000.000000     1.000000         1.000000        1.000000   \n",
       "50%    140000.000000     2.000000         2.000000        2.000000   \n",
       "75%    230000.000000     2.000000         2.000000        2.000000   \n",
       "max    800000.000000     2.000000         6.000000        3.000000   \n",
       "\n",
       "               age        pay_0        pay_2        pay_3        pay_4  \\\n",
       "count  2965.000000  2965.000000  2965.000000  2965.000000  2965.000000   \n",
       "mean     35.193255     0.005059    -0.122428    -0.141653    -0.185160   \n",
       "std       9.109439     1.114395     1.180784     1.183630     1.178322   \n",
       "min      21.000000    -2.000000    -2.000000    -2.000000    -2.000000   \n",
       "25%      28.000000    -1.000000    -1.000000    -1.000000    -1.000000   \n",
       "50%      34.000000     0.000000     0.000000     0.000000     0.000000   \n",
       "75%      41.000000     0.000000     0.000000     0.000000     0.000000   \n",
       "max      69.000000     8.000000     7.000000     7.000000     8.000000   \n",
       "\n",
       "             pay_5  ...     bill_amt_4     bill_amt_5     bill_amt_6  \\\n",
       "count  2965.000000  ...    2965.000000    2965.000000    2965.000000   \n",
       "mean     -0.225295  ...   44089.683305   40956.080607   39773.072513   \n",
       "std       1.159003  ...   61907.454056   58271.904751   57303.488981   \n",
       "min      -2.000000  ...  -46627.000000  -46627.000000  -73895.000000   \n",
       "25%      -1.000000  ...    2582.000000    1958.000000    1430.000000   \n",
       "50%       0.000000  ...   19894.000000   18814.000000   18508.000000   \n",
       "75%       0.000000  ...   58622.000000   53373.000000   52287.000000   \n",
       "max       7.000000  ...  488808.000000  441981.000000  436172.000000   \n",
       "\n",
       "           pay_amt_1     pay_amt_2      pay_amt_3      pay_amt_4  \\\n",
       "count    2965.000000  2.965000e+03    2965.000000    2965.000000   \n",
       "mean     6348.902867  6.272494e+03    5150.497133    4561.376054   \n",
       "std     20885.735336  2.887967e+04   14287.079982   13281.499599   \n",
       "min         0.000000  0.000000e+00       0.000000       0.000000   \n",
       "25%      1013.000000  9.900000e+02     477.000000     313.000000   \n",
       "50%      2234.000000  2.175000e+03    1994.000000    1600.000000   \n",
       "75%      5087.000000  5.000000e+03    4500.000000    4000.000000   \n",
       "max    493358.000000  1.227082e+06  199209.000000  202076.000000   \n",
       "\n",
       "           pay_amt_5      pay_amt_6  default_payment_next_month  \n",
       "count    2965.000000    2965.000000                 2965.000000  \n",
       "mean     4913.286678    5382.701518                    0.214165  \n",
       "std     16734.340778   17275.953029                    0.410311  \n",
       "min         0.000000       0.000000                    0.000000  \n",
       "25%       323.000000     173.000000                    0.000000  \n",
       "50%      1646.000000    1615.000000                    0.000000  \n",
       "75%      4021.000000    4081.000000                    0.000000  \n",
       "max    388071.000000  403500.000000                    1.000000  \n",
       "\n",
       "[8 rows x 24 columns]"
      ]
     },
     "execution_count": 6,
     "metadata": {},
     "output_type": "execute_result"
    }
   ],
   "source": [
    "# Check Dataset 2\n",
    "\n",
    "df.describe()"
   ]
  },
  {
   "attachments": {},
   "cell_type": "markdown",
   "metadata": {},
   "source": [
    "We want to check if there are missing values in our dataset."
   ]
  },
  {
   "cell_type": "code",
   "execution_count": 7,
   "metadata": {},
   "outputs": [
    {
     "data": {
      "text/plain": [
       "limit_balance                 0\n",
       "sex                           0\n",
       "education_level               0\n",
       "marital_status                0\n",
       "age                           0\n",
       "pay_0                         0\n",
       "pay_2                         0\n",
       "pay_3                         0\n",
       "pay_4                         0\n",
       "pay_5                         0\n",
       "pay_6                         0\n",
       "bill_amt_1                    0\n",
       "bill_amt_2                    0\n",
       "bill_amt_3                    0\n",
       "bill_amt_4                    0\n",
       "bill_amt_5                    0\n",
       "bill_amt_6                    0\n",
       "pay_amt_1                     0\n",
       "pay_amt_2                     0\n",
       "pay_amt_3                     0\n",
       "pay_amt_4                     0\n",
       "pay_amt_5                     0\n",
       "pay_amt_6                     0\n",
       "default_payment_next_month    0\n",
       "dtype: int64"
      ]
     },
     "execution_count": 7,
     "metadata": {},
     "output_type": "execute_result"
    }
   ],
   "source": [
    "df.isnull().sum()"
   ]
  },
  {
   "attachments": {},
   "cell_type": "markdown",
   "metadata": {},
   "source": [
    "We can see that there is no missing values in our data. Next, we want to see if there are duplicate entries in our data"
   ]
  },
  {
   "cell_type": "code",
   "execution_count": 8,
   "metadata": {},
   "outputs": [
    {
     "data": {
      "text/plain": [
       "1"
      ]
     },
     "execution_count": 8,
     "metadata": {},
     "output_type": "execute_result"
    }
   ],
   "source": [
    "df.duplicated().sum()"
   ]
  },
  {
   "cell_type": "code",
   "execution_count": 9,
   "metadata": {},
   "outputs": [
    {
     "data": {
      "text/html": [
       "<div>\n",
       "<style scoped>\n",
       "    .dataframe tbody tr th:only-of-type {\n",
       "        vertical-align: middle;\n",
       "    }\n",
       "\n",
       "    .dataframe tbody tr th {\n",
       "        vertical-align: top;\n",
       "    }\n",
       "\n",
       "    .dataframe thead th {\n",
       "        text-align: right;\n",
       "    }\n",
       "</style>\n",
       "<table border=\"1\" class=\"dataframe\">\n",
       "  <thead>\n",
       "    <tr style=\"text-align: right;\">\n",
       "      <th></th>\n",
       "      <th>limit_balance</th>\n",
       "      <th>sex</th>\n",
       "      <th>education_level</th>\n",
       "      <th>marital_status</th>\n",
       "      <th>age</th>\n",
       "      <th>pay_0</th>\n",
       "      <th>pay_2</th>\n",
       "      <th>pay_3</th>\n",
       "      <th>pay_4</th>\n",
       "      <th>pay_5</th>\n",
       "      <th>...</th>\n",
       "      <th>bill_amt_4</th>\n",
       "      <th>bill_amt_5</th>\n",
       "      <th>bill_amt_6</th>\n",
       "      <th>pay_amt_1</th>\n",
       "      <th>pay_amt_2</th>\n",
       "      <th>pay_amt_3</th>\n",
       "      <th>pay_amt_4</th>\n",
       "      <th>pay_amt_5</th>\n",
       "      <th>pay_amt_6</th>\n",
       "      <th>default_payment_next_month</th>\n",
       "    </tr>\n",
       "  </thead>\n",
       "  <tbody>\n",
       "    <tr>\n",
       "      <th>2381</th>\n",
       "      <td>200000.0</td>\n",
       "      <td>2</td>\n",
       "      <td>1</td>\n",
       "      <td>1</td>\n",
       "      <td>34.0</td>\n",
       "      <td>1.0</td>\n",
       "      <td>-2.0</td>\n",
       "      <td>-2.0</td>\n",
       "      <td>-2.0</td>\n",
       "      <td>-2.0</td>\n",
       "      <td>...</td>\n",
       "      <td>0.0</td>\n",
       "      <td>0.0</td>\n",
       "      <td>0.0</td>\n",
       "      <td>0.0</td>\n",
       "      <td>0.0</td>\n",
       "      <td>0.0</td>\n",
       "      <td>0.0</td>\n",
       "      <td>0.0</td>\n",
       "      <td>0.0</td>\n",
       "      <td>0</td>\n",
       "    </tr>\n",
       "  </tbody>\n",
       "</table>\n",
       "<p>1 rows × 24 columns</p>\n",
       "</div>"
      ],
      "text/plain": [
       "      limit_balance  sex  education_level  marital_status   age  pay_0  pay_2  \\\n",
       "2381       200000.0    2                1               1  34.0    1.0   -2.0   \n",
       "\n",
       "      pay_3  pay_4  pay_5  ...  bill_amt_4  bill_amt_5  bill_amt_6  pay_amt_1  \\\n",
       "2381   -2.0   -2.0   -2.0  ...         0.0         0.0         0.0        0.0   \n",
       "\n",
       "      pay_amt_2  pay_amt_3  pay_amt_4  pay_amt_5  pay_amt_6  \\\n",
       "2381        0.0        0.0        0.0        0.0        0.0   \n",
       "\n",
       "      default_payment_next_month  \n",
       "2381                           0  \n",
       "\n",
       "[1 rows x 24 columns]"
      ]
     },
     "execution_count": 9,
     "metadata": {},
     "output_type": "execute_result"
    }
   ],
   "source": [
    "df[df.duplicated()]"
   ]
  },
  {
   "attachments": {},
   "cell_type": "markdown",
   "metadata": {},
   "source": [
    "Here, we can see that we have one duplicated data, so we have to drop the duplicated data before we use it for modelling."
   ]
  },
  {
   "cell_type": "code",
   "execution_count": 10,
   "metadata": {},
   "outputs": [
    {
     "data": {
      "text/plain": [
       "0"
      ]
     },
     "execution_count": 10,
     "metadata": {},
     "output_type": "execute_result"
    }
   ],
   "source": [
    "df.drop_duplicates(inplace=True)\n",
    "df.reset_index(inplace=True,drop=True)\n",
    "df.duplicated().sum()"
   ]
  },
  {
   "cell_type": "markdown",
   "metadata": {
    "id": "E1OHrikJt3qb"
   },
   "source": [
    "# 4 - Exploratory Data Analysis (EDA)"
   ]
  },
  {
   "attachments": {},
   "cell_type": "markdown",
   "metadata": {},
   "source": [
    "## Phik Correlation"
   ]
  },
  {
   "attachments": {},
   "cell_type": "markdown",
   "metadata": {},
   "source": [
    "We have 29 columns in our dataset, we will not use all the columns as features for our model. So, we want to find out which column has high correlation with our target which is 'default payment next month'. We will calculate the correlation using phik correlation. For better visualization, we will split the columns into 4 groups before calculating the correlation. For this correlation we will use the threshold of 0.15 correlation value to assume that the column has quite high correlation with the target."
   ]
  },
  {
   "cell_type": "code",
   "execution_count": 11,
   "metadata": {},
   "outputs": [],
   "source": [
    "colgro_1 = ['limit_balance','sex','education_level', 'marital_status', 'age']    # general columns\n",
    "colgro_2 = ['pay_0', 'pay_2', 'pay_3', 'pay_4', 'pay_5', 'pay_6']       # repayment status columns\n",
    "colgro_3 = ['bill_amt_1', 'bill_amt_2', 'bill_amt_3', 'bill_amt_4', 'bill_amt_5', 'bill_amt_6']     # amount of bill columns\n",
    "colgro_4 = ['pay_amt_1', 'pay_amt_2', 'pay_amt_3', 'pay_amt_4', 'pay_amt_5', 'pay_amt_6']       # repayment amount columns"
   ]
  },
  {
   "cell_type": "code",
   "execution_count": 12,
   "metadata": {},
   "outputs": [
    {
     "name": "stdout",
     "output_type": "stream",
     "text": [
      "interval columns not set, guessing: ['limit_balance', 'sex', 'education_level', 'marital_status', 'age', 'default_payment_next_month']\n"
     ]
    },
    {
     "data": {
      "image/png": "[encoded data removed]",
      "text/plain": [
       "<Figure size 1400x800 with 2 Axes>"
      ]
     },
     "metadata": {},
     "output_type": "display_data"
    }
   ],
   "source": [
    "phik_overview = df[colgro_1+['default_payment_next_month']].phik_matrix()\n",
    "\n",
    "plot_correlation_matrix(phik_overview.values, \n",
    "                        x_labels=phik_overview.columns, \n",
    "                        y_labels=phik_overview.index, \n",
    "                        vmin=0, vmax=1, color_map=\"Greens\", \n",
    "                        title=r\"correlation $\\phi_K$ general columns\", \n",
    "                        fontsize_factor=1.5, \n",
    "                        figsize=(14,8))\n",
    "plt.tight_layout()"
   ]
  },
  {
   "attachments": {},
   "cell_type": "markdown",
   "metadata": {},
   "source": [
    "From the general group we can see that only limit balance column has correlation value above 0.15. As the assumption stated on the beginning of the section, we will use this one of our feature for modelling."
   ]
  },
  {
   "cell_type": "code",
   "execution_count": 13,
   "metadata": {},
   "outputs": [
    {
     "name": "stdout",
     "output_type": "stream",
     "text": [
      "interval columns not set, guessing: ['pay_0', 'pay_2', 'pay_3', 'pay_4', 'pay_5', 'pay_6', 'default_payment_next_month']\n"
     ]
    },
    {
     "data": {
      "image/png": "[encoded data removed]",
      "text/plain": [
       "<Figure size 1400x800 with 2 Axes>"
      ]
     },
     "metadata": {},
     "output_type": "display_data"
    }
   ],
   "source": [
    "phik_overview = df[colgro_2+['default_payment_next_month']].phik_matrix()\n",
    "\n",
    "plot_correlation_matrix(phik_overview.values, \n",
    "                        x_labels=phik_overview.columns, \n",
    "                        y_labels=phik_overview.index, \n",
    "                        vmin=0, vmax=1, color_map=\"Greens\", \n",
    "                        title=r\"correlation $\\phi_K$ repayment status columns\", \n",
    "                        fontsize_factor=1.5, \n",
    "                        figsize=(14,8))\n",
    "plt.tight_layout()"
   ]
  },
  {
   "attachments": {},
   "cell_type": "markdown",
   "metadata": {},
   "source": [
    "Next group column is the repayment status group. We can see that all the columns has higher than 0.15 phik correlation value. So, we will use all these features as our features."
   ]
  },
  {
   "cell_type": "code",
   "execution_count": 14,
   "metadata": {},
   "outputs": [
    {
     "name": "stdout",
     "output_type": "stream",
     "text": [
      "interval columns not set, guessing: ['bill_amt_1', 'bill_amt_2', 'bill_amt_3', 'bill_amt_4', 'bill_amt_5', 'bill_amt_6', 'default_payment_next_month']\n"
     ]
    },
    {
     "data": {
      "image/png": "[encoded data removed]",
      "text/plain": [
       "<Figure size 1400x800 with 2 Axes>"
      ]
     },
     "metadata": {},
     "output_type": "display_data"
    }
   ],
   "source": [
    "phik_overview = df[colgro_3+['default_payment_next_month']].phik_matrix()\n",
    "\n",
    "plot_correlation_matrix(phik_overview.values, \n",
    "                        x_labels=phik_overview.columns, \n",
    "                        y_labels=phik_overview.index, \n",
    "                        vmin=0, vmax=1, color_map=\"Greens\", \n",
    "                        title=r\"correlation $\\phi_K$ amount of bill columns\", \n",
    "                        fontsize_factor=1.5, \n",
    "                        figsize=(14,8))\n",
    "plt.tight_layout()"
   ]
  },
  {
   "attachments": {},
   "cell_type": "markdown",
   "metadata": {},
   "source": [
    "Next group is the amount of bill columns. In this group there isn't one with phik correlation value higher than 0.15, so we will not use any of these columns."
   ]
  },
  {
   "cell_type": "code",
   "execution_count": 15,
   "metadata": {},
   "outputs": [
    {
     "name": "stdout",
     "output_type": "stream",
     "text": [
      "interval columns not set, guessing: ['pay_amt_1', 'pay_amt_2', 'pay_amt_3', 'pay_amt_4', 'pay_amt_5', 'pay_amt_6', 'default_payment_next_month']\n"
     ]
    },
    {
     "data": {
      "image/png": "[encoded data removed]",
      "text/plain": [
       "<Figure size 1400x800 with 2 Axes>"
      ]
     },
     "metadata": {},
     "output_type": "display_data"
    }
   ],
   "source": [
    "phik_overview = df[colgro_4+['default_payment_next_month']].phik_matrix()\n",
    "\n",
    "plot_correlation_matrix(phik_overview.values, \n",
    "                        x_labels=phik_overview.columns, \n",
    "                        y_labels=phik_overview.index, \n",
    "                        vmin=0, vmax=1, color_map=\"Greens\", \n",
    "                        title=r\"correlation $\\phi_K$ repayment amount columns\", \n",
    "                        fontsize_factor=1.5, \n",
    "                        figsize=(14,8))\n",
    "plt.tight_layout()"
   ]
  },
  {
   "attachments": {},
   "cell_type": "markdown",
   "metadata": {},
   "source": [
    "Next, is the repayment amount columns. Same as the previous group, this group doesn't have any that have phik correlation value higher than 0.15, so we will not use any of these columns."
   ]
  },
  {
   "attachments": {},
   "cell_type": "markdown",
   "metadata": {},
   "source": [
    "The conclusion for this is that we will use only 7 columns as our feature for modelling. These features are the payment status group and the limit balance or the name of columns in our dataset are 'limit_balance', 'pay_0', 'pay_2', 'pay_3', 'pay_4', 'pay_5', 'pay_6'."
   ]
  },
  {
   "attachments": {},
   "cell_type": "markdown",
   "metadata": {},
   "source": [
    "## Payment Status Group"
   ]
  },
  {
   "attachments": {},
   "cell_type": "markdown",
   "metadata": {},
   "source": [
    "In payment status group we have 6 columns ('pay_0', 'pay_2', 'pay_3', 'pay_4', 'pay_5', 'pay_6'). This column name represent payment status for several month.\n",
    "- pay_0 = Repayment status in September, 2005\n",
    "- pay_2 = Repayment status in August, 2005\n",
    "- pay_3 = Repayment status in July, 2005\n",
    "- pay_4 = Repayment status in June, 2005\n",
    "- pay_5 = Repayment status in May, 2005\n",
    "- pay_6 = Repayment status in April, 2005\n",
    "\n",
    "The value for this columns is (-2) - 9. These numbers represent the status of customers payment.  ((-2) - 0=pay duly, 1=payment delay for one month, 2=payment delay for two months, ... 8=payment delay for eight months, 9=payment delay for nine months and above)\n",
    "\n"
   ]
  },
  {
   "attachments": {},
   "cell_type": "markdown",
   "metadata": {},
   "source": [
    "Since the value for payment status group is categorical and already encoded, we will not handle the outliers and will not encode these columns. We will only see the count for each column categorical value."
   ]
  },
  {
   "cell_type": "code",
   "execution_count": 16,
   "metadata": {},
   "outputs": [
    {
     "data": {
      "image/png": "[encoded data removed]",
      "text/plain": [
       "<Figure size 640x480 with 1 Axes>"
      ]
     },
     "metadata": {},
     "output_type": "display_data"
    },
    {
     "data": {
      "image/png": "[encoded data removed]",
      "text/plain": [
       "<Figure size 640x480 with 1 Axes>"
      ]
     },
     "metadata": {},
     "output_type": "display_data"
    },
    {
     "data": {
      "image/png": "[encoded data removed]",
      "text/plain": [
       "<Figure size 640x480 with 1 Axes>"
      ]
     },
     "metadata": {},
     "output_type": "display_data"
    },
    {
     "data": {
      "image/png": "[encoded data removed]",
      "text/plain": [
       "<Figure size 640x480 with 1 Axes>"
      ]
     },
     "metadata": {},
     "output_type": "display_data"
    },
    {
     "data": {
      "image/png": "[encoded data removed]",
      "text/plain": [
       "<Figure size 640x480 with 1 Axes>"
      ]
     },
     "metadata": {},
     "output_type": "display_data"
    },
    {
     "data": {
      "image/png": "[encoded data removed]",
      "text/plain": [
       "<Figure size 640x480 with 1 Axes>"
      ]
     },
     "metadata": {},
     "output_type": "display_data"
    }
   ],
   "source": [
    "for col in df[['pay_0', 'pay_2', 'pay_3', 'pay_4', 'pay_5', 'pay_6']].columns:\n",
    "    df.groupby(col)[[col]].agg('count').plot(kind='bar')"
   ]
  },
  {
   "attachments": {},
   "cell_type": "markdown",
   "metadata": {},
   "source": [
    "From all the bar plot, we can see that majority of our data has 0 payment status (pay duly). The ideal status for credit card customers is (-2) - 0 which means the customers pay the bill on time."
   ]
  },
  {
   "cell_type": "code",
   "execution_count": 17,
   "metadata": {},
   "outputs": [
    {
     "data": {
      "text/html": [
       "<div>\n",
       "<style scoped>\n",
       "    .dataframe tbody tr th:only-of-type {\n",
       "        vertical-align: middle;\n",
       "    }\n",
       "\n",
       "    .dataframe tbody tr th {\n",
       "        vertical-align: top;\n",
       "    }\n",
       "\n",
       "    .dataframe thead th {\n",
       "        text-align: right;\n",
       "    }\n",
       "</style>\n",
       "<table border=\"1\" class=\"dataframe\">\n",
       "  <thead>\n",
       "    <tr style=\"text-align: right;\">\n",
       "      <th></th>\n",
       "      <th>pay_0</th>\n",
       "    </tr>\n",
       "    <tr>\n",
       "      <th>pay_0</th>\n",
       "      <th></th>\n",
       "    </tr>\n",
       "  </thead>\n",
       "  <tbody>\n",
       "    <tr>\n",
       "      <th>-2.0</th>\n",
       "      <td>247</td>\n",
       "    </tr>\n",
       "    <tr>\n",
       "      <th>-1.0</th>\n",
       "      <td>540</td>\n",
       "    </tr>\n",
       "    <tr>\n",
       "      <th>0.0</th>\n",
       "      <td>1516</td>\n",
       "    </tr>\n",
       "    <tr>\n",
       "      <th>1.0</th>\n",
       "      <td>355</td>\n",
       "    </tr>\n",
       "    <tr>\n",
       "      <th>2.0</th>\n",
       "      <td>262</td>\n",
       "    </tr>\n",
       "    <tr>\n",
       "      <th>3.0</th>\n",
       "      <td>29</td>\n",
       "    </tr>\n",
       "    <tr>\n",
       "      <th>4.0</th>\n",
       "      <td>7</td>\n",
       "    </tr>\n",
       "    <tr>\n",
       "      <th>5.0</th>\n",
       "      <td>2</td>\n",
       "    </tr>\n",
       "    <tr>\n",
       "      <th>6.0</th>\n",
       "      <td>1</td>\n",
       "    </tr>\n",
       "    <tr>\n",
       "      <th>7.0</th>\n",
       "      <td>2</td>\n",
       "    </tr>\n",
       "    <tr>\n",
       "      <th>8.0</th>\n",
       "      <td>3</td>\n",
       "    </tr>\n",
       "  </tbody>\n",
       "</table>\n",
       "</div>"
      ],
      "text/plain": [
       "       pay_0\n",
       "pay_0       \n",
       "-2.0     247\n",
       "-1.0     540\n",
       " 0.0    1516\n",
       " 1.0     355\n",
       " 2.0     262\n",
       " 3.0      29\n",
       " 4.0       7\n",
       " 5.0       2\n",
       " 6.0       1\n",
       " 7.0       2\n",
       " 8.0       3"
      ]
     },
     "execution_count": 17,
     "metadata": {},
     "output_type": "execute_result"
    }
   ],
   "source": [
    "df.groupby('pay_0')[['pay_0']].agg('count')"
   ]
  },
  {
   "cell_type": "code",
   "execution_count": 18,
   "metadata": {},
   "outputs": [
    {
     "data": {
      "text/html": [
       "<div>\n",
       "<style scoped>\n",
       "    .dataframe tbody tr th:only-of-type {\n",
       "        vertical-align: middle;\n",
       "    }\n",
       "\n",
       "    .dataframe tbody tr th {\n",
       "        vertical-align: top;\n",
       "    }\n",
       "\n",
       "    .dataframe thead th {\n",
       "        text-align: right;\n",
       "    }\n",
       "</style>\n",
       "<table border=\"1\" class=\"dataframe\">\n",
       "  <thead>\n",
       "    <tr style=\"text-align: right;\">\n",
       "      <th></th>\n",
       "      <th>pay_2</th>\n",
       "    </tr>\n",
       "    <tr>\n",
       "      <th>pay_2</th>\n",
       "      <th></th>\n",
       "    </tr>\n",
       "  </thead>\n",
       "  <tbody>\n",
       "    <tr>\n",
       "      <th>-2.0</th>\n",
       "      <td>352</td>\n",
       "    </tr>\n",
       "    <tr>\n",
       "      <th>-1.0</th>\n",
       "      <td>580</td>\n",
       "    </tr>\n",
       "    <tr>\n",
       "      <th>0.0</th>\n",
       "      <td>1607</td>\n",
       "    </tr>\n",
       "    <tr>\n",
       "      <th>1.0</th>\n",
       "      <td>4</td>\n",
       "    </tr>\n",
       "    <tr>\n",
       "      <th>2.0</th>\n",
       "      <td>374</td>\n",
       "    </tr>\n",
       "    <tr>\n",
       "      <th>3.0</th>\n",
       "      <td>32</td>\n",
       "    </tr>\n",
       "    <tr>\n",
       "      <th>4.0</th>\n",
       "      <td>8</td>\n",
       "    </tr>\n",
       "    <tr>\n",
       "      <th>5.0</th>\n",
       "      <td>2</td>\n",
       "    </tr>\n",
       "    <tr>\n",
       "      <th>6.0</th>\n",
       "      <td>2</td>\n",
       "    </tr>\n",
       "    <tr>\n",
       "      <th>7.0</th>\n",
       "      <td>3</td>\n",
       "    </tr>\n",
       "  </tbody>\n",
       "</table>\n",
       "</div>"
      ],
      "text/plain": [
       "       pay_2\n",
       "pay_2       \n",
       "-2.0     352\n",
       "-1.0     580\n",
       " 0.0    1607\n",
       " 1.0       4\n",
       " 2.0     374\n",
       " 3.0      32\n",
       " 4.0       8\n",
       " 5.0       2\n",
       " 6.0       2\n",
       " 7.0       3"
      ]
     },
     "execution_count": 18,
     "metadata": {},
     "output_type": "execute_result"
    }
   ],
   "source": [
    "df.groupby('pay_2')[['pay_2']].agg('count')"
   ]
  },
  {
   "cell_type": "code",
   "execution_count": 19,
   "metadata": {},
   "outputs": [
    {
     "data": {
      "text/html": [
       "<div>\n",
       "<style scoped>\n",
       "    .dataframe tbody tr th:only-of-type {\n",
       "        vertical-align: middle;\n",
       "    }\n",
       "\n",
       "    .dataframe tbody tr th {\n",
       "        vertical-align: top;\n",
       "    }\n",
       "\n",
       "    .dataframe thead th {\n",
       "        text-align: right;\n",
       "    }\n",
       "</style>\n",
       "<table border=\"1\" class=\"dataframe\">\n",
       "  <thead>\n",
       "    <tr style=\"text-align: right;\">\n",
       "      <th></th>\n",
       "      <th>pay_3</th>\n",
       "    </tr>\n",
       "    <tr>\n",
       "      <th>pay_3</th>\n",
       "      <th></th>\n",
       "    </tr>\n",
       "  </thead>\n",
       "  <tbody>\n",
       "    <tr>\n",
       "      <th>-2.0</th>\n",
       "      <td>366</td>\n",
       "    </tr>\n",
       "    <tr>\n",
       "      <th>-1.0</th>\n",
       "      <td>580</td>\n",
       "    </tr>\n",
       "    <tr>\n",
       "      <th>0.0</th>\n",
       "      <td>1610</td>\n",
       "    </tr>\n",
       "    <tr>\n",
       "      <th>2.0</th>\n",
       "      <td>368</td>\n",
       "    </tr>\n",
       "    <tr>\n",
       "      <th>3.0</th>\n",
       "      <td>22</td>\n",
       "    </tr>\n",
       "    <tr>\n",
       "      <th>4.0</th>\n",
       "      <td>8</td>\n",
       "    </tr>\n",
       "    <tr>\n",
       "      <th>5.0</th>\n",
       "      <td>3</td>\n",
       "    </tr>\n",
       "    <tr>\n",
       "      <th>6.0</th>\n",
       "      <td>4</td>\n",
       "    </tr>\n",
       "    <tr>\n",
       "      <th>7.0</th>\n",
       "      <td>3</td>\n",
       "    </tr>\n",
       "  </tbody>\n",
       "</table>\n",
       "</div>"
      ],
      "text/plain": [
       "       pay_3\n",
       "pay_3       \n",
       "-2.0     366\n",
       "-1.0     580\n",
       " 0.0    1610\n",
       " 2.0     368\n",
       " 3.0      22\n",
       " 4.0       8\n",
       " 5.0       3\n",
       " 6.0       4\n",
       " 7.0       3"
      ]
     },
     "execution_count": 19,
     "metadata": {},
     "output_type": "execute_result"
    }
   ],
   "source": [
    "df.groupby('pay_3')[['pay_3']].agg('count')"
   ]
  },
  {
   "cell_type": "code",
   "execution_count": 20,
   "metadata": {},
   "outputs": [
    {
     "data": {
      "text/html": [
       "<div>\n",
       "<style scoped>\n",
       "    .dataframe tbody tr th:only-of-type {\n",
       "        vertical-align: middle;\n",
       "    }\n",
       "\n",
       "    .dataframe tbody tr th {\n",
       "        vertical-align: top;\n",
       "    }\n",
       "\n",
       "    .dataframe thead th {\n",
       "        text-align: right;\n",
       "    }\n",
       "</style>\n",
       "<table border=\"1\" class=\"dataframe\">\n",
       "  <thead>\n",
       "    <tr style=\"text-align: right;\">\n",
       "      <th></th>\n",
       "      <th>pay_4</th>\n",
       "    </tr>\n",
       "    <tr>\n",
       "      <th>pay_4</th>\n",
       "      <th></th>\n",
       "    </tr>\n",
       "  </thead>\n",
       "  <tbody>\n",
       "    <tr>\n",
       "      <th>-2.0</th>\n",
       "      <td>407</td>\n",
       "    </tr>\n",
       "    <tr>\n",
       "      <th>-1.0</th>\n",
       "      <td>532</td>\n",
       "    </tr>\n",
       "    <tr>\n",
       "      <th>0.0</th>\n",
       "      <td>1667</td>\n",
       "    </tr>\n",
       "    <tr>\n",
       "      <th>2.0</th>\n",
       "      <td>324</td>\n",
       "    </tr>\n",
       "    <tr>\n",
       "      <th>3.0</th>\n",
       "      <td>14</td>\n",
       "    </tr>\n",
       "    <tr>\n",
       "      <th>4.0</th>\n",
       "      <td>7</td>\n",
       "    </tr>\n",
       "    <tr>\n",
       "      <th>5.0</th>\n",
       "      <td>5</td>\n",
       "    </tr>\n",
       "    <tr>\n",
       "      <th>6.0</th>\n",
       "      <td>1</td>\n",
       "    </tr>\n",
       "    <tr>\n",
       "      <th>7.0</th>\n",
       "      <td>6</td>\n",
       "    </tr>\n",
       "    <tr>\n",
       "      <th>8.0</th>\n",
       "      <td>1</td>\n",
       "    </tr>\n",
       "  </tbody>\n",
       "</table>\n",
       "</div>"
      ],
      "text/plain": [
       "       pay_4\n",
       "pay_4       \n",
       "-2.0     407\n",
       "-1.0     532\n",
       " 0.0    1667\n",
       " 2.0     324\n",
       " 3.0      14\n",
       " 4.0       7\n",
       " 5.0       5\n",
       " 6.0       1\n",
       " 7.0       6\n",
       " 8.0       1"
      ]
     },
     "execution_count": 20,
     "metadata": {},
     "output_type": "execute_result"
    }
   ],
   "source": [
    "df.groupby('pay_4')[['pay_4']].agg('count')"
   ]
  },
  {
   "cell_type": "code",
   "execution_count": 21,
   "metadata": {},
   "outputs": [
    {
     "data": {
      "text/html": [
       "<div>\n",
       "<style scoped>\n",
       "    .dataframe tbody tr th:only-of-type {\n",
       "        vertical-align: middle;\n",
       "    }\n",
       "\n",
       "    .dataframe tbody tr th {\n",
       "        vertical-align: top;\n",
       "    }\n",
       "\n",
       "    .dataframe thead th {\n",
       "        text-align: right;\n",
       "    }\n",
       "</style>\n",
       "<table border=\"1\" class=\"dataframe\">\n",
       "  <thead>\n",
       "    <tr style=\"text-align: right;\">\n",
       "      <th></th>\n",
       "      <th>pay_5</th>\n",
       "    </tr>\n",
       "    <tr>\n",
       "      <th>pay_5</th>\n",
       "      <th></th>\n",
       "    </tr>\n",
       "  </thead>\n",
       "  <tbody>\n",
       "    <tr>\n",
       "      <th>-2.0</th>\n",
       "      <td>440</td>\n",
       "    </tr>\n",
       "    <tr>\n",
       "      <th>-1.0</th>\n",
       "      <td>504</td>\n",
       "    </tr>\n",
       "    <tr>\n",
       "      <th>0.0</th>\n",
       "      <td>1702</td>\n",
       "    </tr>\n",
       "    <tr>\n",
       "      <th>2.0</th>\n",
       "      <td>280</td>\n",
       "    </tr>\n",
       "    <tr>\n",
       "      <th>3.0</th>\n",
       "      <td>19</td>\n",
       "    </tr>\n",
       "    <tr>\n",
       "      <th>4.0</th>\n",
       "      <td>9</td>\n",
       "    </tr>\n",
       "    <tr>\n",
       "      <th>5.0</th>\n",
       "      <td>2</td>\n",
       "    </tr>\n",
       "    <tr>\n",
       "      <th>6.0</th>\n",
       "      <td>1</td>\n",
       "    </tr>\n",
       "    <tr>\n",
       "      <th>7.0</th>\n",
       "      <td>7</td>\n",
       "    </tr>\n",
       "  </tbody>\n",
       "</table>\n",
       "</div>"
      ],
      "text/plain": [
       "       pay_5\n",
       "pay_5       \n",
       "-2.0     440\n",
       "-1.0     504\n",
       " 0.0    1702\n",
       " 2.0     280\n",
       " 3.0      19\n",
       " 4.0       9\n",
       " 5.0       2\n",
       " 6.0       1\n",
       " 7.0       7"
      ]
     },
     "execution_count": 21,
     "metadata": {},
     "output_type": "execute_result"
    }
   ],
   "source": [
    "df.groupby('pay_5')[['pay_5']].agg('count')"
   ]
  },
  {
   "cell_type": "code",
   "execution_count": 22,
   "metadata": {},
   "outputs": [
    {
     "data": {
      "text/html": [
       "<div>\n",
       "<style scoped>\n",
       "    .dataframe tbody tr th:only-of-type {\n",
       "        vertical-align: middle;\n",
       "    }\n",
       "\n",
       "    .dataframe tbody tr th {\n",
       "        vertical-align: top;\n",
       "    }\n",
       "\n",
       "    .dataframe thead th {\n",
       "        text-align: right;\n",
       "    }\n",
       "</style>\n",
       "<table border=\"1\" class=\"dataframe\">\n",
       "  <thead>\n",
       "    <tr style=\"text-align: right;\">\n",
       "      <th></th>\n",
       "      <th>pay_6</th>\n",
       "    </tr>\n",
       "    <tr>\n",
       "      <th>pay_6</th>\n",
       "      <th></th>\n",
       "    </tr>\n",
       "  </thead>\n",
       "  <tbody>\n",
       "    <tr>\n",
       "      <th>-2.0</th>\n",
       "      <td>469</td>\n",
       "    </tr>\n",
       "    <tr>\n",
       "      <th>-1.0</th>\n",
       "      <td>540</td>\n",
       "    </tr>\n",
       "    <tr>\n",
       "      <th>0.0</th>\n",
       "      <td>1626</td>\n",
       "    </tr>\n",
       "    <tr>\n",
       "      <th>2.0</th>\n",
       "      <td>297</td>\n",
       "    </tr>\n",
       "    <tr>\n",
       "      <th>3.0</th>\n",
       "      <td>21</td>\n",
       "    </tr>\n",
       "    <tr>\n",
       "      <th>4.0</th>\n",
       "      <td>2</td>\n",
       "    </tr>\n",
       "    <tr>\n",
       "      <th>6.0</th>\n",
       "      <td>3</td>\n",
       "    </tr>\n",
       "    <tr>\n",
       "      <th>7.0</th>\n",
       "      <td>6</td>\n",
       "    </tr>\n",
       "  </tbody>\n",
       "</table>\n",
       "</div>"
      ],
      "text/plain": [
       "       pay_6\n",
       "pay_6       \n",
       "-2.0     469\n",
       "-1.0     540\n",
       " 0.0    1626\n",
       " 2.0     297\n",
       " 3.0      21\n",
       " 4.0       2\n",
       " 6.0       3\n",
       " 7.0       6"
      ]
     },
     "execution_count": 22,
     "metadata": {},
     "output_type": "execute_result"
    }
   ],
   "source": [
    "df.groupby('pay_6')[['pay_6']].agg('count')"
   ]
  },
  {
   "attachments": {},
   "cell_type": "markdown",
   "metadata": {},
   "source": [
    "Above, we can see the count for each month payment status of customers. All the data showed that majority of our customers are paying on time (status (-2) - 0) but few of them are late (status 1 - 8)."
   ]
  },
  {
   "attachments": {},
   "cell_type": "markdown",
   "metadata": {},
   "source": [
    "## Limit Balance"
   ]
  },
  {
   "attachments": {},
   "cell_type": "markdown",
   "metadata": {},
   "source": [
    "The next feature we want to explore is the limit balance column. First, we want to look at the statistical overview of this column."
   ]
  },
  {
   "cell_type": "code",
   "execution_count": 23,
   "metadata": {},
   "outputs": [
    {
     "data": {
      "text/plain": [
       "count      2964.000000\n",
       "mean     163356.950067\n",
       "std      125049.701016\n",
       "min       10000.000000\n",
       "25%       50000.000000\n",
       "50%      140000.000000\n",
       "75%      230000.000000\n",
       "max      800000.000000\n",
       "Name: limit_balance, dtype: float64"
      ]
     },
     "execution_count": 23,
     "metadata": {},
     "output_type": "execute_result"
    }
   ],
   "source": [
    "df['limit_balance'].describe()"
   ]
  },
  {
   "attachments": {},
   "cell_type": "markdown",
   "metadata": {},
   "source": [
    "Here, we can see that the max value of our data is far above the median. From this overview, we can say that our data is not normally distributed. But, we will plot the histrogram and calculate the skewness of this column."
   ]
  },
  {
   "cell_type": "code",
   "execution_count": 24,
   "metadata": {},
   "outputs": [
    {
     "data": {
      "text/plain": [
       "1.0006047564306488"
      ]
     },
     "execution_count": 24,
     "metadata": {},
     "output_type": "execute_result"
    },
    {
     "data": {
      "image/png": "[encoded data removed]",
      "text/plain": [
       "<Figure size 640x480 with 1 Axes>"
      ]
     },
     "metadata": {},
     "output_type": "display_data"
    }
   ],
   "source": [
    "sns.histplot(df['limit_balance']);\n",
    "df['limit_balance'].skew()"
   ]
  },
  {
   "attachments": {},
   "cell_type": "markdown",
   "metadata": {},
   "source": [
    "If we look at the histogram we can say that this column data is right skewed. We can see the skewness of this column data is 1.0, which is moderately skewed. This skewness and distribution will determine how we will handle the outliers of this column. Since the skewness is higher than 0.5 we will handle the outliers using IQR method later on the outliers handling section."
   ]
  },
  {
   "attachments": {},
   "cell_type": "markdown",
   "metadata": {},
   "source": [
    "## Default Payment Next Month"
   ]
  },
  {
   "attachments": {},
   "cell_type": "markdown",
   "metadata": {},
   "source": [
    "We already explored all the features that will be used. Now, we want to explore the target column. First, we will look at the unique value."
   ]
  },
  {
   "cell_type": "code",
   "execution_count": 25,
   "metadata": {},
   "outputs": [
    {
     "data": {
      "text/plain": [
       "array([0, 1], dtype=int64)"
      ]
     },
     "execution_count": 25,
     "metadata": {},
     "output_type": "execute_result"
    }
   ],
   "source": [
    "df['default_payment_next_month'].unique()"
   ]
  },
  {
   "attachments": {},
   "cell_type": "markdown",
   "metadata": {},
   "source": [
    "Since the unique values are only 2, we can say that this column is categorical column. Next, we want to know the value count on each unique value."
   ]
  },
  {
   "cell_type": "code",
   "execution_count": 26,
   "metadata": {},
   "outputs": [
    {
     "data": {
      "text/plain": [
       "default_payment_next_month\n",
       "0    2329\n",
       "1     635\n",
       "dtype: int64"
      ]
     },
     "execution_count": 26,
     "metadata": {},
     "output_type": "execute_result"
    }
   ],
   "source": [
    "df.groupby('default_payment_next_month')[['default_payment_next_month']].value_counts()"
   ]
  },
  {
   "cell_type": "code",
   "execution_count": 27,
   "metadata": {},
   "outputs": [
    {
     "data": {
      "image/png": "[encoded data removed]",
      "text/plain": [
       "<Figure size 640x480 with 1 Axes>"
      ]
     },
     "metadata": {},
     "output_type": "display_data"
    }
   ],
   "source": [
    "df.groupby('default_payment_next_month')[['default_payment_next_month']].value_counts().plot(kind='bar');"
   ]
  },
  {
   "cell_type": "code",
   "execution_count": 28,
   "metadata": {},
   "outputs": [
    {
     "name": "stdout",
     "output_type": "stream",
     "text": [
      "percentage of target yes/(1) : 21.42 %\n"
     ]
    }
   ],
   "source": [
    "per_min = (635/(2329+635))*100\n",
    "print(f'percentage of target yes/(1) : {round(per_min,2)} %')"
   ]
  },
  {
   "attachments": {},
   "cell_type": "markdown",
   "metadata": {},
   "source": [
    "Here, we can see that the 0 value is higher than 1 value. On the dataset description we know that 0 means no and 1 means yes. So, the value count is understandable that the 0 values is much higher than the 1 values since most of the customers are not defaulting on the credit card payment. In this data we only have 21% of target with yes value/(1)."
   ]
  },
  {
   "attachments": {},
   "cell_type": "markdown",
   "metadata": {},
   "source": [
    "But, this data shows that we have an imbalanced target. This kind of data is challenging for us to create an optimal model. The results of and imbalanced data usually is low recall on the minority target (in this case, yes/'1'). "
   ]
  },
  {
   "cell_type": "markdown",
   "metadata": {
    "id": "HRIo5JZ-v1M6"
   },
   "source": [
    "# 5 - Data Preprocessing"
   ]
  },
  {
   "attachments": {},
   "cell_type": "markdown",
   "metadata": {},
   "source": [
    "## Feature Selection"
   ]
  },
  {
   "attachments": {},
   "cell_type": "markdown",
   "metadata": {},
   "source": [
    "Feature selection for this model is based on the phik correlation that was calculated on EDA section. That calculation resulting in us using only 7 features and 1 target. These columns are 'limit_balance', 'pay_0', 'pay_2', 'pay_3', 'pay_4', 'pay_5', 'pay_6', and target column 'default_payment_next_month'."
   ]
  },
  {
   "cell_type": "code",
   "execution_count": 29,
   "metadata": {
    "colab": {
     "base_uri": "https://localhost:8080/",
     "height": 540
    },
    "id": "HC56TAHzyZqf",
    "outputId": "c9ca2207-0197-47f8-f703-8c796040c6dd"
   },
   "outputs": [
    {
     "data": {
      "text/html": [
       "<div>\n",
       "<style scoped>\n",
       "    .dataframe tbody tr th:only-of-type {\n",
       "        vertical-align: middle;\n",
       "    }\n",
       "\n",
       "    .dataframe tbody tr th {\n",
       "        vertical-align: top;\n",
       "    }\n",
       "\n",
       "    .dataframe thead th {\n",
       "        text-align: right;\n",
       "    }\n",
       "</style>\n",
       "<table border=\"1\" class=\"dataframe\">\n",
       "  <thead>\n",
       "    <tr style=\"text-align: right;\">\n",
       "      <th></th>\n",
       "      <th>limit_balance</th>\n",
       "      <th>pay_0</th>\n",
       "      <th>pay_2</th>\n",
       "      <th>pay_3</th>\n",
       "      <th>pay_4</th>\n",
       "      <th>pay_5</th>\n",
       "      <th>pay_6</th>\n",
       "      <th>default_payment_next_month</th>\n",
       "    </tr>\n",
       "  </thead>\n",
       "  <tbody>\n",
       "    <tr>\n",
       "      <th>0</th>\n",
       "      <td>130000.0</td>\n",
       "      <td>0.0</td>\n",
       "      <td>0.0</td>\n",
       "      <td>0.0</td>\n",
       "      <td>0.0</td>\n",
       "      <td>0.0</td>\n",
       "      <td>0.0</td>\n",
       "      <td>0</td>\n",
       "    </tr>\n",
       "    <tr>\n",
       "      <th>1</th>\n",
       "      <td>230000.0</td>\n",
       "      <td>0.0</td>\n",
       "      <td>0.0</td>\n",
       "      <td>0.0</td>\n",
       "      <td>0.0</td>\n",
       "      <td>0.0</td>\n",
       "      <td>0.0</td>\n",
       "      <td>1</td>\n",
       "    </tr>\n",
       "    <tr>\n",
       "      <th>2</th>\n",
       "      <td>200000.0</td>\n",
       "      <td>0.0</td>\n",
       "      <td>0.0</td>\n",
       "      <td>0.0</td>\n",
       "      <td>0.0</td>\n",
       "      <td>0.0</td>\n",
       "      <td>0.0</td>\n",
       "      <td>0</td>\n",
       "    </tr>\n",
       "    <tr>\n",
       "      <th>3</th>\n",
       "      <td>500000.0</td>\n",
       "      <td>0.0</td>\n",
       "      <td>0.0</td>\n",
       "      <td>0.0</td>\n",
       "      <td>0.0</td>\n",
       "      <td>0.0</td>\n",
       "      <td>0.0</td>\n",
       "      <td>0</td>\n",
       "    </tr>\n",
       "    <tr>\n",
       "      <th>4</th>\n",
       "      <td>230000.0</td>\n",
       "      <td>0.0</td>\n",
       "      <td>0.0</td>\n",
       "      <td>0.0</td>\n",
       "      <td>0.0</td>\n",
       "      <td>0.0</td>\n",
       "      <td>0.0</td>\n",
       "      <td>0</td>\n",
       "    </tr>\n",
       "    <tr>\n",
       "      <th>...</th>\n",
       "      <td>...</td>\n",
       "      <td>...</td>\n",
       "      <td>...</td>\n",
       "      <td>...</td>\n",
       "      <td>...</td>\n",
       "      <td>...</td>\n",
       "      <td>...</td>\n",
       "      <td>...</td>\n",
       "    </tr>\n",
       "    <tr>\n",
       "      <th>2959</th>\n",
       "      <td>30000.0</td>\n",
       "      <td>-1.0</td>\n",
       "      <td>-1.0</td>\n",
       "      <td>2.0</td>\n",
       "      <td>-1.0</td>\n",
       "      <td>-1.0</td>\n",
       "      <td>-2.0</td>\n",
       "      <td>1</td>\n",
       "    </tr>\n",
       "    <tr>\n",
       "      <th>2960</th>\n",
       "      <td>20000.0</td>\n",
       "      <td>-1.0</td>\n",
       "      <td>-1.0</td>\n",
       "      <td>-1.0</td>\n",
       "      <td>-1.0</td>\n",
       "      <td>-1.0</td>\n",
       "      <td>-2.0</td>\n",
       "      <td>0</td>\n",
       "    </tr>\n",
       "    <tr>\n",
       "      <th>2961</th>\n",
       "      <td>280000.0</td>\n",
       "      <td>-1.0</td>\n",
       "      <td>-1.0</td>\n",
       "      <td>-1.0</td>\n",
       "      <td>-1.0</td>\n",
       "      <td>-2.0</td>\n",
       "      <td>-2.0</td>\n",
       "      <td>0</td>\n",
       "    </tr>\n",
       "    <tr>\n",
       "      <th>2962</th>\n",
       "      <td>360000.0</td>\n",
       "      <td>-1.0</td>\n",
       "      <td>-1.0</td>\n",
       "      <td>-1.0</td>\n",
       "      <td>-1.0</td>\n",
       "      <td>-2.0</td>\n",
       "      <td>-2.0</td>\n",
       "      <td>0</td>\n",
       "    </tr>\n",
       "    <tr>\n",
       "      <th>2963</th>\n",
       "      <td>100000.0</td>\n",
       "      <td>-1.0</td>\n",
       "      <td>-1.0</td>\n",
       "      <td>-1.0</td>\n",
       "      <td>-1.0</td>\n",
       "      <td>-2.0</td>\n",
       "      <td>-2.0</td>\n",
       "      <td>0</td>\n",
       "    </tr>\n",
       "  </tbody>\n",
       "</table>\n",
       "<p>2964 rows × 8 columns</p>\n",
       "</div>"
      ],
      "text/plain": [
       "      limit_balance  pay_0  pay_2  pay_3  pay_4  pay_5  pay_6  \\\n",
       "0          130000.0    0.0    0.0    0.0    0.0    0.0    0.0   \n",
       "1          230000.0    0.0    0.0    0.0    0.0    0.0    0.0   \n",
       "2          200000.0    0.0    0.0    0.0    0.0    0.0    0.0   \n",
       "3          500000.0    0.0    0.0    0.0    0.0    0.0    0.0   \n",
       "4          230000.0    0.0    0.0    0.0    0.0    0.0    0.0   \n",
       "...             ...    ...    ...    ...    ...    ...    ...   \n",
       "2959        30000.0   -1.0   -1.0    2.0   -1.0   -1.0   -2.0   \n",
       "2960        20000.0   -1.0   -1.0   -1.0   -1.0   -1.0   -2.0   \n",
       "2961       280000.0   -1.0   -1.0   -1.0   -1.0   -2.0   -2.0   \n",
       "2962       360000.0   -1.0   -1.0   -1.0   -1.0   -2.0   -2.0   \n",
       "2963       100000.0   -1.0   -1.0   -1.0   -1.0   -2.0   -2.0   \n",
       "\n",
       "      default_payment_next_month  \n",
       "0                              0  \n",
       "1                              1  \n",
       "2                              0  \n",
       "3                              0  \n",
       "4                              0  \n",
       "...                          ...  \n",
       "2959                           1  \n",
       "2960                           0  \n",
       "2961                           0  \n",
       "2962                           0  \n",
       "2963                           0  \n",
       "\n",
       "[2964 rows x 8 columns]"
      ]
     },
     "execution_count": 29,
     "metadata": {},
     "output_type": "execute_result"
    }
   ],
   "source": [
    "# New dataframe variable for modelling\n",
    "\n",
    "data_train_test = df[['limit_balance','pay_0', 'pay_2', 'pay_3', 'pay_4', 'pay_5', 'pay_6','default_payment_next_month']]\n",
    "data_train_test"
   ]
  },
  {
   "cell_type": "markdown",
   "metadata": {
    "id": "Skv54voXziM6"
   },
   "source": [
    "## Splitting Dataset"
   ]
  },
  {
   "attachments": {},
   "cell_type": "markdown",
   "metadata": {},
   "source": [
    "Next step is splitting the dataset into X (features) and y (target)."
   ]
  },
  {
   "cell_type": "code",
   "execution_count": 30,
   "metadata": {
    "colab": {
     "base_uri": "https://localhost:8080/",
     "height": 540
    },
    "id": "pinpK-olzkIu",
    "outputId": "443f16ad-d10f-4b22-b3bd-b71ef2392f6a"
   },
   "outputs": [
    {
     "data": {
      "text/html": [
       "<div>\n",
       "<style scoped>\n",
       "    .dataframe tbody tr th:only-of-type {\n",
       "        vertical-align: middle;\n",
       "    }\n",
       "\n",
       "    .dataframe tbody tr th {\n",
       "        vertical-align: top;\n",
       "    }\n",
       "\n",
       "    .dataframe thead th {\n",
       "        text-align: right;\n",
       "    }\n",
       "</style>\n",
       "<table border=\"1\" class=\"dataframe\">\n",
       "  <thead>\n",
       "    <tr style=\"text-align: right;\">\n",
       "      <th></th>\n",
       "      <th>limit_balance</th>\n",
       "      <th>pay_0</th>\n",
       "      <th>pay_2</th>\n",
       "      <th>pay_3</th>\n",
       "      <th>pay_4</th>\n",
       "      <th>pay_5</th>\n",
       "      <th>pay_6</th>\n",
       "    </tr>\n",
       "  </thead>\n",
       "  <tbody>\n",
       "    <tr>\n",
       "      <th>0</th>\n",
       "      <td>130000.0</td>\n",
       "      <td>0.0</td>\n",
       "      <td>0.0</td>\n",
       "      <td>0.0</td>\n",
       "      <td>0.0</td>\n",
       "      <td>0.0</td>\n",
       "      <td>0.0</td>\n",
       "    </tr>\n",
       "    <tr>\n",
       "      <th>1</th>\n",
       "      <td>230000.0</td>\n",
       "      <td>0.0</td>\n",
       "      <td>0.0</td>\n",
       "      <td>0.0</td>\n",
       "      <td>0.0</td>\n",
       "      <td>0.0</td>\n",
       "      <td>0.0</td>\n",
       "    </tr>\n",
       "    <tr>\n",
       "      <th>2</th>\n",
       "      <td>200000.0</td>\n",
       "      <td>0.0</td>\n",
       "      <td>0.0</td>\n",
       "      <td>0.0</td>\n",
       "      <td>0.0</td>\n",
       "      <td>0.0</td>\n",
       "      <td>0.0</td>\n",
       "    </tr>\n",
       "    <tr>\n",
       "      <th>3</th>\n",
       "      <td>500000.0</td>\n",
       "      <td>0.0</td>\n",
       "      <td>0.0</td>\n",
       "      <td>0.0</td>\n",
       "      <td>0.0</td>\n",
       "      <td>0.0</td>\n",
       "      <td>0.0</td>\n",
       "    </tr>\n",
       "    <tr>\n",
       "      <th>4</th>\n",
       "      <td>230000.0</td>\n",
       "      <td>0.0</td>\n",
       "      <td>0.0</td>\n",
       "      <td>0.0</td>\n",
       "      <td>0.0</td>\n",
       "      <td>0.0</td>\n",
       "      <td>0.0</td>\n",
       "    </tr>\n",
       "    <tr>\n",
       "      <th>...</th>\n",
       "      <td>...</td>\n",
       "      <td>...</td>\n",
       "      <td>...</td>\n",
       "      <td>...</td>\n",
       "      <td>...</td>\n",
       "      <td>...</td>\n",
       "      <td>...</td>\n",
       "    </tr>\n",
       "    <tr>\n",
       "      <th>2959</th>\n",
       "      <td>30000.0</td>\n",
       "      <td>-1.0</td>\n",
       "      <td>-1.0</td>\n",
       "      <td>2.0</td>\n",
       "      <td>-1.0</td>\n",
       "      <td>-1.0</td>\n",
       "      <td>-2.0</td>\n",
       "    </tr>\n",
       "    <tr>\n",
       "      <th>2960</th>\n",
       "      <td>20000.0</td>\n",
       "      <td>-1.0</td>\n",
       "      <td>-1.0</td>\n",
       "      <td>-1.0</td>\n",
       "      <td>-1.0</td>\n",
       "      <td>-1.0</td>\n",
       "      <td>-2.0</td>\n",
       "    </tr>\n",
       "    <tr>\n",
       "      <th>2961</th>\n",
       "      <td>280000.0</td>\n",
       "      <td>-1.0</td>\n",
       "      <td>-1.0</td>\n",
       "      <td>-1.0</td>\n",
       "      <td>-1.0</td>\n",
       "      <td>-2.0</td>\n",
       "      <td>-2.0</td>\n",
       "    </tr>\n",
       "    <tr>\n",
       "      <th>2962</th>\n",
       "      <td>360000.0</td>\n",
       "      <td>-1.0</td>\n",
       "      <td>-1.0</td>\n",
       "      <td>-1.0</td>\n",
       "      <td>-1.0</td>\n",
       "      <td>-2.0</td>\n",
       "      <td>-2.0</td>\n",
       "    </tr>\n",
       "    <tr>\n",
       "      <th>2963</th>\n",
       "      <td>100000.0</td>\n",
       "      <td>-1.0</td>\n",
       "      <td>-1.0</td>\n",
       "      <td>-1.0</td>\n",
       "      <td>-1.0</td>\n",
       "      <td>-2.0</td>\n",
       "      <td>-2.0</td>\n",
       "    </tr>\n",
       "  </tbody>\n",
       "</table>\n",
       "<p>2964 rows × 7 columns</p>\n",
       "</div>"
      ],
      "text/plain": [
       "      limit_balance  pay_0  pay_2  pay_3  pay_4  pay_5  pay_6\n",
       "0          130000.0    0.0    0.0    0.0    0.0    0.0    0.0\n",
       "1          230000.0    0.0    0.0    0.0    0.0    0.0    0.0\n",
       "2          200000.0    0.0    0.0    0.0    0.0    0.0    0.0\n",
       "3          500000.0    0.0    0.0    0.0    0.0    0.0    0.0\n",
       "4          230000.0    0.0    0.0    0.0    0.0    0.0    0.0\n",
       "...             ...    ...    ...    ...    ...    ...    ...\n",
       "2959        30000.0   -1.0   -1.0    2.0   -1.0   -1.0   -2.0\n",
       "2960        20000.0   -1.0   -1.0   -1.0   -1.0   -1.0   -2.0\n",
       "2961       280000.0   -1.0   -1.0   -1.0   -1.0   -2.0   -2.0\n",
       "2962       360000.0   -1.0   -1.0   -1.0   -1.0   -2.0   -2.0\n",
       "2963       100000.0   -1.0   -1.0   -1.0   -1.0   -2.0   -2.0\n",
       "\n",
       "[2964 rows x 7 columns]"
      ]
     },
     "execution_count": 30,
     "metadata": {},
     "output_type": "execute_result"
    }
   ],
   "source": [
    "# Split between `X` (Features) and `y` (Target)\n",
    "\n",
    "X = data_train_test.drop('default_payment_next_month', axis=1)\n",
    "y = data_train_test['default_payment_next_month']\n",
    "X"
   ]
  },
  {
   "attachments": {},
   "cell_type": "markdown",
   "metadata": {},
   "source": [
    "Next, we want to split each X and y data into train and test data. We set the train data 80% from data total so we have enough data for model training."
   ]
  },
  {
   "cell_type": "code",
   "execution_count": 31,
   "metadata": {},
   "outputs": [
    {
     "name": "stdout",
     "output_type": "stream",
     "text": [
      "Train Size :  (2371, 7)\n",
      "Test Size  :  (593, 7)\n"
     ]
    }
   ],
   "source": [
    "# Split between Train-Set and Test-Set\n",
    "# Stratify y to balance the target value in each split\n",
    "\n",
    "X_train, X_test, y_train, y_test = train_test_split(X, y, test_size=0.2, stratify=y, random_state=69)\n",
    "\n",
    "print('Train Size : ', X_train.shape)\n",
    "print('Test Size  : ', X_test.shape)"
   ]
  },
  {
   "attachments": {},
   "cell_type": "markdown",
   "metadata": {},
   "source": [
    "Now that we have split the data into x_train, x_test, y_train, and y_test, we can proceed to the next section, handling outlier."
   ]
  },
  {
   "cell_type": "markdown",
   "metadata": {
    "id": "Ld3liX4qz-WY"
   },
   "source": [
    "## Handling Outlier"
   ]
  },
  {
   "attachments": {},
   "cell_type": "markdown",
   "metadata": {},
   "source": [
    "In this section we will handle the outliers in our data. All the features column is already numerical value, but the payment status columns are considered categorical value. So, the column that outliers will be handled in this section is only one, that is the limit balance column."
   ]
  },
  {
   "cell_type": "code",
   "execution_count": 32,
   "metadata": {},
   "outputs": [
    {
     "data": {
      "text/plain": [
       "1.0"
      ]
     },
     "execution_count": 32,
     "metadata": {},
     "output_type": "execute_result"
    },
    {
     "data": {
      "image/png": "[encoded data removed]",
      "text/plain": [
       "<Figure size 1500x500 with 2 Axes>"
      ]
     },
     "metadata": {},
     "output_type": "display_data"
    }
   ],
   "source": [
    "plt.figure(figsize=(15,5))\n",
    "plt.subplot(1,2,1)\n",
    "sns.histplot(X_train['limit_balance'], bins=30,kde=True)\n",
    "plt.title('Histogram of Limit Balance')\n",
    "\n",
    "plt.subplot(1,2,2)\n",
    "sns.boxplot(X_train['limit_balance'])\n",
    "plt.title('Boxplot of Limit Balance');\n",
    "\n",
    "df['limit_balance'].skew().round(2)"
   ]
  },
  {
   "attachments": {},
   "cell_type": "markdown",
   "metadata": {},
   "source": [
    "We can see the distribution of this column is right skewed with 1.0 skewness. This number tells us that our data is moderately skewed. This can also be seen in our boxplot. We can see that there are some outliers in our limit balance column. Next, we want to check how many outliers in the column."
   ]
  },
  {
   "cell_type": "code",
   "execution_count": 33,
   "metadata": {},
   "outputs": [
    {
     "name": "stdout",
     "output_type": "stream",
     "text": [
      "Min: 10000.000\n",
      "Q1: 50000.000\n",
      "Median: 140000.000\n",
      "Q3: 230000.000\n",
      "Max: 800000.000\n"
     ]
    }
   ],
   "source": [
    "# Calculate quartiles\n",
    "quartiles = percentile(X_train['limit_balance'], [25, 50, 75])\n",
    "# Calculate min/max\n",
    "fav_min, fav_max = X_train['limit_balance'].min(), X_train['limit_balance'].max()\n",
    "\n",
    "q1 = quartiles[0]\n",
    "q2 = quartiles[1] # median\n",
    "q3 = quartiles[2]\n",
    "\n",
    "# Print 5-number summary\n",
    "print('Min: %.3f' % fav_min)\n",
    "print('Q1: %.3f' % q1)\n",
    "print('Median: %.3f' % q2)\n",
    "print('Q3: %.3f' % q3)\n",
    "print('Max: %.3f' % fav_max)"
   ]
  },
  {
   "cell_type": "code",
   "execution_count": 34,
   "metadata": {},
   "outputs": [
    {
     "name": "stdout",
     "output_type": "stream",
     "text": [
      "IQR =  180000.0\n",
      "Upper Boundary =  500000.0\n",
      "Lower Boundary =  -220000.0\n"
     ]
    }
   ],
   "source": [
    "# IQR = Q3 - Q1\n",
    "iqr = q3 - q1\n",
    "\n",
    "# Upper boundaries = Q3 + 1.5*IQR         \n",
    "up_bound = q3 + 1.5*iqr               # skewness = 1.0 use 1.5 as IQR factor for boundary\n",
    "\n",
    "# Lower boundaries = Q1 - 1.5*IQR\n",
    "lo_bound = q1 - 1.5*iqr\n",
    "\n",
    "print('IQR = ', iqr)\n",
    "print('Upper Boundary = ', up_bound)\n",
    "print('Lower Boundary = ', lo_bound)"
   ]
  },
  {
   "attachments": {},
   "cell_type": "markdown",
   "metadata": {},
   "source": [
    "After calculating the upper boundary of our data, we will check how many data is outside of our boundary limit."
   ]
  },
  {
   "cell_type": "code",
   "execution_count": 35,
   "metadata": {},
   "outputs": [
    {
     "data": {
      "text/html": [
       "<div>\n",
       "<style scoped>\n",
       "    .dataframe tbody tr th:only-of-type {\n",
       "        vertical-align: middle;\n",
       "    }\n",
       "\n",
       "    .dataframe tbody tr th {\n",
       "        vertical-align: top;\n",
       "    }\n",
       "\n",
       "    .dataframe thead th {\n",
       "        text-align: right;\n",
       "    }\n",
       "</style>\n",
       "<table border=\"1\" class=\"dataframe\">\n",
       "  <thead>\n",
       "    <tr style=\"text-align: right;\">\n",
       "      <th></th>\n",
       "      <th>limit_balance</th>\n",
       "      <th>pay_0</th>\n",
       "      <th>pay_2</th>\n",
       "      <th>pay_3</th>\n",
       "      <th>pay_4</th>\n",
       "      <th>pay_5</th>\n",
       "      <th>pay_6</th>\n",
       "    </tr>\n",
       "  </thead>\n",
       "  <tbody>\n",
       "    <tr>\n",
       "      <th>933</th>\n",
       "      <td>510000.0</td>\n",
       "      <td>0.0</td>\n",
       "      <td>0.0</td>\n",
       "      <td>0.0</td>\n",
       "      <td>0.0</td>\n",
       "      <td>0.0</td>\n",
       "      <td>0.0</td>\n",
       "    </tr>\n",
       "    <tr>\n",
       "      <th>523</th>\n",
       "      <td>700000.0</td>\n",
       "      <td>0.0</td>\n",
       "      <td>0.0</td>\n",
       "      <td>0.0</td>\n",
       "      <td>0.0</td>\n",
       "      <td>0.0</td>\n",
       "      <td>0.0</td>\n",
       "    </tr>\n",
       "    <tr>\n",
       "      <th>923</th>\n",
       "      <td>680000.0</td>\n",
       "      <td>0.0</td>\n",
       "      <td>0.0</td>\n",
       "      <td>0.0</td>\n",
       "      <td>0.0</td>\n",
       "      <td>0.0</td>\n",
       "      <td>0.0</td>\n",
       "    </tr>\n",
       "    <tr>\n",
       "      <th>2590</th>\n",
       "      <td>800000.0</td>\n",
       "      <td>-1.0</td>\n",
       "      <td>-1.0</td>\n",
       "      <td>-1.0</td>\n",
       "      <td>0.0</td>\n",
       "      <td>0.0</td>\n",
       "      <td>-1.0</td>\n",
       "    </tr>\n",
       "    <tr>\n",
       "      <th>1780</th>\n",
       "      <td>530000.0</td>\n",
       "      <td>-2.0</td>\n",
       "      <td>-2.0</td>\n",
       "      <td>-1.0</td>\n",
       "      <td>0.0</td>\n",
       "      <td>0.0</td>\n",
       "      <td>0.0</td>\n",
       "    </tr>\n",
       "    <tr>\n",
       "      <th>1794</th>\n",
       "      <td>530000.0</td>\n",
       "      <td>-2.0</td>\n",
       "      <td>-2.0</td>\n",
       "      <td>-2.0</td>\n",
       "      <td>-2.0</td>\n",
       "      <td>-1.0</td>\n",
       "      <td>0.0</td>\n",
       "    </tr>\n",
       "    <tr>\n",
       "      <th>734</th>\n",
       "      <td>560000.0</td>\n",
       "      <td>0.0</td>\n",
       "      <td>0.0</td>\n",
       "      <td>0.0</td>\n",
       "      <td>0.0</td>\n",
       "      <td>0.0</td>\n",
       "      <td>0.0</td>\n",
       "    </tr>\n",
       "    <tr>\n",
       "      <th>606</th>\n",
       "      <td>530000.0</td>\n",
       "      <td>0.0</td>\n",
       "      <td>0.0</td>\n",
       "      <td>0.0</td>\n",
       "      <td>0.0</td>\n",
       "      <td>0.0</td>\n",
       "      <td>0.0</td>\n",
       "    </tr>\n",
       "    <tr>\n",
       "      <th>446</th>\n",
       "      <td>510000.0</td>\n",
       "      <td>0.0</td>\n",
       "      <td>0.0</td>\n",
       "      <td>2.0</td>\n",
       "      <td>0.0</td>\n",
       "      <td>0.0</td>\n",
       "      <td>0.0</td>\n",
       "    </tr>\n",
       "    <tr>\n",
       "      <th>2845</th>\n",
       "      <td>620000.0</td>\n",
       "      <td>-1.0</td>\n",
       "      <td>-1.0</td>\n",
       "      <td>-1.0</td>\n",
       "      <td>-1.0</td>\n",
       "      <td>-1.0</td>\n",
       "      <td>-1.0</td>\n",
       "    </tr>\n",
       "    <tr>\n",
       "      <th>1329</th>\n",
       "      <td>750000.0</td>\n",
       "      <td>0.0</td>\n",
       "      <td>0.0</td>\n",
       "      <td>0.0</td>\n",
       "      <td>0.0</td>\n",
       "      <td>-1.0</td>\n",
       "      <td>-1.0</td>\n",
       "    </tr>\n",
       "    <tr>\n",
       "      <th>1121</th>\n",
       "      <td>510000.0</td>\n",
       "      <td>0.0</td>\n",
       "      <td>0.0</td>\n",
       "      <td>0.0</td>\n",
       "      <td>2.0</td>\n",
       "      <td>0.0</td>\n",
       "      <td>0.0</td>\n",
       "    </tr>\n",
       "  </tbody>\n",
       "</table>\n",
       "</div>"
      ],
      "text/plain": [
       "      limit_balance  pay_0  pay_2  pay_3  pay_4  pay_5  pay_6\n",
       "933        510000.0    0.0    0.0    0.0    0.0    0.0    0.0\n",
       "523        700000.0    0.0    0.0    0.0    0.0    0.0    0.0\n",
       "923        680000.0    0.0    0.0    0.0    0.0    0.0    0.0\n",
       "2590       800000.0   -1.0   -1.0   -1.0    0.0    0.0   -1.0\n",
       "1780       530000.0   -2.0   -2.0   -1.0    0.0    0.0    0.0\n",
       "1794       530000.0   -2.0   -2.0   -2.0   -2.0   -1.0    0.0\n",
       "734        560000.0    0.0    0.0    0.0    0.0    0.0    0.0\n",
       "606        530000.0    0.0    0.0    0.0    0.0    0.0    0.0\n",
       "446        510000.0    0.0    0.0    2.0    0.0    0.0    0.0\n",
       "2845       620000.0   -1.0   -1.0   -1.0   -1.0   -1.0   -1.0\n",
       "1329       750000.0    0.0    0.0    0.0    0.0   -1.0   -1.0\n",
       "1121       510000.0    0.0    0.0    0.0    2.0    0.0    0.0"
      ]
     },
     "execution_count": 35,
     "metadata": {},
     "output_type": "execute_result"
    }
   ],
   "source": [
    "lb_outliers = X_train[(X_train['limit_balance'] > 500000.0) | \n",
    "                      (X_train['limit_balance'] < -220000.0)]\n",
    "lb_outliers"
   ]
  },
  {
   "attachments": {},
   "cell_type": "markdown",
   "metadata": {},
   "source": [
    "We have 12 data that is considered outliers. Now we want to know this number compared to our total train data."
   ]
  },
  {
   "cell_type": "code",
   "execution_count": 36,
   "metadata": {},
   "outputs": [
    {
     "name": "stdout",
     "output_type": "stream",
     "text": [
      "outliers percentage : 0.51 %\n"
     ]
    }
   ],
   "source": [
    "print(f'outliers percentage : {round(len(lb_outliers)/len(X_train) * 100,2)} %')"
   ]
  },
  {
   "attachments": {},
   "cell_type": "markdown",
   "metadata": {},
   "source": [
    "It is only 0.5 percent of all our X train data. So, it is safe to remove the outliers entries."
   ]
  },
  {
   "cell_type": "code",
   "execution_count": 37,
   "metadata": {},
   "outputs": [],
   "source": [
    "# Dropping outliers index from x train and y train variable\n",
    "\n",
    "X_train.drop(index=lb_outliers.index,inplace=True)\n",
    "y_train.drop(index=lb_outliers.index,inplace=True)"
   ]
  },
  {
   "cell_type": "code",
   "execution_count": 38,
   "metadata": {},
   "outputs": [
    {
     "name": "stdout",
     "output_type": "stream",
     "text": [
      "X train length : 2359\n",
      "y train length : 2359\n"
     ]
    }
   ],
   "source": [
    "print(f'X train length : {len(X_train)}')\n",
    "print(f'y train length : {len(y_train)}')"
   ]
  },
  {
   "attachments": {},
   "cell_type": "markdown",
   "metadata": {},
   "source": [
    "Now, both our X and y train data have the same amount of data so we can continue our process."
   ]
  },
  {
   "cell_type": "markdown",
   "metadata": {
    "id": "38_NeI6F1sUa"
   },
   "source": [
    "## Handling Missing Values"
   ]
  },
  {
   "attachments": {},
   "cell_type": "markdown",
   "metadata": {},
   "source": [
    "Next, we will check whether there are missing values in our data."
   ]
  },
  {
   "cell_type": "code",
   "execution_count": 39,
   "metadata": {
    "colab": {
     "base_uri": "https://localhost:8080/"
    },
    "id": "9aogBe_e2ACe",
    "outputId": "4e2fc0c8-3887-481a-9780-8161234f9001"
   },
   "outputs": [
    {
     "data": {
      "text/plain": [
       "limit_balance    0\n",
       "pay_0            0\n",
       "pay_2            0\n",
       "pay_3            0\n",
       "pay_4            0\n",
       "pay_5            0\n",
       "pay_6            0\n",
       "dtype: int64"
      ]
     },
     "execution_count": 39,
     "metadata": {},
     "output_type": "execute_result"
    }
   ],
   "source": [
    "# Check Missing Values on X_train\n",
    "\n",
    "X_train.isnull().sum()"
   ]
  },
  {
   "cell_type": "code",
   "execution_count": 40,
   "metadata": {
    "colab": {
     "base_uri": "https://localhost:8080/"
    },
    "id": "Tjs7dPQ92IjL",
    "outputId": "4584d9dc-50bc-48df-9e77-bed1825082b0"
   },
   "outputs": [
    {
     "data": {
      "text/plain": [
       "0"
      ]
     },
     "execution_count": 40,
     "metadata": {},
     "output_type": "execute_result"
    }
   ],
   "source": [
    "# Check Missing Values on y_train\n",
    "\n",
    "y_train.isnull().sum()"
   ]
  },
  {
   "cell_type": "code",
   "execution_count": 41,
   "metadata": {
    "colab": {
     "base_uri": "https://localhost:8080/"
    },
    "id": "EvVrbzSZ2Q_Z",
    "outputId": "1e238e2b-3a77-48b0-f197-fd0f87482bc9"
   },
   "outputs": [
    {
     "data": {
      "text/plain": [
       "limit_balance    0\n",
       "pay_0            0\n",
       "pay_2            0\n",
       "pay_3            0\n",
       "pay_4            0\n",
       "pay_5            0\n",
       "pay_6            0\n",
       "dtype: int64"
      ]
     },
     "execution_count": 41,
     "metadata": {},
     "output_type": "execute_result"
    }
   ],
   "source": [
    "# Check Missing Values on X_test\n",
    "\n",
    "X_test.isnull().sum()"
   ]
  },
  {
   "cell_type": "code",
   "execution_count": 42,
   "metadata": {
    "colab": {
     "base_uri": "https://localhost:8080/"
    },
    "id": "imevQoo92VhC",
    "outputId": "b2f0d892-3df4-42d4-ba74-9f44ba2e762e"
   },
   "outputs": [
    {
     "data": {
      "text/plain": [
       "0"
      ]
     },
     "execution_count": 42,
     "metadata": {},
     "output_type": "execute_result"
    }
   ],
   "source": [
    "# Check Missing Values on y_test\n",
    "\n",
    "y_test.isnull().sum()"
   ]
  },
  {
   "attachments": {},
   "cell_type": "markdown",
   "metadata": {},
   "source": [
    "From here, we know that there are no missing values in our data. So, we can continue to the next section Splitting the Data."
   ]
  },
  {
   "cell_type": "markdown",
   "metadata": {
    "id": "lYmslA4r40s3"
   },
   "source": [
    "## Split between Numerical Columns and Categorical Columns"
   ]
  },
  {
   "attachments": {},
   "cell_type": "markdown",
   "metadata": {},
   "source": [
    "Next, we split the data into numerical and categorical columns."
   ]
  },
  {
   "cell_type": "code",
   "execution_count": 43,
   "metadata": {},
   "outputs": [
    {
     "name": "stdout",
     "output_type": "stream",
     "text": [
      "Numerical Columns :  ['limit_balance']\n",
      "Categorical Columns :  ['pay_0', 'pay_2', 'pay_3', 'pay_4', 'pay_5', 'pay_6']\n"
     ]
    }
   ],
   "source": [
    "# Get Numerical Columns and Categorical Columns\n",
    "\n",
    "num_columns = ['limit_balance']\n",
    "cat_columns = ['pay_0', 'pay_2', 'pay_3', 'pay_4', 'pay_5', 'pay_6']\n",
    "\n",
    "print('Numerical Columns : ', num_columns)\n",
    "print('Categorical Columns : ', cat_columns)"
   ]
  },
  {
   "attachments": {},
   "cell_type": "markdown",
   "metadata": {},
   "source": [
    "Next, we split the train and test data based on column types."
   ]
  },
  {
   "cell_type": "code",
   "execution_count": 44,
   "metadata": {},
   "outputs": [],
   "source": [
    "# Split Train-Set and Test-Set based on Column Types\n",
    "\n",
    "X_train_num = X_train[num_columns]\n",
    "X_train_cat = X_train[cat_columns]\n",
    "\n",
    "X_test_num = X_test[num_columns]\n",
    "X_test_cat = X_test[cat_columns]"
   ]
  },
  {
   "attachments": {},
   "cell_type": "markdown",
   "metadata": {},
   "source": [
    "Now that we have split the train-test data based on column type, we can continue to the next section, Feature Scaling and Encoding."
   ]
  },
  {
   "attachments": {},
   "cell_type": "markdown",
   "metadata": {},
   "source": [
    "## Feature Scaling"
   ]
  },
  {
   "attachments": {},
   "cell_type": "markdown",
   "metadata": {},
   "source": [
    "First, we want to see the x train data with numerical columns."
   ]
  },
  {
   "cell_type": "code",
   "execution_count": 45,
   "metadata": {},
   "outputs": [
    {
     "data": {
      "text/html": [
       "<div>\n",
       "<style scoped>\n",
       "    .dataframe tbody tr th:only-of-type {\n",
       "        vertical-align: middle;\n",
       "    }\n",
       "\n",
       "    .dataframe tbody tr th {\n",
       "        vertical-align: top;\n",
       "    }\n",
       "\n",
       "    .dataframe thead th {\n",
       "        text-align: right;\n",
       "    }\n",
       "</style>\n",
       "<table border=\"1\" class=\"dataframe\">\n",
       "  <thead>\n",
       "    <tr style=\"text-align: right;\">\n",
       "      <th></th>\n",
       "      <th>limit_balance</th>\n",
       "    </tr>\n",
       "  </thead>\n",
       "  <tbody>\n",
       "    <tr>\n",
       "      <th>996</th>\n",
       "      <td>50000.0</td>\n",
       "    </tr>\n",
       "    <tr>\n",
       "      <th>1572</th>\n",
       "      <td>30000.0</td>\n",
       "    </tr>\n",
       "    <tr>\n",
       "      <th>859</th>\n",
       "      <td>50000.0</td>\n",
       "    </tr>\n",
       "    <tr>\n",
       "      <th>2424</th>\n",
       "      <td>200000.0</td>\n",
       "    </tr>\n",
       "    <tr>\n",
       "      <th>1029</th>\n",
       "      <td>150000.0</td>\n",
       "    </tr>\n",
       "    <tr>\n",
       "      <th>...</th>\n",
       "      <td>...</td>\n",
       "    </tr>\n",
       "    <tr>\n",
       "      <th>1130</th>\n",
       "      <td>110000.0</td>\n",
       "    </tr>\n",
       "    <tr>\n",
       "      <th>1856</th>\n",
       "      <td>360000.0</td>\n",
       "    </tr>\n",
       "    <tr>\n",
       "      <th>459</th>\n",
       "      <td>50000.0</td>\n",
       "    </tr>\n",
       "    <tr>\n",
       "      <th>2262</th>\n",
       "      <td>110000.0</td>\n",
       "    </tr>\n",
       "    <tr>\n",
       "      <th>2812</th>\n",
       "      <td>330000.0</td>\n",
       "    </tr>\n",
       "  </tbody>\n",
       "</table>\n",
       "<p>2359 rows × 1 columns</p>\n",
       "</div>"
      ],
      "text/plain": [
       "      limit_balance\n",
       "996         50000.0\n",
       "1572        30000.0\n",
       "859         50000.0\n",
       "2424       200000.0\n",
       "1029       150000.0\n",
       "...             ...\n",
       "1130       110000.0\n",
       "1856       360000.0\n",
       "459         50000.0\n",
       "2262       110000.0\n",
       "2812       330000.0\n",
       "\n",
       "[2359 rows x 1 columns]"
      ]
     },
     "execution_count": 45,
     "metadata": {},
     "output_type": "execute_result"
    }
   ],
   "source": [
    "# Display X_train_num\n",
    "\n",
    "X_train_num"
   ]
  },
  {
   "cell_type": "code",
   "execution_count": 46,
   "metadata": {},
   "outputs": [
    {
     "data": {
      "text/plain": [
       "0.894407045712482"
      ]
     },
     "execution_count": 46,
     "metadata": {},
     "output_type": "execute_result"
    }
   ],
   "source": [
    "X_train['limit_balance'].skew()"
   ]
  },
  {
   "attachments": {},
   "cell_type": "markdown",
   "metadata": {},
   "source": [
    "There is only one column, the limit balance column. For the scaling, we will choose the MinMaxScaler method because the data is not normaly distributed."
   ]
  },
  {
   "cell_type": "code",
   "execution_count": 47,
   "metadata": {},
   "outputs": [
    {
     "data": {
      "text/plain": [
       "array([[0.08163265],\n",
       "       [0.04081633],\n",
       "       [0.08163265],\n",
       "       ...,\n",
       "       [0.08163265],\n",
       "       [0.20408163],\n",
       "       [0.65306122]])"
      ]
     },
     "execution_count": 47,
     "metadata": {},
     "output_type": "execute_result"
    }
   ],
   "source": [
    "# Scaling numerical features inside data train and test\n",
    "\n",
    "scaler = MinMaxScaler()     # using min max scaler because of the distribution of data is not really normal\n",
    "scaler.fit(X_train_num)     # fitting scaler on our data\n",
    "\n",
    "X_train_num_scaled = scaler.transform(X_train_num)     # transforming x train numerical data\n",
    "X_test_num_scaled = scaler.transform(X_test_num)       # transforming x test numerical data\n",
    "\n",
    "X_train_num_scaled"
   ]
  },
  {
   "attachments": {},
   "cell_type": "markdown",
   "metadata": {},
   "source": [
    "We now have the value for scaled num columns. Now, we can proceed to encoding categorical columns."
   ]
  },
  {
   "cell_type": "markdown",
   "metadata": {
    "id": "0odKc7md9CmE"
   },
   "source": [
    "## Feature Encoding"
   ]
  },
  {
   "cell_type": "code",
   "execution_count": 48,
   "metadata": {},
   "outputs": [
    {
     "data": {
      "text/html": [
       "<div>\n",
       "<style scoped>\n",
       "    .dataframe tbody tr th:only-of-type {\n",
       "        vertical-align: middle;\n",
       "    }\n",
       "\n",
       "    .dataframe tbody tr th {\n",
       "        vertical-align: top;\n",
       "    }\n",
       "\n",
       "    .dataframe thead th {\n",
       "        text-align: right;\n",
       "    }\n",
       "</style>\n",
       "<table border=\"1\" class=\"dataframe\">\n",
       "  <thead>\n",
       "    <tr style=\"text-align: right;\">\n",
       "      <th></th>\n",
       "      <th>pay_0</th>\n",
       "      <th>pay_2</th>\n",
       "      <th>pay_3</th>\n",
       "      <th>pay_4</th>\n",
       "      <th>pay_5</th>\n",
       "      <th>pay_6</th>\n",
       "    </tr>\n",
       "  </thead>\n",
       "  <tbody>\n",
       "    <tr>\n",
       "      <th>996</th>\n",
       "      <td>0.0</td>\n",
       "      <td>0.0</td>\n",
       "      <td>2.0</td>\n",
       "      <td>0.0</td>\n",
       "      <td>0.0</td>\n",
       "      <td>0.0</td>\n",
       "    </tr>\n",
       "    <tr>\n",
       "      <th>1572</th>\n",
       "      <td>2.0</td>\n",
       "      <td>2.0</td>\n",
       "      <td>0.0</td>\n",
       "      <td>0.0</td>\n",
       "      <td>0.0</td>\n",
       "      <td>0.0</td>\n",
       "    </tr>\n",
       "    <tr>\n",
       "      <th>859</th>\n",
       "      <td>0.0</td>\n",
       "      <td>0.0</td>\n",
       "      <td>0.0</td>\n",
       "      <td>0.0</td>\n",
       "      <td>0.0</td>\n",
       "      <td>0.0</td>\n",
       "    </tr>\n",
       "    <tr>\n",
       "      <th>2424</th>\n",
       "      <td>-1.0</td>\n",
       "      <td>0.0</td>\n",
       "      <td>0.0</td>\n",
       "      <td>0.0</td>\n",
       "      <td>0.0</td>\n",
       "      <td>0.0</td>\n",
       "    </tr>\n",
       "    <tr>\n",
       "      <th>1029</th>\n",
       "      <td>0.0</td>\n",
       "      <td>0.0</td>\n",
       "      <td>0.0</td>\n",
       "      <td>0.0</td>\n",
       "      <td>0.0</td>\n",
       "      <td>0.0</td>\n",
       "    </tr>\n",
       "    <tr>\n",
       "      <th>...</th>\n",
       "      <td>...</td>\n",
       "      <td>...</td>\n",
       "      <td>...</td>\n",
       "      <td>...</td>\n",
       "      <td>...</td>\n",
       "      <td>...</td>\n",
       "    </tr>\n",
       "    <tr>\n",
       "      <th>1130</th>\n",
       "      <td>0.0</td>\n",
       "      <td>0.0</td>\n",
       "      <td>0.0</td>\n",
       "      <td>2.0</td>\n",
       "      <td>0.0</td>\n",
       "      <td>0.0</td>\n",
       "    </tr>\n",
       "    <tr>\n",
       "      <th>1856</th>\n",
       "      <td>-2.0</td>\n",
       "      <td>-2.0</td>\n",
       "      <td>-2.0</td>\n",
       "      <td>-2.0</td>\n",
       "      <td>-2.0</td>\n",
       "      <td>-2.0</td>\n",
       "    </tr>\n",
       "    <tr>\n",
       "      <th>459</th>\n",
       "      <td>0.0</td>\n",
       "      <td>0.0</td>\n",
       "      <td>2.0</td>\n",
       "      <td>0.0</td>\n",
       "      <td>0.0</td>\n",
       "      <td>0.0</td>\n",
       "    </tr>\n",
       "    <tr>\n",
       "      <th>2262</th>\n",
       "      <td>1.0</td>\n",
       "      <td>-2.0</td>\n",
       "      <td>-1.0</td>\n",
       "      <td>0.0</td>\n",
       "      <td>-1.0</td>\n",
       "      <td>-1.0</td>\n",
       "    </tr>\n",
       "    <tr>\n",
       "      <th>2812</th>\n",
       "      <td>-1.0</td>\n",
       "      <td>-1.0</td>\n",
       "      <td>-1.0</td>\n",
       "      <td>-1.0</td>\n",
       "      <td>-1.0</td>\n",
       "      <td>-1.0</td>\n",
       "    </tr>\n",
       "  </tbody>\n",
       "</table>\n",
       "<p>2359 rows × 6 columns</p>\n",
       "</div>"
      ],
      "text/plain": [
       "      pay_0  pay_2  pay_3  pay_4  pay_5  pay_6\n",
       "996     0.0    0.0    2.0    0.0    0.0    0.0\n",
       "1572    2.0    2.0    0.0    0.0    0.0    0.0\n",
       "859     0.0    0.0    0.0    0.0    0.0    0.0\n",
       "2424   -1.0    0.0    0.0    0.0    0.0    0.0\n",
       "1029    0.0    0.0    0.0    0.0    0.0    0.0\n",
       "...     ...    ...    ...    ...    ...    ...\n",
       "1130    0.0    0.0    0.0    2.0    0.0    0.0\n",
       "1856   -2.0   -2.0   -2.0   -2.0   -2.0   -2.0\n",
       "459     0.0    0.0    2.0    0.0    0.0    0.0\n",
       "2262    1.0   -2.0   -1.0    0.0   -1.0   -1.0\n",
       "2812   -1.0   -1.0   -1.0   -1.0   -1.0   -1.0\n",
       "\n",
       "[2359 rows x 6 columns]"
      ]
     },
     "execution_count": 48,
     "metadata": {},
     "output_type": "execute_result"
    }
   ],
   "source": [
    "# Showing categorical columns\n",
    "\n",
    "X_train_cat"
   ]
  },
  {
   "attachments": {},
   "cell_type": "markdown",
   "metadata": {},
   "source": [
    "All our categorical columns are already encoded, so we will not do feature encoding in this notebook."
   ]
  },
  {
   "attachments": {},
   "cell_type": "markdown",
   "metadata": {},
   "source": [
    "## Concate between Numerical Columns and Categorical Columns"
   ]
  },
  {
   "attachments": {},
   "cell_type": "markdown",
   "metadata": {},
   "source": [
    "Now that we have encoded and scaled each column in our data, we want to concate both of them to have them in the same table variable."
   ]
  },
  {
   "cell_type": "code",
   "execution_count": 49,
   "metadata": {},
   "outputs": [
    {
     "data": {
      "text/plain": [
       "array([[ 0.08163265,  0.        ,  0.        , ...,  0.        ,\n",
       "         0.        ,  0.        ],\n",
       "       [ 0.04081633,  2.        ,  2.        , ...,  0.        ,\n",
       "         0.        ,  0.        ],\n",
       "       [ 0.08163265,  0.        ,  0.        , ...,  0.        ,\n",
       "         0.        ,  0.        ],\n",
       "       ...,\n",
       "       [ 0.08163265,  0.        ,  0.        , ...,  0.        ,\n",
       "         0.        ,  0.        ],\n",
       "       [ 0.20408163,  1.        , -2.        , ...,  0.        ,\n",
       "        -1.        , -1.        ],\n",
       "       [ 0.65306122, -1.        , -1.        , ..., -1.        ,\n",
       "        -1.        , -1.        ]])"
      ]
     },
     "execution_count": 49,
     "metadata": {},
     "output_type": "execute_result"
    }
   ],
   "source": [
    "# Concate Columns\n",
    "\n",
    "X_train_final = np.concatenate([X_train_num_scaled, X_train_cat], axis=1)\n",
    "X_test_final = np.concatenate([X_test_num_scaled, X_test_cat], axis=1)\n",
    "\n",
    "X_train_final"
   ]
  },
  {
   "attachments": {},
   "cell_type": "markdown",
   "metadata": {},
   "source": [
    "Next, we want to know what columns exist in our new data."
   ]
  },
  {
   "cell_type": "code",
   "execution_count": 50,
   "metadata": {},
   "outputs": [
    {
     "data": {
      "text/plain": [
       "['limit_balance']"
      ]
     },
     "execution_count": 50,
     "metadata": {},
     "output_type": "execute_result"
    }
   ],
   "source": [
    "num_columns"
   ]
  },
  {
   "cell_type": "code",
   "execution_count": 51,
   "metadata": {},
   "outputs": [
    {
     "data": {
      "text/plain": [
       "['pay_0', 'pay_2', 'pay_3', 'pay_4', 'pay_5', 'pay_6']"
      ]
     },
     "execution_count": 51,
     "metadata": {},
     "output_type": "execute_result"
    }
   ],
   "source": [
    "cat_columns"
   ]
  },
  {
   "attachments": {},
   "cell_type": "markdown",
   "metadata": {},
   "source": [
    "Finalize the x train dataframe."
   ]
  },
  {
   "cell_type": "code",
   "execution_count": 52,
   "metadata": {},
   "outputs": [
    {
     "data": {
      "text/html": [
       "<div>\n",
       "<style scoped>\n",
       "    .dataframe tbody tr th:only-of-type {\n",
       "        vertical-align: middle;\n",
       "    }\n",
       "\n",
       "    .dataframe tbody tr th {\n",
       "        vertical-align: top;\n",
       "    }\n",
       "\n",
       "    .dataframe thead tr th {\n",
       "        text-align: left;\n",
       "    }\n",
       "</style>\n",
       "<table border=\"1\" class=\"dataframe\">\n",
       "  <thead>\n",
       "    <tr>\n",
       "      <th></th>\n",
       "      <th>limit_balance</th>\n",
       "      <th>pay_0</th>\n",
       "      <th>pay_2</th>\n",
       "      <th>pay_3</th>\n",
       "      <th>pay_4</th>\n",
       "      <th>pay_5</th>\n",
       "      <th>pay_6</th>\n",
       "    </tr>\n",
       "  </thead>\n",
       "  <tbody>\n",
       "    <tr>\n",
       "      <th>0</th>\n",
       "      <td>0.081633</td>\n",
       "      <td>0.0</td>\n",
       "      <td>0.0</td>\n",
       "      <td>2.0</td>\n",
       "      <td>0.0</td>\n",
       "      <td>0.0</td>\n",
       "      <td>0.0</td>\n",
       "    </tr>\n",
       "    <tr>\n",
       "      <th>1</th>\n",
       "      <td>0.040816</td>\n",
       "      <td>2.0</td>\n",
       "      <td>2.0</td>\n",
       "      <td>0.0</td>\n",
       "      <td>0.0</td>\n",
       "      <td>0.0</td>\n",
       "      <td>0.0</td>\n",
       "    </tr>\n",
       "    <tr>\n",
       "      <th>2</th>\n",
       "      <td>0.081633</td>\n",
       "      <td>0.0</td>\n",
       "      <td>0.0</td>\n",
       "      <td>0.0</td>\n",
       "      <td>0.0</td>\n",
       "      <td>0.0</td>\n",
       "      <td>0.0</td>\n",
       "    </tr>\n",
       "    <tr>\n",
       "      <th>3</th>\n",
       "      <td>0.387755</td>\n",
       "      <td>-1.0</td>\n",
       "      <td>0.0</td>\n",
       "      <td>0.0</td>\n",
       "      <td>0.0</td>\n",
       "      <td>0.0</td>\n",
       "      <td>0.0</td>\n",
       "    </tr>\n",
       "    <tr>\n",
       "      <th>4</th>\n",
       "      <td>0.285714</td>\n",
       "      <td>0.0</td>\n",
       "      <td>0.0</td>\n",
       "      <td>0.0</td>\n",
       "      <td>0.0</td>\n",
       "      <td>0.0</td>\n",
       "      <td>0.0</td>\n",
       "    </tr>\n",
       "    <tr>\n",
       "      <th>...</th>\n",
       "      <td>...</td>\n",
       "      <td>...</td>\n",
       "      <td>...</td>\n",
       "      <td>...</td>\n",
       "      <td>...</td>\n",
       "      <td>...</td>\n",
       "      <td>...</td>\n",
       "    </tr>\n",
       "    <tr>\n",
       "      <th>2354</th>\n",
       "      <td>0.204082</td>\n",
       "      <td>0.0</td>\n",
       "      <td>0.0</td>\n",
       "      <td>0.0</td>\n",
       "      <td>2.0</td>\n",
       "      <td>0.0</td>\n",
       "      <td>0.0</td>\n",
       "    </tr>\n",
       "    <tr>\n",
       "      <th>2355</th>\n",
       "      <td>0.714286</td>\n",
       "      <td>-2.0</td>\n",
       "      <td>-2.0</td>\n",
       "      <td>-2.0</td>\n",
       "      <td>-2.0</td>\n",
       "      <td>-2.0</td>\n",
       "      <td>-2.0</td>\n",
       "    </tr>\n",
       "    <tr>\n",
       "      <th>2356</th>\n",
       "      <td>0.081633</td>\n",
       "      <td>0.0</td>\n",
       "      <td>0.0</td>\n",
       "      <td>2.0</td>\n",
       "      <td>0.0</td>\n",
       "      <td>0.0</td>\n",
       "      <td>0.0</td>\n",
       "    </tr>\n",
       "    <tr>\n",
       "      <th>2357</th>\n",
       "      <td>0.204082</td>\n",
       "      <td>1.0</td>\n",
       "      <td>-2.0</td>\n",
       "      <td>-1.0</td>\n",
       "      <td>0.0</td>\n",
       "      <td>-1.0</td>\n",
       "      <td>-1.0</td>\n",
       "    </tr>\n",
       "    <tr>\n",
       "      <th>2358</th>\n",
       "      <td>0.653061</td>\n",
       "      <td>-1.0</td>\n",
       "      <td>-1.0</td>\n",
       "      <td>-1.0</td>\n",
       "      <td>-1.0</td>\n",
       "      <td>-1.0</td>\n",
       "      <td>-1.0</td>\n",
       "    </tr>\n",
       "  </tbody>\n",
       "</table>\n",
       "<p>2359 rows × 7 columns</p>\n",
       "</div>"
      ],
      "text/plain": [
       "     limit_balance pay_0 pay_2 pay_3 pay_4 pay_5 pay_6\n",
       "0         0.081633   0.0   0.0   2.0   0.0   0.0   0.0\n",
       "1         0.040816   2.0   2.0   0.0   0.0   0.0   0.0\n",
       "2         0.081633   0.0   0.0   0.0   0.0   0.0   0.0\n",
       "3         0.387755  -1.0   0.0   0.0   0.0   0.0   0.0\n",
       "4         0.285714   0.0   0.0   0.0   0.0   0.0   0.0\n",
       "...            ...   ...   ...   ...   ...   ...   ...\n",
       "2354      0.204082   0.0   0.0   0.0   2.0   0.0   0.0\n",
       "2355      0.714286  -2.0  -2.0  -2.0  -2.0  -2.0  -2.0\n",
       "2356      0.081633   0.0   0.0   2.0   0.0   0.0   0.0\n",
       "2357      0.204082   1.0  -2.0  -1.0   0.0  -1.0  -1.0\n",
       "2358      0.653061  -1.0  -1.0  -1.0  -1.0  -1.0  -1.0\n",
       "\n",
       "[2359 rows x 7 columns]"
      ]
     },
     "execution_count": 52,
     "metadata": {},
     "output_type": "execute_result"
    }
   ],
   "source": [
    "# Display as DataFrame\n",
    "\n",
    "X_train_final_df = pd.DataFrame(X_train_final, columns=[num_columns+cat_columns])\n",
    "X_train_final_df"
   ]
  },
  {
   "attachments": {},
   "cell_type": "markdown",
   "metadata": {},
   "source": [
    "## VIF"
   ]
  },
  {
   "attachments": {},
   "cell_type": "markdown",
   "metadata": {},
   "source": [
    "Before we continue to model definition, we want to know if all the features selected don't have multi-colinearity. Since VIF can only be calculated for numerical columns, we calculate the vif after we have all our data ready for modelling (scaled and encoded). First we define a function for calculating each vif and putting it in a dataframe of vif. And then, we use the function to show the VIF value for each features."
   ]
  },
  {
   "cell_type": "code",
   "execution_count": 53,
   "metadata": {},
   "outputs": [],
   "source": [
    "def calc_vif(X):\n",
    "\n",
    "    # Calculating VIF\n",
    "    vif = pd.DataFrame()\n",
    "    vif[\"variables\"] = X.columns.to_list()\n",
    "    vif[\"VIF\"] = [variance_inflation_factor(X.values, i) for i in range(X.shape[1])]\n",
    "\n",
    "    return(vif)"
   ]
  },
  {
   "cell_type": "code",
   "execution_count": 54,
   "metadata": {},
   "outputs": [
    {
     "data": {
      "text/html": [
       "<div>\n",
       "<style scoped>\n",
       "    .dataframe tbody tr th:only-of-type {\n",
       "        vertical-align: middle;\n",
       "    }\n",
       "\n",
       "    .dataframe tbody tr th {\n",
       "        vertical-align: top;\n",
       "    }\n",
       "\n",
       "    .dataframe thead th {\n",
       "        text-align: right;\n",
       "    }\n",
       "</style>\n",
       "<table border=\"1\" class=\"dataframe\">\n",
       "  <thead>\n",
       "    <tr style=\"text-align: right;\">\n",
       "      <th></th>\n",
       "      <th>variables</th>\n",
       "      <th>VIF</th>\n",
       "    </tr>\n",
       "  </thead>\n",
       "  <tbody>\n",
       "    <tr>\n",
       "      <th>0</th>\n",
       "      <td>(limit_balance,)</td>\n",
       "      <td>1.138752</td>\n",
       "    </tr>\n",
       "    <tr>\n",
       "      <th>1</th>\n",
       "      <td>(pay_0,)</td>\n",
       "      <td>1.764513</td>\n",
       "    </tr>\n",
       "    <tr>\n",
       "      <th>2</th>\n",
       "      <td>(pay_2,)</td>\n",
       "      <td>3.066150</td>\n",
       "    </tr>\n",
       "    <tr>\n",
       "      <th>3</th>\n",
       "      <td>(pay_3,)</td>\n",
       "      <td>3.381535</td>\n",
       "    </tr>\n",
       "    <tr>\n",
       "      <th>4</th>\n",
       "      <td>(pay_4,)</td>\n",
       "      <td>4.230374</td>\n",
       "    </tr>\n",
       "    <tr>\n",
       "      <th>5</th>\n",
       "      <td>(pay_5,)</td>\n",
       "      <td>4.917432</td>\n",
       "    </tr>\n",
       "    <tr>\n",
       "      <th>6</th>\n",
       "      <td>(pay_6,)</td>\n",
       "      <td>3.370583</td>\n",
       "    </tr>\n",
       "  </tbody>\n",
       "</table>\n",
       "</div>"
      ],
      "text/plain": [
       "          variables       VIF\n",
       "0  (limit_balance,)  1.138752\n",
       "1          (pay_0,)  1.764513\n",
       "2          (pay_2,)  3.066150\n",
       "3          (pay_3,)  3.381535\n",
       "4          (pay_4,)  4.230374\n",
       "5          (pay_5,)  4.917432\n",
       "6          (pay_6,)  3.370583"
      ]
     },
     "execution_count": 54,
     "metadata": {},
     "output_type": "execute_result"
    }
   ],
   "source": [
    "calc_vif(X_train_final_df)"
   ]
  },
  {
   "attachments": {},
   "cell_type": "markdown",
   "metadata": {},
   "source": [
    "Here, we can see that all features have lower than 5 VIF value and we can say that our features doe't have multi-colinearity. Now that we have transformed the data and checked the multi colinearity, we can continue to our next section, Model Definition."
   ]
  },
  {
   "cell_type": "markdown",
   "metadata": {
    "id": "PeZTcBgy_mD8"
   },
   "source": [
    "# 6 - Model Definition"
   ]
  },
  {
   "attachments": {},
   "cell_type": "markdown",
   "metadata": {},
   "source": [
    "In this assignment, we will use baseline of 7 algorithm and will compare them using cross validation method. These algorithm are logistic regression, SVM classifier, Decision Tree classifier, Random Forest Classifier, KNN Classifier, Naive Bayes , and Adaboost Classifier. The metric that will be focused for comparing these models is Recall. Because ideally, we don't want any defaults to falls through the cracks, so our optimal model will minimize the False Negatives which means Recall score as high as possible."
   ]
  },
  {
   "cell_type": "code",
   "execution_count": 55,
   "metadata": {},
   "outputs": [],
   "source": [
    "\n",
    "# Defining Logistic Regression Model\n",
    "log_model = LogisticRegression()\n",
    "# Defining SVM Classifier Model\n",
    "svm_model = SVC()\n",
    "# Defining Decision Tree Classifier Model\n",
    "dt_model = DecisionTreeClassifier()\n",
    "# Defining Random Forest Classifier Model\n",
    "rf_model = RandomForestClassifier(random_state=69)\n",
    "# Defining KNN Classifier Model\n",
    "knn_model = KNeighborsClassifier()\n",
    "# Defining Naive Bayes Model\n",
    "nb_model = GaussianNB()\n",
    "# Defining AdaBoost Classifier Model\n",
    "ada_model = AdaBoostClassifier()"
   ]
  },
  {
   "attachments": {},
   "cell_type": "markdown",
   "metadata": {},
   "source": [
    "# 7 - Cross Validation"
   ]
  },
  {
   "attachments": {},
   "cell_type": "markdown",
   "metadata": {},
   "source": [
    "In this section we compare the 7 models using cross validation technique and find the best model with the highest recall score."
   ]
  },
  {
   "cell_type": "code",
   "execution_count": 56,
   "metadata": {},
   "outputs": [],
   "source": [
    "# Setting skfold value for cv number of splits \n",
    "skfold=StratifiedKFold(n_splits=10,random_state=93,shuffle=True)"
   ]
  },
  {
   "cell_type": "code",
   "execution_count": 57,
   "metadata": {},
   "outputs": [
    {
     "name": "stdout",
     "output_type": "stream",
     "text": [
      "log_model\n",
      "recall - All - Cross Validation  :  [0.         0.         0.39215686 0.         0.         0.\n",
      " 0.         0.         0.         0.        ]\n",
      "recall - Mean - Cross Validation :  0.0392156862745098\n",
      "recall - Std - Cross Validation  :  0.1176470588235294\n",
      "recall - Range of Test-Set       :  -0.07843137254901959 - 0.1568627450980392\n",
      "--------------------------------------------------\n",
      "svm_model\n",
      "recall - All - Cross Validation  :  [0. 0. 0. 0. 0. 0. 0. 0. 0. 0.]\n",
      "recall - Mean - Cross Validation :  0.0\n",
      "recall - Std - Cross Validation  :  0.0\n",
      "recall - Range of Test-Set       :  0.0 - 0.0\n",
      "--------------------------------------------------\n",
      "dt_model\n",
      "recall - All - Cross Validation  :  [0.44       0.33333333 0.29411765 0.2745098  0.52941176 0.2745098\n",
      " 0.47058824 0.37254902 0.31372549 0.4       ]\n",
      "recall - Mean - Cross Validation :  0.37027450980392157\n",
      "recall - Std - Cross Validation  :  0.0835715257914231\n",
      "recall - Range of Test-Set       :  0.2867029840124985 - 0.45384603559534464\n",
      "--------------------------------------------------\n",
      "rf_model\n",
      "recall - All - Cross Validation  :  [0.46       0.37254902 0.41176471 0.31372549 0.49019608 0.23529412\n",
      " 0.50980392 0.45098039 0.39215686 0.42      ]\n",
      "recall - Mean - Cross Validation :  0.4056470588235294\n",
      "recall - Std - Cross Validation  :  0.07873826233903503\n",
      "recall - Range of Test-Set       :  0.3269087964844944 - 0.48438532116256444\n",
      "--------------------------------------------------\n",
      "knn_model\n",
      "recall - All - Cross Validation  :  [0.24       0.33333333 0.37254902 0.25490196 0.21568627 0.23529412\n",
      " 0.35294118 0.25490196 0.23529412 0.3       ]\n",
      "recall - Mean - Cross Validation :  0.2794901960784314\n",
      "recall - Std - Cross Validation  :  0.05302913535466045\n",
      "recall - Range of Test-Set       :  0.22646106072377095 - 0.33251933143309187\n",
      "--------------------------------------------------\n",
      "nb_model\n",
      "recall - All - Cross Validation  :  [0.         0.03921569 0.01960784 0.         0.         0.01960784\n",
      " 0.         0.01960784 0.03921569 0.        ]\n",
      "recall - Mean - Cross Validation :  0.013725490196078433\n",
      "recall - Std - Cross Validation  :  0.015314215050797364\n",
      "recall - Range of Test-Set       :  -0.0015887248547189307 - 0.029039705246875797\n",
      "--------------------------------------------------\n",
      "ada_model\n",
      "recall - All - Cross Validation  :  [0.46       0.37254902 0.47058824 0.41176471 0.37254902 0.29411765\n",
      " 0.47058824 0.41176471 0.39215686 0.38      ]\n",
      "recall - Mean - Cross Validation :  0.4036078431372549\n",
      "recall - Std - Cross Validation  :  0.05185725535272943\n",
      "recall - Range of Test-Set       :  0.35175058778452545 - 0.45546509848998434\n",
      "--------------------------------------------------\n",
      "best model: rf_model\n",
      "cross-val mean: 0.4056470588235294\n"
     ]
    }
   ],
   "source": [
    "# checking cross validation score\n",
    "cv_log_model = cross_val_score(log_model, X_train, y_train, cv=skfold, scoring=\"recall\")\n",
    "cv_svm_model = cross_val_score(svm_model, X_train, y_train, cv=skfold, scoring=\"recall\")\n",
    "cv_dt_model = cross_val_score(dt_model, X_train, y_train, cv=skfold, scoring=\"recall\")\n",
    "cv_rf_model = cross_val_score(rf_model, X_train, y_train, cv=skfold, scoring=\"recall\")\n",
    "cv_knn_model = cross_val_score(knn_model, X_train, y_train, cv=skfold, scoring=\"recall\")\n",
    "cv_nb_model = cross_val_score(nb_model, X_train, y_train, cv=skfold, scoring=\"recall\")\n",
    "cv_ada_model = cross_val_score(ada_model, X_train, y_train, cv=skfold, scoring=\"recall\")\n",
    "name_model = []\n",
    "cv_scores=0\n",
    "for cv,name in zip([cv_log_model,cv_svm_model,cv_dt_model,cv_rf_model,cv_knn_model,cv_nb_model,cv_ada_model],['log_model','svm_model','dt_model','rf_model','knn_model','nb_model','ada_model']):\n",
    "    print(name)\n",
    "    print('recall - All - Cross Validation  : ', cv)\n",
    "    print('recall - Mean - Cross Validation : ', cv.mean())\n",
    "    print('recall - Std - Cross Validation  : ', cv.std())\n",
    "    print('recall - Range of Test-Set       : ', (cv.mean()-cv.std()) , '-', (cv.mean()+cv.std()))\n",
    "    print('-'*50)\n",
    "    if cv.mean()>cv_scores:\n",
    "        cv_scores = cv.mean()\n",
    "        name_model = name\n",
    "    else:\n",
    "        pass\n",
    "print('best model:', name_model)\n",
    "print('cross-val mean:', cv_scores)"
   ]
  },
  {
   "attachments": {},
   "cell_type": "markdown",
   "metadata": {},
   "source": [
    "Our cross validation comparison results the best model is rf_model or Random Forest Classifier model with the mean of recall is 0.40. After we get the best model, we will focus on this one for further in the notebook. To get a record of the baseline model metric score, we will do the normal fit and predict without cross validation."
   ]
  },
  {
   "attachments": {},
   "cell_type": "markdown",
   "metadata": {},
   "source": [
    "## Baseline Random Forest Classifier"
   ]
  },
  {
   "cell_type": "code",
   "execution_count": 58,
   "metadata": {},
   "outputs": [
    {
     "data": {
      "text/plain": [
       "RandomForestClassifier(random_state=169)"
      ]
     },
     "execution_count": 58,
     "metadata": {},
     "output_type": "execute_result"
    }
   ],
   "source": [
    "# Baseline Model using Random Forest Algorithm\n",
    "\n",
    "rf_model = RandomForestClassifier(random_state=169)\n",
    "rf_model.fit(X_train_final, y_train)"
   ]
  },
  {
   "cell_type": "code",
   "execution_count": 59,
   "metadata": {},
   "outputs": [
    {
     "name": "stdout",
     "output_type": "stream",
     "text": [
      "Recall Score - Train Set  :  0.6830708661417323 \n",
      "\n",
      "Classification Report : \n",
      "               precision    recall  f1-score   support\n",
      "\n",
      "           0       0.92      0.98      0.95      1851\n",
      "           1       0.92      0.68      0.78       508\n",
      "\n",
      "    accuracy                           0.92      2359\n",
      "   macro avg       0.92      0.83      0.87      2359\n",
      "weighted avg       0.92      0.92      0.91      2359\n",
      " \n",
      "\n",
      "Confusion Matrix      : \n",
      " <sklearn.metrics._plot.confusion_matrix.ConfusionMatrixDisplay object at 0x00000218D2BC2130>\n"
     ]
    },
    {
     "data": {
      "image/png": "[encoded data removed]",
      "text/plain": [
       "<Figure size 640x480 with 2 Axes>"
      ]
     },
     "metadata": {},
     "output_type": "display_data"
    }
   ],
   "source": [
    "# Check Performance Model against Train-Set\n",
    "\n",
    "y_pred_train = rf_model.predict(X_train_final)\n",
    "\n",
    "print('Recall Score - Train Set  : ', recall_score(y_train, y_pred_train), '\\n')\n",
    "print('Classification Report : \\n', classification_report(y_train, y_pred_train), '\\n')\n",
    "print('Confusion Matrix      : \\n', ConfusionMatrixDisplay.from_estimator(rf_model, X_train_final, y_train, cmap='Reds'))"
   ]
  },
  {
   "cell_type": "code",
   "execution_count": 60,
   "metadata": {},
   "outputs": [
    {
     "name": "stdout",
     "output_type": "stream",
     "text": [
      "Recall Score - Test Set  :  0.4094488188976378 \n",
      "\n",
      "Classification Report : \n",
      "               precision    recall  f1-score   support\n",
      "\n",
      "           0       0.85      0.91      0.88       466\n",
      "           1       0.55      0.41      0.47       127\n",
      "\n",
      "    accuracy                           0.80       593\n",
      "   macro avg       0.70      0.66      0.67       593\n",
      "weighted avg       0.78      0.80      0.79       593\n",
      " \n",
      "\n",
      "Confusion Matrix      : \n",
      " <sklearn.metrics._plot.confusion_matrix.ConfusionMatrixDisplay object at 0x00000218D2AB5FA0>\n"
     ]
    },
    {
     "data": {
      "image/png": "[encoded data removed]",
      "text/plain": [
       "<Figure size 640x480 with 2 Axes>"
      ]
     },
     "metadata": {},
     "output_type": "display_data"
    }
   ],
   "source": [
    "# Check Performance Model against Test-Set\n",
    "\n",
    "y_pred_test = rf_model.predict(X_test_final)\n",
    "\n",
    "print('Recall Score - Test Set  : ', recall_score(y_test, y_pred_test), '\\n')\n",
    "print('Classification Report : \\n', classification_report(y_test, y_pred_test), '\\n')\n",
    "print('Confusion Matrix      : \\n', ConfusionMatrixDisplay.from_estimator(rf_model, X_test_final, y_test, cmap='Reds'))"
   ]
  },
  {
   "cell_type": "code",
   "execution_count": 61,
   "metadata": {},
   "outputs": [
    {
     "data": {
      "text/html": [
       "<div>\n",
       "<style scoped>\n",
       "    .dataframe tbody tr th:only-of-type {\n",
       "        vertical-align: middle;\n",
       "    }\n",
       "\n",
       "    .dataframe tbody tr th {\n",
       "        vertical-align: top;\n",
       "    }\n",
       "\n",
       "    .dataframe thead th {\n",
       "        text-align: right;\n",
       "    }\n",
       "</style>\n",
       "<table border=\"1\" class=\"dataframe\">\n",
       "  <thead>\n",
       "    <tr style=\"text-align: right;\">\n",
       "      <th></th>\n",
       "      <th>Baseline (Default Hyperparameter)</th>\n",
       "    </tr>\n",
       "  </thead>\n",
       "  <tbody>\n",
       "    <tr>\n",
       "      <th>test - accuracy_score</th>\n",
       "      <td>0.801012</td>\n",
       "    </tr>\n",
       "    <tr>\n",
       "      <th>test - f1_score</th>\n",
       "      <td>0.468468</td>\n",
       "    </tr>\n",
       "    <tr>\n",
       "      <th>test - precision</th>\n",
       "      <td>0.547368</td>\n",
       "    </tr>\n",
       "    <tr>\n",
       "      <th>test - recall</th>\n",
       "      <td>0.409449</td>\n",
       "    </tr>\n",
       "    <tr>\n",
       "      <th>train - accuracy</th>\n",
       "      <td>0.918610</td>\n",
       "    </tr>\n",
       "    <tr>\n",
       "      <th>train - f1_score</th>\n",
       "      <td>0.783296</td>\n",
       "    </tr>\n",
       "    <tr>\n",
       "      <th>train - precision</th>\n",
       "      <td>0.917989</td>\n",
       "    </tr>\n",
       "    <tr>\n",
       "      <th>train - recall</th>\n",
       "      <td>0.683071</td>\n",
       "    </tr>\n",
       "  </tbody>\n",
       "</table>\n",
       "</div>"
      ],
      "text/plain": [
       "                       Baseline (Default Hyperparameter)\n",
       "test - accuracy_score                           0.801012\n",
       "test - f1_score                                 0.468468\n",
       "test - precision                                0.547368\n",
       "test - recall                                   0.409449\n",
       "train - accuracy                                0.918610\n",
       "train - f1_score                                0.783296\n",
       "train - precision                               0.917989\n",
       "train - recall                                  0.683071"
      ]
     },
     "execution_count": 61,
     "metadata": {},
     "output_type": "execute_result"
    }
   ],
   "source": [
    "# Save Classification Report into a Dictionary\n",
    "\n",
    "all_reports = {}\n",
    "score_reports = {\n",
    "    'train - precision' : precision_score(y_train, y_pred_train),\n",
    "    'train - recall' : recall_score(y_train, y_pred_train),\n",
    "    'train - accuracy' : accuracy_score(y_train, y_pred_train),\n",
    "    'train - f1_score' : f1_score(y_train, y_pred_train),\n",
    "    'test - precision' : precision_score(y_test, y_pred_test),\n",
    "    'test - recall' : recall_score(y_test, y_pred_test),\n",
    "    'test - accuracy_score' : accuracy_score(y_test, y_pred_test),\n",
    "    'test - f1_score' : f1_score(y_test, y_pred_test),\n",
    "}\n",
    "all_reports['Baseline (Default Hyperparameter)'] = score_reports\n",
    "pd.DataFrame(all_reports)"
   ]
  },
  {
   "attachments": {},
   "cell_type": "markdown",
   "metadata": {},
   "source": [
    "We already stated that we want to focus on the recall score. The baseline random forest classifier model achieved 0.68 recall score on train data and 0.40 recall score on test data. Now that we get the baseline model metric scores, we can conclude that the baseline model for random forest classifier model is highly overfit for this data. This is not surprising because we know that treebased model without hyperparameter (baseline) is tend to be overfit. In the next section, we will find the best hyperparameter for the Random Forest Classifier using RandomSearchCV."
   ]
  },
  {
   "attachments": {},
   "cell_type": "markdown",
   "metadata": {},
   "source": [
    "# 8 - Parameter Tuning"
   ]
  },
  {
   "attachments": {},
   "cell_type": "markdown",
   "metadata": {},
   "source": [
    "In this section we will tune the hyperparameter for our Random Forest Classifier model. We search the best hyperparameter using RandomSearchCV. First, we define the randomizer for the RandomSearchCV and then we will fit the model to the training data to find the best hyperparameter.  "
   ]
  },
  {
   "cell_type": "code",
   "execution_count": 62,
   "metadata": {},
   "outputs": [
    {
     "data": {
      "text/plain": [
       "{'n_estimators': [200, 400, 600, 800, 1000, 1200, 1400, 1600, 1800, 2000],\n",
       " 'max_features': ['auto', 'sqrt', 'log2'],\n",
       " 'max_depth': [10, 120, 230, 340, 450, 560, 670, 780, 890, 1000],\n",
       " 'min_samples_split': [2, 5, 10, 14],\n",
       " 'min_samples_leaf': [1, 2, 4, 6, 8],\n",
       " 'criterion': ['entropy', 'gini']}"
      ]
     },
     "execution_count": 62,
     "metadata": {},
     "output_type": "execute_result"
    }
   ],
   "source": [
    "# Hyperparameter Tuning : Random Search\n",
    "\n",
    "# Define Hyperparameters\n",
    "n_estimators = [int(x) for x in np.linspace(start=200, stop=2000, num = 10)]\n",
    "max_features = ['auto', 'sqrt', 'log2']\n",
    "max_depth = [int(x) for x in np.linspace(10, 1000, 10)]\n",
    "min_samples_split = [2, 5, 10, 14]\n",
    "min_samples_leaf = [1, 2, 4, 6, 8]\n",
    "random_grid = {'n_estimators': n_estimators,\n",
    "               'max_features':max_features,\n",
    "               'max_depth':max_depth,\n",
    "               'min_samples_split':min_samples_split,\n",
    "               'min_samples_leaf':min_samples_leaf,\n",
    "               'criterion':['entropy','gini']}\n",
    "random_grid"
   ]
  },
  {
   "attachments": {},
   "cell_type": "markdown",
   "metadata": {},
   "source": [
    "Here, we can see the parameters that will be trialled randomly by our model. Next, we fit the train data using the parameters defined. "
   ]
  },
  {
   "cell_type": "code",
   "execution_count": 63,
   "metadata": {},
   "outputs": [
    {
     "data": {
      "text/plain": [
       "RandomizedSearchCV(cv=5, estimator=RandomForestClassifier(random_state=69),\n",
       "                   n_iter=50, n_jobs=-1,\n",
       "                   param_distributions={'criterion': ['entropy', 'gini'],\n",
       "                                        'max_depth': [10, 120, 230, 340, 450,\n",
       "                                                      560, 670, 780, 890,\n",
       "                                                      1000],\n",
       "                                        'max_features': ['auto', 'sqrt',\n",
       "                                                         'log2'],\n",
       "                                        'min_samples_leaf': [1, 2, 4, 6, 8],\n",
       "                                        'min_samples_split': [2, 5, 10, 14],\n",
       "                                        'n_estimators': [200, 400, 600, 800,\n",
       "                                                         1000, 1200, 1400, 1600,\n",
       "                                                         1800, 2000]},\n",
       "                   random_state=46, scoring='recall')"
      ]
     },
     "execution_count": 63,
     "metadata": {},
     "output_type": "execute_result"
    }
   ],
   "source": [
    "# Train with Random Search\n",
    "\n",
    "rf_randomcv = RandomizedSearchCV(estimator=RandomForestClassifier(random_state=69), \n",
    "                                 param_distributions=random_grid,\n",
    "                                 n_iter=50,\n",
    "                                 cv=5, \n",
    "                                 random_state=46, \n",
    "                                 n_jobs=-1, \n",
    "                                 scoring='recall')\n",
    "rf_randomcv.fit(X_train_final, y_train)"
   ]
  },
  {
   "cell_type": "code",
   "execution_count": 64,
   "metadata": {},
   "outputs": [
    {
     "data": {
      "text/plain": [
       "{'n_estimators': 200,\n",
       " 'min_samples_split': 2,\n",
       " 'min_samples_leaf': 4,\n",
       " 'max_features': 'auto',\n",
       " 'max_depth': 10,\n",
       " 'criterion': 'entropy'}"
      ]
     },
     "execution_count": 64,
     "metadata": {},
     "output_type": "execute_result"
    }
   ],
   "source": [
    "# Get Best Hyperparameters\n",
    "\n",
    "rf_randomcv.best_params_"
   ]
  },
  {
   "attachments": {},
   "cell_type": "markdown",
   "metadata": {},
   "source": [
    "Here, we can see the best hyperparameter after using the RandomSearchCV. The best parameters that we get are:\n",
    "- 'n_estimators': 200,\n",
    "- 'min_samples_split': 2,\n",
    "- 'min_samples_leaf': 4,\n",
    "- 'max_features': 'auto',\n",
    "- 'max_depth': 10,\n",
    "- 'criterion': 'entropy'"
   ]
  },
  {
   "cell_type": "code",
   "execution_count": 65,
   "metadata": {},
   "outputs": [
    {
     "data": {
      "text/plain": [
       "RandomForestClassifier(criterion='entropy', max_depth=10, min_samples_leaf=4,\n",
       "                       n_estimators=200, random_state=69)"
      ]
     },
     "execution_count": 65,
     "metadata": {},
     "output_type": "execute_result"
    }
   ],
   "source": [
    "# Get Best Estimator\n",
    "\n",
    "rf_randomcv_best = rf_randomcv.best_estimator_\n",
    "rf_randomcv_best"
   ]
  },
  {
   "attachments": {},
   "cell_type": "markdown",
   "metadata": {},
   "source": [
    "# 9 - Model Evaluation"
   ]
  },
  {
   "attachments": {},
   "cell_type": "markdown",
   "metadata": {},
   "source": [
    "After we get best estimator, we use the model with the best hyperparameters to predict on train and test data."
   ]
  },
  {
   "cell_type": "code",
   "execution_count": 66,
   "metadata": {},
   "outputs": [
    {
     "name": "stdout",
     "output_type": "stream",
     "text": [
      "Recall Score - Train Set   :  0.43700787401574803 \n",
      "\n",
      "Classification Report : \n",
      "               precision    recall  f1-score   support\n",
      "\n",
      "           0       0.86      0.96      0.91      1851\n",
      "           1       0.77      0.44      0.56       508\n",
      "\n",
      "    accuracy                           0.85      2359\n",
      "   macro avg       0.82      0.70      0.73      2359\n",
      "weighted avg       0.84      0.85      0.83      2359\n",
      " \n",
      "\n",
      "Confusion Matrix      : \n",
      " <sklearn.metrics._plot.confusion_matrix.ConfusionMatrixDisplay object at 0x00000218D2B41610>\n"
     ]
    },
    {
     "data": {
      "image/png": "[encoded data removed]",
      "text/plain": [
       "<Figure size 640x480 with 2 Axes>"
      ]
     },
     "metadata": {},
     "output_type": "display_data"
    }
   ],
   "source": [
    "# Check Performance Model against Train-Set\n",
    "\n",
    "y_pred_train_best = rf_randomcv_best.predict(X_train_final)\n",
    "\n",
    "print('Recall Score - Train Set   : ', recall_score(y_train, y_pred_train_best), '\\n')\n",
    "print('Classification Report : \\n', classification_report(y_train, y_pred_train_best), '\\n')\n",
    "print('Confusion Matrix      : \\n', ConfusionMatrixDisplay.from_estimator(rf_randomcv_best, X_train_final, y_train))"
   ]
  },
  {
   "cell_type": "code",
   "execution_count": 67,
   "metadata": {},
   "outputs": [
    {
     "name": "stdout",
     "output_type": "stream",
     "text": [
      "Recall Score - Test Set   :  0.4409448818897638 \n",
      "\n",
      "Classification Report : \n",
      "               precision    recall  f1-score   support\n",
      "\n",
      "           0       0.86      0.94      0.90       466\n",
      "           1       0.67      0.44      0.53       127\n",
      "\n",
      "    accuracy                           0.83       593\n",
      "   macro avg       0.77      0.69      0.72       593\n",
      "weighted avg       0.82      0.83      0.82       593\n",
      " \n",
      "\n",
      "Confusion Matrix      : \n",
      " <sklearn.metrics._plot.confusion_matrix.ConfusionMatrixDisplay object at 0x00000218D1A660D0>\n"
     ]
    },
    {
     "data": {
      "image/png": "[encoded data removed]",
      "text/plain": [
       "<Figure size 640x480 with 2 Axes>"
      ]
     },
     "metadata": {},
     "output_type": "display_data"
    }
   ],
   "source": [
    "# Check Performance Model against Test-Set\n",
    "\n",
    "y_pred_test_best = rf_randomcv_best.predict(X_test_final)\n",
    "\n",
    "print('Recall Score - Test Set   : ', recall_score(y_test, y_pred_test_best), '\\n')\n",
    "print('Classification Report : \\n', classification_report(y_test, y_pred_test_best), '\\n')\n",
    "print('Confusion Matrix      : \\n', ConfusionMatrixDisplay.from_estimator(rf_randomcv_best, X_test_final, y_test))"
   ]
  },
  {
   "cell_type": "code",
   "execution_count": 68,
   "metadata": {},
   "outputs": [
    {
     "data": {
      "text/html": [
       "<div>\n",
       "<style scoped>\n",
       "    .dataframe tbody tr th:only-of-type {\n",
       "        vertical-align: middle;\n",
       "    }\n",
       "\n",
       "    .dataframe tbody tr th {\n",
       "        vertical-align: top;\n",
       "    }\n",
       "\n",
       "    .dataframe thead th {\n",
       "        text-align: right;\n",
       "    }\n",
       "</style>\n",
       "<table border=\"1\" class=\"dataframe\">\n",
       "  <thead>\n",
       "    <tr style=\"text-align: right;\">\n",
       "      <th></th>\n",
       "      <th>Baseline (Default Hyperparameter)</th>\n",
       "      <th>Random Search</th>\n",
       "    </tr>\n",
       "  </thead>\n",
       "  <tbody>\n",
       "    <tr>\n",
       "      <th>train - precision</th>\n",
       "      <td>0.917989</td>\n",
       "      <td>0.770833</td>\n",
       "    </tr>\n",
       "    <tr>\n",
       "      <th>train - recall</th>\n",
       "      <td>0.683071</td>\n",
       "      <td>0.437008</td>\n",
       "    </tr>\n",
       "    <tr>\n",
       "      <th>train - accuracy</th>\n",
       "      <td>0.918610</td>\n",
       "      <td>0.850784</td>\n",
       "    </tr>\n",
       "    <tr>\n",
       "      <th>train - f1_score</th>\n",
       "      <td>0.783296</td>\n",
       "      <td>0.557789</td>\n",
       "    </tr>\n",
       "    <tr>\n",
       "      <th>test - precision</th>\n",
       "      <td>0.547368</td>\n",
       "      <td>0.674699</td>\n",
       "    </tr>\n",
       "    <tr>\n",
       "      <th>test - recall</th>\n",
       "      <td>0.409449</td>\n",
       "      <td>0.440945</td>\n",
       "    </tr>\n",
       "    <tr>\n",
       "      <th>test - accuracy_score</th>\n",
       "      <td>0.801012</td>\n",
       "      <td>0.834739</td>\n",
       "    </tr>\n",
       "    <tr>\n",
       "      <th>test - f1_score</th>\n",
       "      <td>0.468468</td>\n",
       "      <td>0.533333</td>\n",
       "    </tr>\n",
       "  </tbody>\n",
       "</table>\n",
       "</div>"
      ],
      "text/plain": [
       "                       Baseline (Default Hyperparameter)  Random Search\n",
       "train - precision                               0.917989       0.770833\n",
       "train - recall                                  0.683071       0.437008\n",
       "train - accuracy                                0.918610       0.850784\n",
       "train - f1_score                                0.783296       0.557789\n",
       "test - precision                                0.547368       0.674699\n",
       "test - recall                                   0.409449       0.440945\n",
       "test - accuracy_score                           0.801012       0.834739\n",
       "test - f1_score                                 0.468468       0.533333"
      ]
     },
     "execution_count": 68,
     "metadata": {},
     "output_type": "execute_result"
    }
   ],
   "source": [
    "# Save Classification Report into a Dictionary\n",
    "\n",
    "score_reports = {\n",
    "    'train - precision' : precision_score(y_train, y_pred_train_best),\n",
    "    'train - recall' : recall_score(y_train, y_pred_train_best),\n",
    "    'train - accuracy' : accuracy_score(y_train, y_pred_train_best),\n",
    "    'train - f1_score' : f1_score(y_train, y_pred_train_best),\n",
    "    'test - precision' : precision_score(y_test, y_pred_test_best),\n",
    "    'test - recall' : recall_score(y_test, y_pred_test_best),\n",
    "    'test - accuracy_score' : accuracy_score(y_test, y_pred_test_best),\n",
    "    'test - f1_score' : f1_score(y_test, y_pred_test_best),\n",
    "}\n",
    "all_reports['Random Search'] = score_reports\n",
    "pd.DataFrame(all_reports)"
   ]
  },
  {
   "attachments": {},
   "cell_type": "markdown",
   "metadata": {},
   "source": [
    "After we use the model with the best hyperparameter tuned and searched using RandomSearchCV, we use the model to predict on the train and test data. As stated before, we are focusing on the recall score for a specific reason. The tuned model achieved 0.43 recall score on the train data and 0.44 recall score on the test data. We can see the result of the tuned model is not overfit like the baseline model. "
   ]
  },
  {
   "attachments": {},
   "cell_type": "markdown",
   "metadata": {},
   "source": [
    "# 10 - Conclusion"
   ]
  },
  {
   "attachments": {},
   "cell_type": "markdown",
   "metadata": {},
   "source": [
    "Based on what we have done in this notebook, we can get some conclusion:\n",
    "\n",
    "1. **The dataset is about credit card default payment** with **imbalanced target classes** (minority class (default/'1') only 21% of all classes). \n",
    "\n",
    "2. In this model creation we are **focusing** our metrics on **recall score** because ideally, we don't want any defaults to falls through the cracks (default customers predicted as non default), so our optimal model will **minimize the False Negatives** which means **Recall score as high as possible**.\n",
    "\n",
    "3. After comparing 7 baseline model (logistic regression, SVM classifier, Decision Tree classifier, Random Forest Classifier, KNN Classifier, Naive Bayes , and Adaboost Classifier) using cross validation, we get **the best baseline model which is Random Forest Classifier** with **mean recall score 0.39**.\n",
    "\n",
    "4. We used the best model according to the cross validation comparison (**Random Forest Classifier**) to be **tuned further using RandomSearchCV**. We get the best hyperparameter for this model which is:\n",
    "    - 'n_estimators': 200,\n",
    "    - 'min_samples_split': 2,\n",
    "    - 'min_samples_leaf': 4,\n",
    "    - 'max_features': 'auto',\n",
    "    - 'max_depth': 10,\n",
    "    - 'criterion': 'entropy'\n",
    "\n",
    "5. We compared the baseline Random Forest Classifier model and the tuned Random Forest Classifier model score. **The baseline model is highly overfit** because we know the **baseline of treebased model** is tend to have high **recall score (0.7)** on train data and low **recall score (0.40)** on the test data (**overfit**). On the other hand, **the tuned model is not overfit like the baseline model**. The tuned model achieve almost the same score on recall on both train and data test. For tuned model, **the train recall score is 0.437** and **the test recall score is 0.440**. The train and test score is very close which means **the tuned model is best fit for the dataset**. Although **the score is quite low**, it is probably **caused by the imbalance of our target** class on the dataset."
   ]
  },
  {
   "attachments": {},
   "cell_type": "markdown",
   "metadata": {},
   "source": [
    "# 11 - Model Saving"
   ]
  },
  {
   "cell_type": "code",
   "execution_count": 69,
   "metadata": {},
   "outputs": [],
   "source": [
    "# Model Saving\n",
    "\n",
    "\n",
    "with open('model_scaler.pkl', 'wb') as file_1:\n",
    "  pickle.dump(scaler, file_1)\n",
    "\n",
    "with open('model_rf_best.pkl', 'wb') as file_2:\n",
    "  pickle.dump(rf_randomcv_best, file_2)\n",
    "\n",
    "with open('list_num_columns.txt', 'w') as file_3:\n",
    "  file_3.write(str(num_columns))\n",
    "\n",
    "with open('list_cat_columns.txt', 'w') as file_4:\n",
    "  file_4.write(str(cat_columns))"
   ]
  },
  {
   "attachments": {},
   "cell_type": "markdown",
   "metadata": {},
   "source": [
    "# Conceptual Problems"
   ]
  },
  {
   "attachments": {},
   "cell_type": "markdown",
   "metadata": {},
   "source": [
    "**Question 1**\n",
    "\n",
    "Apa yang dimaksud dengan criterion pada Decision Tree ? Jelaskan criterion yang kalian pakai dalam kasus ini!\n",
    "\n",
    "**Answer 1**\n",
    "\n",
    "Criterion is a function that measures the quality of a split in the tree. The goal of the criterion is to minimize the impurity or the error of the tree by selecting the best split at each node. There are 3 criterion that can be chosen, gini, entropy, and log_loss."
   ]
  },
  {
   "attachments": {},
   "cell_type": "markdown",
   "metadata": {},
   "source": [
    "**Question 2**\n",
    "\n",
    "Jelaskan apa yang dimaksud dengan pruning pada Tree-based model (alasan, definisi, jenis, dll)!\n",
    "\n",
    "**Answer 2**\n",
    "\n",
    "Pruning is a process of removing branches from a tree based model. The more the branches, the more complex the model will be. By reducing branches the model will reduce the complexity and the classifier will be more general. It is one of the way to reduce overfitting in tree based model. There are two types of pruning, Pre-pruning and post-pruning. Prepruning is the process of stopping the tree growing process by setting a stopping condition or maximum tree depth. Pre-pruning can be done by setting the hyperparameter for the model. Post-pruning is the process of removing branches from a finished tree model. It is done after the model has been built. By removing branches will increase the generalization of the model."
   ]
  },
  {
   "attachments": {},
   "cell_type": "markdown",
   "metadata": {},
   "source": [
    "**Question 3**\n",
    "\n",
    "Bagaimana cara memilih K yang optimal pada KNN?\n",
    "\n",
    "**Answer 3**\n",
    "\n",
    "To choose the optimal value of K for KNN model, we can use the elbow method. Elbow method is a graphical representation of the performance of the model for different values of k. It plots the value of k against the error rate, and the optimal value of k is chosen at the point of maximum change or \"elbow\" in the graph. "
   ]
  },
  {
   "attachments": {},
   "cell_type": "markdown",
   "metadata": {},
   "source": [
    "**Question 4**\n",
    "\n",
    "Jelaskan apa yang dimaksud dengan Cross Validation!\n",
    "\n",
    "**Answer 4**\n",
    "\n",
    "Cross validation is a technique used to evaluate the performance of a model by dividing the originial training data into training and testing set (validation set). The goal of cross validation is to estimate the performance of the model on a new data because the output of cross validation is several model score based on the number of fold chosen."
   ]
  },
  {
   "attachments": {},
   "cell_type": "markdown",
   "metadata": {},
   "source": [
    "**Question 5**\n",
    "\n",
    "Apa yang dimaksud dengan metrics-metrics berikut : Accuracy, Precision, Recall, F1 Score, dan kapan waktu yang tepat untuk menggunakannya ?\n",
    "\n",
    "**Answer 5**\n",
    "\n",
    "Accuracy, precision, recall, and f1-score are metrics that is used by classification model.\n",
    "- Accuracy is a metric that calculates the proportion of correct predictions made by the model out of all prediction made. It is defined as the ratio of correct predictions to total predictions. Accuracy is best used when the class target is balanced.\n",
    "\n",
    "- Precision is a metric that calculates the proportion of true positive predictions made by the model out of all positive predictions made. It is defined as the ratio of true positives to true postitives plus false positives. Precision is best used when the cost of false positive is high such as in a medical diagnosis (to measure the proportion of true positives among all patients who have been diagnosd with a disease). Precision also best used when the class is imbalance. Precision can be a good measure for the minority class.\n",
    "\n",
    "- Recall is a metric that calculates the porportion of true positive predictions made by the model out of all actual positive observations. It is defined as the ratio of true positives to true positives plus false negatives. Recall is best used when the cost of false negative is high such as in fraud detection (to measure the proportion of fraud cases that are correctly identified by the model among all actual fraud cases). Recall also best used when the class is imbalance. Recall can be a good measure for the minority class.\n",
    "\n",
    "- f1-score is the harmonic mean of precision and recall. f1-score usually used to balance the trade-off between precision and recall. It is defined as 2*(precision*recall)/(precision+recall). f1-score is best used when the cost of false positive and false negative are equal. f1-score can also be used when the class is imbalance. f1-score can be used to balance the weight of precision and recall."
   ]
  }
 ],
 "metadata": {
  "kernelspec": {
   "display_name": "base",
   "language": "python",
   "name": "python3"
  },
  "language_info": {
   "codemirror_mode": {
    "name": "ipython",
    "version": 3
   },
   "file_extension": ".py",
   "mimetype": "text/x-python",
   "name": "python",
   "nbconvert_exporter": "python",
   "pygments_lexer": "ipython3",
   "version": "3.9.13"
  },
  "orig_nbformat": 4,
  "vscode": {
   "interpreter": {
    "hash": "70d40c814c465a2abb985f7d3a31c4e5a1b088d46c5ac4c31dafea251987af85"
   }
  }
 },
 "nbformat": 4,
 "nbformat_minor": 2
}
